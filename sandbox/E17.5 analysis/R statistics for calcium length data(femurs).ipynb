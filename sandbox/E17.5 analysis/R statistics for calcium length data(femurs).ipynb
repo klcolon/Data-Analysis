{
 "cells": [
  {
   "cell_type": "markdown",
   "metadata": {},
   "source": [
    "### In this notebook, we will perform statistics on the normalized calcium values generated from python."
   ]
  },
  {
   "cell_type": "code",
   "execution_count": 1,
   "metadata": {},
   "outputs": [
    {
     "data": {
      "text/html": [
       "'C:/Users/mkmve/Python_Notebook'"
      ],
      "text/latex": [
       "'C:/Users/mkmve/Python\\_Notebook'"
      ],
      "text/markdown": [
       "'C:/Users/mkmve/Python_Notebook'"
      ],
      "text/plain": [
       "[1] \"C:/Users/mkmve/Python_Notebook\""
      ]
     },
     "metadata": {},
     "output_type": "display_data"
    }
   ],
   "source": [
    "#Check to see what directory you are in\n",
    "getwd()"
   ]
  },
  {
   "cell_type": "code",
   "execution_count": 2,
   "metadata": {},
   "outputs": [
    {
     "data": {
      "text/html": [
       "<table>\n",
       "<thead><tr><th scope=col>X</th><th scope=col>ecdf</th><th scope=col>Label</th><th scope=col>Values</th><th scope=col>location</th><th scope=col>ID</th><th scope=col>Normalized.Calcium</th></tr></thead>\n",
       "<tbody>\n",
       "\t<tr><td>0                 </td><td>0.02631579        </td><td>PBS               </td><td>0.046             </td><td>left femur calcium</td><td>22B               </td><td>0.2254902         </td></tr>\n",
       "\t<tr><td>1                 </td><td>0.05263158        </td><td>PBS               </td><td>0.075             </td><td>left femur calcium</td><td>22D               </td><td>0.3472222         </td></tr>\n",
       "\t<tr><td>2                 </td><td>0.07894737        </td><td>PBS               </td><td>0.078             </td><td>left femur calcium</td><td>22H               </td><td>0.3611111         </td></tr>\n",
       "\t<tr><td>3                 </td><td>0.10526316        </td><td>PBS               </td><td>0.081             </td><td>left femur calcium</td><td>27G               </td><td>0.3681818         </td></tr>\n",
       "\t<tr><td>4                 </td><td>0.13157895        </td><td>PBS               </td><td>0.085             </td><td>left femur calcium</td><td>27H               </td><td>0.3846154         </td></tr>\n",
       "\t<tr><td>5                 </td><td>0.15789474        </td><td>PBS               </td><td>0.086             </td><td>left femur calcium</td><td>31A               </td><td>0.3891403         </td></tr>\n",
       "</tbody>\n",
       "</table>\n"
      ],
      "text/latex": [
       "\\begin{tabular}{r|lllllll}\n",
       " X & ecdf & Label & Values & location & ID & Normalized.Calcium\\\\\n",
       "\\hline\n",
       "\t 0                  & 0.02631579         & PBS                & 0.046              & left femur calcium & 22B                & 0.2254902         \\\\\n",
       "\t 1                  & 0.05263158         & PBS                & 0.075              & left femur calcium & 22D                & 0.3472222         \\\\\n",
       "\t 2                  & 0.07894737         & PBS                & 0.078              & left femur calcium & 22H                & 0.3611111         \\\\\n",
       "\t 3                  & 0.10526316         & PBS                & 0.081              & left femur calcium & 27G                & 0.3681818         \\\\\n",
       "\t 4                  & 0.13157895         & PBS                & 0.085              & left femur calcium & 27H                & 0.3846154         \\\\\n",
       "\t 5                  & 0.15789474         & PBS                & 0.086              & left femur calcium & 31A                & 0.3891403         \\\\\n",
       "\\end{tabular}\n"
      ],
      "text/markdown": [
       "\n",
       "| X | ecdf | Label | Values | location | ID | Normalized.Calcium |\n",
       "|---|---|---|---|---|---|---|\n",
       "| 0                  | 0.02631579         | PBS                | 0.046              | left femur calcium | 22B                | 0.2254902          |\n",
       "| 1                  | 0.05263158         | PBS                | 0.075              | left femur calcium | 22D                | 0.3472222          |\n",
       "| 2                  | 0.07894737         | PBS                | 0.078              | left femur calcium | 22H                | 0.3611111          |\n",
       "| 3                  | 0.10526316         | PBS                | 0.081              | left femur calcium | 27G                | 0.3681818          |\n",
       "| 4                  | 0.13157895         | PBS                | 0.085              | left femur calcium | 27H                | 0.3846154          |\n",
       "| 5                  | 0.15789474         | PBS                | 0.086              | left femur calcium | 31A                | 0.3891403          |\n",
       "\n"
      ],
      "text/plain": [
       "  X ecdf       Label Values location           ID  Normalized.Calcium\n",
       "1 0 0.02631579 PBS   0.046  left femur calcium 22B 0.2254902         \n",
       "2 1 0.05263158 PBS   0.075  left femur calcium 22D 0.3472222         \n",
       "3 2 0.07894737 PBS   0.078  left femur calcium 22H 0.3611111         \n",
       "4 3 0.10526316 PBS   0.081  left femur calcium 27G 0.3681818         \n",
       "5 4 0.13157895 PBS   0.085  left femur calcium 27H 0.3846154         \n",
       "6 5 0.15789474 PBS   0.086  left femur calcium 31A 0.3891403         "
      ]
     },
     "metadata": {},
     "output_type": "display_data"
    }
   ],
   "source": [
    "#read in csv\n",
    "left_femur_normalized <- read.csv(\"left_femur_normalized_calcium.csv\")\n",
    "right_femur_normalized <- read.csv(\"right_femur_normalized_calcium.csv\")\n",
    "comb_femurs_normalized <- read.csv(\"combined_femurs_normalized.csv\")\n",
    "head(left_femur_normalized)"
   ]
  },
  {
   "cell_type": "code",
   "execution_count": 3,
   "metadata": {},
   "outputs": [
    {
     "data": {
      "text/html": [
       "<table>\n",
       "<thead><tr><th scope=col>X</th><th scope=col>ecdf</th><th scope=col>Label</th><th scope=col>Values</th><th scope=col>location</th><th scope=col>ID</th><th scope=col>Normalized.Calcium</th></tr></thead>\n",
       "<tbody>\n",
       "\t<tr><td>0                  </td><td>0.02631579         </td><td>PBS                </td><td>0.075              </td><td>right femur calcium</td><td>22B                </td><td>0.3488372          </td></tr>\n",
       "\t<tr><td>1                  </td><td>0.05263158         </td><td>PBS                </td><td>0.076              </td><td>right femur calcium</td><td>22D                </td><td>0.3261803          </td></tr>\n",
       "\t<tr><td>2                  </td><td>0.07894737         </td><td>PBS                </td><td>0.079              </td><td>right femur calcium</td><td>22H                </td><td>0.3390558          </td></tr>\n",
       "\t<tr><td>3                  </td><td>0.10526316         </td><td>PBS                </td><td>0.083              </td><td>right femur calcium</td><td>27G                </td><td>0.3547009          </td></tr>\n",
       "\t<tr><td>4                  </td><td>0.13157895         </td><td>PBS                </td><td>0.084              </td><td>right femur calcium</td><td>27H                </td><td>0.3574468          </td></tr>\n",
       "\t<tr><td>5                  </td><td>0.15789474         </td><td>PBS                </td><td>0.091              </td><td>right femur calcium</td><td>31A                </td><td>0.3839662          </td></tr>\n",
       "</tbody>\n",
       "</table>\n"
      ],
      "text/latex": [
       "\\begin{tabular}{r|lllllll}\n",
       " X & ecdf & Label & Values & location & ID & Normalized.Calcium\\\\\n",
       "\\hline\n",
       "\t 0                   & 0.02631579          & PBS                 & 0.075               & right femur calcium & 22B                 & 0.3488372          \\\\\n",
       "\t 1                   & 0.05263158          & PBS                 & 0.076               & right femur calcium & 22D                 & 0.3261803          \\\\\n",
       "\t 2                   & 0.07894737          & PBS                 & 0.079               & right femur calcium & 22H                 & 0.3390558          \\\\\n",
       "\t 3                   & 0.10526316          & PBS                 & 0.083               & right femur calcium & 27G                 & 0.3547009          \\\\\n",
       "\t 4                   & 0.13157895          & PBS                 & 0.084               & right femur calcium & 27H                 & 0.3574468          \\\\\n",
       "\t 5                   & 0.15789474          & PBS                 & 0.091               & right femur calcium & 31A                 & 0.3839662          \\\\\n",
       "\\end{tabular}\n"
      ],
      "text/markdown": [
       "\n",
       "| X | ecdf | Label | Values | location | ID | Normalized.Calcium |\n",
       "|---|---|---|---|---|---|---|\n",
       "| 0                   | 0.02631579          | PBS                 | 0.075               | right femur calcium | 22B                 | 0.3488372           |\n",
       "| 1                   | 0.05263158          | PBS                 | 0.076               | right femur calcium | 22D                 | 0.3261803           |\n",
       "| 2                   | 0.07894737          | PBS                 | 0.079               | right femur calcium | 22H                 | 0.3390558           |\n",
       "| 3                   | 0.10526316          | PBS                 | 0.083               | right femur calcium | 27G                 | 0.3547009           |\n",
       "| 4                   | 0.13157895          | PBS                 | 0.084               | right femur calcium | 27H                 | 0.3574468           |\n",
       "| 5                   | 0.15789474          | PBS                 | 0.091               | right femur calcium | 31A                 | 0.3839662           |\n",
       "\n"
      ],
      "text/plain": [
       "  X ecdf       Label Values location            ID  Normalized.Calcium\n",
       "1 0 0.02631579 PBS   0.075  right femur calcium 22B 0.3488372         \n",
       "2 1 0.05263158 PBS   0.076  right femur calcium 22D 0.3261803         \n",
       "3 2 0.07894737 PBS   0.079  right femur calcium 22H 0.3390558         \n",
       "4 3 0.10526316 PBS   0.083  right femur calcium 27G 0.3547009         \n",
       "5 4 0.13157895 PBS   0.084  right femur calcium 27H 0.3574468         \n",
       "6 5 0.15789474 PBS   0.091  right femur calcium 31A 0.3839662         "
      ]
     },
     "metadata": {},
     "output_type": "display_data"
    }
   ],
   "source": [
    "head(right_femur_normalized)"
   ]
  },
  {
   "cell_type": "code",
   "execution_count": 4,
   "metadata": {},
   "outputs": [
    {
     "data": {
      "text/html": [
       "<table>\n",
       "<thead><tr><th scope=col>X</th><th scope=col>ecdf</th><th scope=col>Label</th><th scope=col>Values</th><th scope=col>ID</th></tr></thead>\n",
       "<tbody>\n",
       "\t<tr><td>0         </td><td>0.01315789</td><td>PBS       </td><td>0.2254902 </td><td>22B       </td></tr>\n",
       "\t<tr><td>1         </td><td>0.02631579</td><td>PBS       </td><td>0.3261803 </td><td>22D       </td></tr>\n",
       "\t<tr><td>2         </td><td>0.03947368</td><td>PBS       </td><td>0.3390558 </td><td>22H       </td></tr>\n",
       "\t<tr><td>3         </td><td>0.05263158</td><td>PBS       </td><td>0.3472222 </td><td>27G       </td></tr>\n",
       "\t<tr><td>4         </td><td>0.06578947</td><td>PBS       </td><td>0.3488372 </td><td>27H       </td></tr>\n",
       "\t<tr><td>5         </td><td>0.07894737</td><td>PBS       </td><td>0.3547009 </td><td>31A       </td></tr>\n",
       "</tbody>\n",
       "</table>\n"
      ],
      "text/latex": [
       "\\begin{tabular}{r|lllll}\n",
       " X & ecdf & Label & Values & ID\\\\\n",
       "\\hline\n",
       "\t 0          & 0.01315789 & PBS        & 0.2254902  & 22B       \\\\\n",
       "\t 1          & 0.02631579 & PBS        & 0.3261803  & 22D       \\\\\n",
       "\t 2          & 0.03947368 & PBS        & 0.3390558  & 22H       \\\\\n",
       "\t 3          & 0.05263158 & PBS        & 0.3472222  & 27G       \\\\\n",
       "\t 4          & 0.06578947 & PBS        & 0.3488372  & 27H       \\\\\n",
       "\t 5          & 0.07894737 & PBS        & 0.3547009  & 31A       \\\\\n",
       "\\end{tabular}\n"
      ],
      "text/markdown": [
       "\n",
       "| X | ecdf | Label | Values | ID |\n",
       "|---|---|---|---|---|\n",
       "| 0          | 0.01315789 | PBS        | 0.2254902  | 22B        |\n",
       "| 1          | 0.02631579 | PBS        | 0.3261803  | 22D        |\n",
       "| 2          | 0.03947368 | PBS        | 0.3390558  | 22H        |\n",
       "| 3          | 0.05263158 | PBS        | 0.3472222  | 27G        |\n",
       "| 4          | 0.06578947 | PBS        | 0.3488372  | 27H        |\n",
       "| 5          | 0.07894737 | PBS        | 0.3547009  | 31A        |\n",
       "\n"
      ],
      "text/plain": [
       "  X ecdf       Label Values    ID \n",
       "1 0 0.01315789 PBS   0.2254902 22B\n",
       "2 1 0.02631579 PBS   0.3261803 22D\n",
       "3 2 0.03947368 PBS   0.3390558 22H\n",
       "4 3 0.05263158 PBS   0.3472222 27G\n",
       "5 4 0.06578947 PBS   0.3488372 27H\n",
       "6 5 0.07894737 PBS   0.3547009 31A"
      ]
     },
     "metadata": {},
     "output_type": "display_data"
    }
   ],
   "source": [
    "head(comb_femurs_normalized)"
   ]
  },
  {
   "cell_type": "code",
   "execution_count": 5,
   "metadata": {},
   "outputs": [
    {
     "data": {
      "text/html": [
       "<table>\n",
       "<thead><tr><th scope=col>Label</th><th scope=col>Values</th><th scope=col>ID</th></tr></thead>\n",
       "<tbody>\n",
       "\t<tr><td>PBS      </td><td>0.2254902</td><td>22B      </td></tr>\n",
       "\t<tr><td>PBS      </td><td>0.3261803</td><td>22D      </td></tr>\n",
       "\t<tr><td>PBS      </td><td>0.3390558</td><td>22H      </td></tr>\n",
       "\t<tr><td>PBS      </td><td>0.3472222</td><td>27G      </td></tr>\n",
       "\t<tr><td>PBS      </td><td>0.3488372</td><td>27H      </td></tr>\n",
       "\t<tr><td>PBS      </td><td>0.3547009</td><td>31A      </td></tr>\n",
       "</tbody>\n",
       "</table>\n"
      ],
      "text/latex": [
       "\\begin{tabular}{r|lll}\n",
       " Label & Values & ID\\\\\n",
       "\\hline\n",
       "\t PBS       & 0.2254902 & 22B      \\\\\n",
       "\t PBS       & 0.3261803 & 22D      \\\\\n",
       "\t PBS       & 0.3390558 & 22H      \\\\\n",
       "\t PBS       & 0.3472222 & 27G      \\\\\n",
       "\t PBS       & 0.3488372 & 27H      \\\\\n",
       "\t PBS       & 0.3547009 & 31A      \\\\\n",
       "\\end{tabular}\n"
      ],
      "text/markdown": [
       "\n",
       "| Label | Values | ID |\n",
       "|---|---|---|\n",
       "| PBS       | 0.2254902 | 22B       |\n",
       "| PBS       | 0.3261803 | 22D       |\n",
       "| PBS       | 0.3390558 | 22H       |\n",
       "| PBS       | 0.3472222 | 27G       |\n",
       "| PBS       | 0.3488372 | 27H       |\n",
       "| PBS       | 0.3547009 | 31A       |\n",
       "\n"
      ],
      "text/plain": [
       "  Label Values    ID \n",
       "1 PBS   0.2254902 22B\n",
       "2 PBS   0.3261803 22D\n",
       "3 PBS   0.3390558 22H\n",
       "4 PBS   0.3472222 27G\n",
       "5 PBS   0.3488372 27H\n",
       "6 PBS   0.3547009 31A"
      ]
     },
     "metadata": {},
     "output_type": "display_data"
    }
   ],
   "source": [
    "#only take columns to perform calculations on\n",
    "left_femur_normalized_sliced <- left_femur_normalized[,c(3,6,7)]\n",
    "right_femur_normalized_sliced <- right_femur_normalized[,c(3,6,7)]\n",
    "comb_femurs_normalized_sliced <- comb_femurs_normalized[,c(3,4,5)]\n",
    "head(comb_femurs_normalized_sliced)"
   ]
  },
  {
   "cell_type": "code",
   "execution_count": 6,
   "metadata": {},
   "outputs": [
    {
     "name": "stdout",
     "output_type": "stream",
     "text": [
      "[1] \"left femur\"\n"
     ]
    },
    {
     "data": {
      "text/plain": [
       "            Df Sum Sq  Mean Sq F value  Pr(>F)   \n",
       "Label        2 0.0579 0.028952    7.24 0.00119 **\n",
       "Residuals   94 0.3759 0.003999                   \n",
       "---\n",
       "Signif. codes:  0 '***' 0.001 '**' 0.01 '*' 0.05 '.' 0.1 ' ' 1"
      ]
     },
     "metadata": {},
     "output_type": "display_data"
    },
    {
     "name": "stdout",
     "output_type": "stream",
     "text": [
      "[1] \"right femur\"\n"
     ]
    },
    {
     "data": {
      "text/plain": [
       "            Df  Sum Sq  Mean Sq F value  Pr(>F)   \n",
       "Label        2 0.03352 0.016758    6.46 0.00235 **\n",
       "Residuals   94 0.24387 0.002594                   \n",
       "---\n",
       "Signif. codes:  0 '***' 0.001 '**' 0.01 '*' 0.05 '.' 0.1 ' ' 1"
      ]
     },
     "metadata": {},
     "output_type": "display_data"
    },
    {
     "name": "stdout",
     "output_type": "stream",
     "text": [
      "[1] \"combined femurs\"\n"
     ]
    },
    {
     "data": {
      "text/plain": [
       "             Df Sum Sq Mean Sq F value   Pr(>F)    \n",
       "Label         2 0.0880 0.04398   13.47 3.36e-06 ***\n",
       "Residuals   191 0.6234 0.00326                     \n",
       "---\n",
       "Signif. codes:  0 '***' 0.001 '**' 0.01 '*' 0.05 '.' 0.1 ' ' 1"
      ]
     },
     "metadata": {},
     "output_type": "display_data"
    }
   ],
   "source": [
    "#perform one-way ANOVA\n",
    "res.aov.leftfemur <- aov(Normalized.Calcium ~ Label,\n",
    "               data = left_femur_normalized_sliced)\n",
    "\n",
    "res.aov.rightfemur <- aov(Normalized.Calcium ~ Label,\n",
    "               data = right_femur_normalized_sliced)\n",
    "\n",
    "res.aov.combfemurs <- aov(Values ~ Label,\n",
    "               data = comb_femurs_normalized_sliced)\n",
    "\n",
    "print(\"left femur\")\n",
    "summary(res.aov.leftfemur)\n",
    "print(\"right femur\")\n",
    "summary(res.aov.rightfemur)\n",
    "print(\"combined femurs\")\n",
    "summary(res.aov.combfemurs)"
   ]
  },
  {
   "cell_type": "code",
   "execution_count": 7,
   "metadata": {},
   "outputs": [
    {
     "name": "stdout",
     "output_type": "stream",
     "text": [
      "[1] \"left femur\"\n"
     ]
    },
    {
     "data": {
      "text/plain": [
       "  Tukey multiple comparisons of means\n",
       "    95% family-wise confidence level\n",
       "\n",
       "Fit: aov(formula = Normalized.Calcium ~ Label, data = left_femur_normalized_sliced)\n",
       "\n",
       "$Label\n",
       "                       diff         lwr          upr     p adj\n",
       "PBS-Camel Blue  -0.03969499 -0.07582676 -0.003563217 0.0277067\n",
       "Snus-Camel Blue  0.01803658 -0.02131626  0.057389425 0.5217146\n",
       "Snus-PBS         0.05773157  0.01982713  0.095635998 0.0013421\n"
      ]
     },
     "metadata": {},
     "output_type": "display_data"
    },
    {
     "name": "stdout",
     "output_type": "stream",
     "text": [
      "[1] \"right femur\"\n"
     ]
    },
    {
     "data": {
      "text/plain": [
       "  Tukey multiple comparisons of means\n",
       "    95% family-wise confidence level\n",
       "\n",
       "Fit: aov(formula = Normalized.Calcium ~ Label, data = right_femur_normalized_sliced)\n",
       "\n",
       "$Label\n",
       "                       diff          lwr         upr     p adj\n",
       "PBS-Camel Blue  -0.01990925 -0.049011480 0.009192988 0.2385054\n",
       "Snus-Camel Blue  0.02616224 -0.005534397 0.057858884 0.1264672\n",
       "Snus-PBS         0.04607149  0.015541469 0.076601510 0.0015004\n"
      ]
     },
     "metadata": {},
     "output_type": "display_data"
    },
    {
     "name": "stdout",
     "output_type": "stream",
     "text": [
      "[1] \"combined femurs\"\n"
     ]
    },
    {
     "data": {
      "text/plain": [
       "  Tukey multiple comparisons of means\n",
       "    95% family-wise confidence level\n",
       "\n",
       "Fit: aov(formula = Values ~ Label, data = comb_femurs_normalized_sliced)\n",
       "\n",
       "$Label\n",
       "                       diff          lwr          upr     p adj\n",
       "PBS-Camel Blue  -0.02980212 -0.052696730 -0.006907502 0.0067945\n",
       "Snus-Camel Blue  0.02209941 -0.002836212  0.047035035 0.0938691\n",
       "Snus-PBS         0.05190153  0.027883679  0.075919376 0.0000024\n"
      ]
     },
     "metadata": {},
     "output_type": "display_data"
    }
   ],
   "source": [
    "#perform Tukey's Correction\n",
    "print(\"left femur\")\n",
    "TukeyHSD(res.aov.leftfemur)\n",
    "\n",
    "print(\"right femur\")\n",
    "TukeyHSD(res.aov.rightfemur)\n",
    "\n",
    "print(\"combined femurs\")\n",
    "TukeyHSD(res.aov.combfemurs)"
   ]
  },
  {
   "cell_type": "code",
   "execution_count": 8,
   "metadata": {},
   "outputs": [
    {
     "name": "stderr",
     "output_type": "stream",
     "text": [
      "Warning message:\n",
      "\"package 'dplyr' was built under R version 3.6.3\"\n",
      "Attaching package: 'dplyr'\n",
      "\n",
      "The following objects are masked from 'package:stats':\n",
      "\n",
      "    filter, lag\n",
      "\n",
      "The following objects are masked from 'package:base':\n",
      "\n",
      "    intersect, setdiff, setequal, union\n",
      "\n"
     ]
    },
    {
     "name": "stdout",
     "output_type": "stream",
     "text": [
      "[1] \"left femur\"\n"
     ]
    },
    {
     "data": {
      "text/html": [
       "<table>\n",
       "<thead><tr><th scope=col>Label</th><th scope=col>count</th><th scope=col>mean</th><th scope=col>sd</th></tr></thead>\n",
       "<tbody>\n",
       "\t<tr><td>Camel Blue</td><td>32        </td><td>0.4616864 </td><td>0.09045224</td></tr>\n",
       "\t<tr><td>PBS       </td><td>38        </td><td>0.4219914 </td><td>0.04874733</td></tr>\n",
       "\t<tr><td>Snus      </td><td>27        </td><td>0.4797230 </td><td>0.03634790</td></tr>\n",
       "</tbody>\n",
       "</table>\n"
      ],
      "text/latex": [
       "\\begin{tabular}{r|llll}\n",
       " Label & count & mean & sd\\\\\n",
       "\\hline\n",
       "\t Camel Blue & 32         & 0.4616864  & 0.09045224\\\\\n",
       "\t PBS        & 38         & 0.4219914  & 0.04874733\\\\\n",
       "\t Snus       & 27         & 0.4797230  & 0.03634790\\\\\n",
       "\\end{tabular}\n"
      ],
      "text/markdown": [
       "\n",
       "| Label | count | mean | sd |\n",
       "|---|---|---|---|\n",
       "| Camel Blue | 32         | 0.4616864  | 0.09045224 |\n",
       "| PBS        | 38         | 0.4219914  | 0.04874733 |\n",
       "| Snus       | 27         | 0.4797230  | 0.03634790 |\n",
       "\n"
      ],
      "text/plain": [
       "  Label      count mean      sd        \n",
       "1 Camel Blue 32    0.4616864 0.09045224\n",
       "2 PBS        38    0.4219914 0.04874733\n",
       "3 Snus       27    0.4797230 0.03634790"
      ]
     },
     "metadata": {},
     "output_type": "display_data"
    },
    {
     "name": "stdout",
     "output_type": "stream",
     "text": [
      "[1] \"right femur\"\n"
     ]
    },
    {
     "data": {
      "text/html": [
       "<table>\n",
       "<thead><tr><th scope=col>Label</th><th scope=col>count</th><th scope=col>mean</th><th scope=col>sd</th></tr></thead>\n",
       "<tbody>\n",
       "\t<tr><td>Camel Blue</td><td>32        </td><td>0.4534404 </td><td>0.05972432</td></tr>\n",
       "\t<tr><td>PBS       </td><td>38        </td><td>0.4335312 </td><td>0.05059872</td></tr>\n",
       "\t<tr><td>Snus      </td><td>27        </td><td>0.4796026 </td><td>0.03851085</td></tr>\n",
       "</tbody>\n",
       "</table>\n"
      ],
      "text/latex": [
       "\\begin{tabular}{r|llll}\n",
       " Label & count & mean & sd\\\\\n",
       "\\hline\n",
       "\t Camel Blue & 32         & 0.4534404  & 0.05972432\\\\\n",
       "\t PBS        & 38         & 0.4335312  & 0.05059872\\\\\n",
       "\t Snus       & 27         & 0.4796026  & 0.03851085\\\\\n",
       "\\end{tabular}\n"
      ],
      "text/markdown": [
       "\n",
       "| Label | count | mean | sd |\n",
       "|---|---|---|---|\n",
       "| Camel Blue | 32         | 0.4534404  | 0.05972432 |\n",
       "| PBS        | 38         | 0.4335312  | 0.05059872 |\n",
       "| Snus       | 27         | 0.4796026  | 0.03851085 |\n",
       "\n"
      ],
      "text/plain": [
       "  Label      count mean      sd        \n",
       "1 Camel Blue 32    0.4534404 0.05972432\n",
       "2 PBS        38    0.4335312 0.05059872\n",
       "3 Snus       27    0.4796026 0.03851085"
      ]
     },
     "metadata": {},
     "output_type": "display_data"
    },
    {
     "name": "stdout",
     "output_type": "stream",
     "text": [
      "[1] \"combined femurs\"\n"
     ]
    },
    {
     "data": {
      "text/html": [
       "<table>\n",
       "<thead><tr><th scope=col>Label</th><th scope=col>count</th><th scope=col>mean</th><th scope=col>sd</th></tr></thead>\n",
       "<tbody>\n",
       "\t<tr><td>Camel Blue</td><td>64        </td><td>0.4575634 </td><td>0.07614675</td></tr>\n",
       "\t<tr><td>PBS       </td><td>76        </td><td>0.4277613 </td><td>0.04968995</td></tr>\n",
       "\t<tr><td>Snus      </td><td>54        </td><td>0.4796628 </td><td>0.03709011</td></tr>\n",
       "</tbody>\n",
       "</table>\n"
      ],
      "text/latex": [
       "\\begin{tabular}{r|llll}\n",
       " Label & count & mean & sd\\\\\n",
       "\\hline\n",
       "\t Camel Blue & 64         & 0.4575634  & 0.07614675\\\\\n",
       "\t PBS        & 76         & 0.4277613  & 0.04968995\\\\\n",
       "\t Snus       & 54         & 0.4796628  & 0.03709011\\\\\n",
       "\\end{tabular}\n"
      ],
      "text/markdown": [
       "\n",
       "| Label | count | mean | sd |\n",
       "|---|---|---|---|\n",
       "| Camel Blue | 64         | 0.4575634  | 0.07614675 |\n",
       "| PBS        | 76         | 0.4277613  | 0.04968995 |\n",
       "| Snus       | 54         | 0.4796628  | 0.03709011 |\n",
       "\n"
      ],
      "text/plain": [
       "  Label      count mean      sd        \n",
       "1 Camel Blue 64    0.4575634 0.07614675\n",
       "2 PBS        76    0.4277613 0.04968995\n",
       "3 Snus       54    0.4796628 0.03709011"
      ]
     },
     "metadata": {},
     "output_type": "display_data"
    }
   ],
   "source": [
    "#summary statistic\n",
    "library(dplyr)\n",
    "\n",
    "print(\"left femur\")\n",
    "group_by(left_femur_normalized_sliced, Label) %>%\n",
    "summarise(count = n(), mean = mean(Normalized.Calcium, na.rm = TRUE), sd = sd(Normalized.Calcium, na.rm = TRUE))\n",
    "\n",
    "print(\"right femur\")\n",
    "group_by(right_femur_normalized_sliced, Label) %>%\n",
    "summarise(count = n(), mean = mean(Normalized.Calcium, na.rm = TRUE), sd = sd(Normalized.Calcium, na.rm = TRUE))\n",
    "\n",
    "print(\"combined femurs\")\n",
    "group_by(comb_femurs_normalized_sliced, Label) %>%\n",
    "summarise(count = n(), mean = mean(Values, na.rm = TRUE), sd = sd(Values, na.rm = TRUE))"
   ]
  },
  {
   "cell_type": "markdown",
   "metadata": {},
   "source": [
    "## T-test for individual comparative analysis"
   ]
  },
  {
   "cell_type": "code",
   "execution_count": 10,
   "metadata": {},
   "outputs": [],
   "source": [
    "pbs <- comb_femurs_normalized[comb_femurs_normalized$Label == 'PBS',]\n",
    "snus <- comb_femurs_normalized[comb_femurs_normalized$Label == 'Snus',]\n",
    "camel_blue <- comb_femurs_normalized[comb_femurs_normalized$Label == 'Camel Blue',]"
   ]
  },
  {
   "cell_type": "code",
   "execution_count": 11,
   "metadata": {},
   "outputs": [],
   "source": [
    "pbs_values <- pbs[,c(4)]\n",
    "snus_values <- snus[,c(4)]\n",
    "camel_values <- camel_blue[,c(4)]"
   ]
  },
  {
   "cell_type": "code",
   "execution_count": 12,
   "metadata": {},
   "outputs": [
    {
     "data": {
      "text/plain": [
       "\n",
       "\tWilcoxon rank sum test with continuity correction\n",
       "\n",
       "data:  pbs_values and snus_values\n",
       "W = 715, p-value = 2.714e-10\n",
       "alternative hypothesis: true location shift is not equal to 0\n"
      ]
     },
     "metadata": {},
     "output_type": "display_data"
    }
   ],
   "source": [
    "#ManWhitneyU PBS-STE\n",
    "wilcox.test(pbs_values, snus_values)"
   ]
  },
  {
   "cell_type": "code",
   "execution_count": 13,
   "metadata": {},
   "outputs": [
    {
     "data": {
      "text/plain": [
       "\n",
       "\tWilcoxon rank sum test with continuity correction\n",
       "\n",
       "data:  pbs_values and camel_values\n",
       "W = 1884, p-value = 0.02201\n",
       "alternative hypothesis: true location shift is not equal to 0\n"
      ]
     },
     "metadata": {},
     "output_type": "display_data"
    }
   ],
   "source": [
    "#ManWhitneyU PBS-Camel Blue\n",
    "wilcox.test(pbs_values, camel_values)"
   ]
  },
  {
   "cell_type": "code",
   "execution_count": null,
   "metadata": {},
   "outputs": [],
   "source": []
  }
 ],
 "metadata": {
  "kernelspec": {
   "display_name": "R",
   "language": "R",
   "name": "ir"
  },
  "language_info": {
   "codemirror_mode": "r",
   "file_extension": ".r",
   "mimetype": "text/x-r-source",
   "name": "R",
   "pygments_lexer": "r",
   "version": "3.6.1"
  }
 },
 "nbformat": 4,
 "nbformat_minor": 4
}
