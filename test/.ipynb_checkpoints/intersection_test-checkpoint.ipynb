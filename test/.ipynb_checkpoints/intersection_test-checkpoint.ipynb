{
 "cells": [
  {
   "cell_type": "code",
   "execution_count": 1,
   "metadata": {},
   "outputs": [],
   "source": [
    "import pandas as pd\n",
    "import numpy as np"
   ]
  },
  {
   "cell_type": "code",
   "execution_count": 2,
   "metadata": {},
   "outputs": [],
   "source": [
    "from itertools import combinations\n",
    "from upsetplot import from_memberships\n",
    "from upsetplot import plot\n",
    "import matplotlib.pyplot as plt\n",
    "%config InlineBackend.figure_format='retina'\n",
    "\n",
    "def intersect(data, upset_plot = False):\n",
    "    \"\"\"A function that returns all possible distinct intersections and generates an upset plot\n",
    "    Parameters\n",
    "    ----------\n",
    "    data = pandas dataframe\n",
    "    upset_plot = boolean\n",
    "    \n",
    "    Returns\n",
    "    -------\n",
    "    df_final = dataframe with list of matches for each comparison and counts\n",
    "    upset = data formatted to generate upset plots \"\"\"\n",
    "\n",
    "    #convert data column names to strings  \n",
    "    col_names = []\n",
    "    for i in data.columns:\n",
    "        col_names.append(str(i))\n",
    "    data.columns = col_names\n",
    "    \n",
    "    #total groups\n",
    "    n = len(col_names)\n",
    "\n",
    "    #generate all possible combinations for intersection analysis\n",
    "    comb_list = []\n",
    "    for i in range(2,n+1):\n",
    "        comb_list.append(list(combinations(col_names, i)))\n",
    "\n",
    "    #find all unique elements and drop na\n",
    "    unique_elem = []\n",
    "    tot_elements = []\n",
    "    for i in col_names:\n",
    "        unique_elem.append(set(data[i].dropna().to_list()))\n",
    "    for i in range(len(unique_elem)):\n",
    "        tot_elements.append([col_names[i], len(unique_elem[i])])\n",
    "    \n",
    "    print(\"Total unique number of items\", tot_elements)\n",
    "\n",
    "    \n",
    "    #make dictionary for unique elements \n",
    "    dict_ = {}\n",
    "    for i in range(len(col_names)):\n",
    "        dict_.update({col_names[i]: unique_elem[i]})\n",
    "\n",
    "    #intersect data, find distinct sets, drop na\n",
    "    list_intersect = []\n",
    "    for i in comb_list:\n",
    "        for j in i:\n",
    "            if len(j) == 2:\n",
    "                func_1 = \"set(data['{x}'].dropna().to_list()).intersection(data['{y}'].dropna().to_list())\".format(x = j[0], y = j[1])\n",
    "                inter = eval(func_1)\n",
    "                dict_adj = []\n",
    "                for i, k in dict_.items():  \n",
    "                    if i != j[0] and i != j[1]:\n",
    "                        dict_adj.append(k) \n",
    "                for i in dict_adj:\n",
    "                    unique = inter - i\n",
    "                    inter = unique\n",
    "                list_intersect.append([j,list(inter), len(list(inter))])\n",
    "            else:\n",
    "                func_2 = \"set(data['{x}'].dropna().to_list()).intersection(data['{y}'].dropna().to_list())\".format(x = j[0], y = j[1])\n",
    "                cond = \"i != j[0] and i != j[1]\"\n",
    "                for _ in range(2,len(j)):\n",
    "                    decor_1 = \".intersection(data['{z}'].dropna().to_list())\".format(z = j[_])\n",
    "                    decor_2 = \" and i != j[{x}]\".format(x = _)\n",
    "                    func_2 = func_2 + decor_1\n",
    "                    cond = cond + decor_2\n",
    "                inter = eval(func_2)\n",
    "                dict_adj = []\n",
    "                for i, k in dict_.items():  \n",
    "                    if eval(cond):\n",
    "                        dict_adj.append(k) \n",
    "                for i in dict_adj:\n",
    "                    unique = inter - i\n",
    "                    inter = unique\n",
    "                list_intersect.append([j,list(inter), len(list(inter))])\n",
    "\n",
    "    #obtain elements found only in individual datasets\n",
    "    for j in range(len(col_names)):\n",
    "        for i in list_intersect:\n",
    "            if col_names[j] in set(i[0]):\n",
    "                unique_elem[j] = unique_elem[j] - set(i[1]) \n",
    "        unique_elem[j] = list(unique_elem[j])\n",
    "\n",
    "    #create dataframe for elements found only in individual datasets\n",
    "    df_1 = pd.DataFrame(col_names)\n",
    "    df_1[1] = np.array(unique_elem, dtype=object).T\n",
    "    df_1[2] = [len(i) for i in unique_elem]\n",
    "\n",
    "    #combine intersect data and unique elements found within individual sets\n",
    "    df_2 = pd.DataFrame(list_intersect)\n",
    "    df_3 = pd.concat([df_1,df_2])\n",
    "    df_3.columns = [\"Intersection\", \"Match\", \"Counts\"]\n",
    "    df_3 = df_3.reset_index(drop = True)\n",
    "    \n",
    "    #generate data structure for upset plot\n",
    "    upset = df_3.drop(\"Match\", axis=1)\n",
    "    lst_1 = df_3[\"Intersection\"].to_list()\n",
    "    lst_2 = df_3[\"Intersection\"].to_list()\n",
    "    for i in range(len(col_names)):\n",
    "        lst_1[i] = [lst_2[i]]\n",
    "    upset = from_memberships(\n",
    "    lst_1, data=upset[\"Counts\"])\n",
    "    \n",
    "    #make upset plot\n",
    "    if upset_plot == True:\n",
    "        plot(upset)\n",
    "    \n",
    "    return df_3, upset "
   ]
  },
  {
   "cell_type": "markdown",
   "metadata": {},
   "source": [
    "<img src=\"./images/intersection.png\" width=\"500\" height=\"800\">"
   ]
  },
  {
   "cell_type": "markdown",
   "metadata": {},
   "source": [
    "This function will find distinct sets between groups of infinite size. The function will return groups being compared, a list of matches, and the total number of unique elements. This function will be useful in proteomic and transcriptomic analysis to find distinct matches amongst all combinations of groups. In addition, an upset plot will be generated and the corresponding UpSet plot data format used will be outputed."
   ]
  },
  {
   "cell_type": "markdown",
   "metadata": {},
   "source": [
    "# Test 1 (Small Dataset)"
   ]
  },
  {
   "cell_type": "code",
   "execution_count": 3,
   "metadata": {},
   "outputs": [],
   "source": [
    "arr = np.array([[\"a\",\"b\",\"c\",\"d\"],\n",
    "         [\"a\",\"e\",\"f\",\"d\"],\n",
    "         [\"a\",\"c\",\"z\",\"l\"]])"
   ]
  },
  {
   "cell_type": "code",
   "execution_count": 4,
   "metadata": {},
   "outputs": [],
   "source": [
    "#using integer column names\n",
    "df = pd.DataFrame(arr.T)\n",
    "df.columns = [0,1,2] "
   ]
  },
  {
   "cell_type": "code",
   "execution_count": 5,
   "metadata": {},
   "outputs": [
    {
     "data": {
      "text/html": [
       "<div>\n",
       "<style scoped>\n",
       "    .dataframe tbody tr th:only-of-type {\n",
       "        vertical-align: middle;\n",
       "    }\n",
       "\n",
       "    .dataframe tbody tr th {\n",
       "        vertical-align: top;\n",
       "    }\n",
       "\n",
       "    .dataframe thead th {\n",
       "        text-align: right;\n",
       "    }\n",
       "</style>\n",
       "<table border=\"1\" class=\"dataframe\">\n",
       "  <thead>\n",
       "    <tr style=\"text-align: right;\">\n",
       "      <th></th>\n",
       "      <th>0</th>\n",
       "      <th>1</th>\n",
       "      <th>2</th>\n",
       "    </tr>\n",
       "  </thead>\n",
       "  <tbody>\n",
       "    <tr>\n",
       "      <th>0</th>\n",
       "      <td>a</td>\n",
       "      <td>a</td>\n",
       "      <td>a</td>\n",
       "    </tr>\n",
       "    <tr>\n",
       "      <th>1</th>\n",
       "      <td>b</td>\n",
       "      <td>e</td>\n",
       "      <td>c</td>\n",
       "    </tr>\n",
       "    <tr>\n",
       "      <th>2</th>\n",
       "      <td>c</td>\n",
       "      <td>f</td>\n",
       "      <td>z</td>\n",
       "    </tr>\n",
       "    <tr>\n",
       "      <th>3</th>\n",
       "      <td>d</td>\n",
       "      <td>d</td>\n",
       "      <td>l</td>\n",
       "    </tr>\n",
       "  </tbody>\n",
       "</table>\n",
       "</div>"
      ],
      "text/plain": [
       "   0  1  2\n",
       "0  a  a  a\n",
       "1  b  e  c\n",
       "2  c  f  z\n",
       "3  d  d  l"
      ]
     },
     "execution_count": 5,
     "metadata": {},
     "output_type": "execute_result"
    }
   ],
   "source": [
    "df"
   ]
  },
  {
   "cell_type": "code",
   "execution_count": 6,
   "metadata": {},
   "outputs": [
    {
     "name": "stdout",
     "output_type": "stream",
     "text": [
      "Total unique number of items [['0', 4], ['1', 4], ['2', 4]]\n"
     ]
    },
    {
     "data": {
      "image/png": "[encoded data removed]",
      "text/plain": [
       "<Figure size 304.375x288 with 4 Axes>"
      ]
     },
     "metadata": {
      "image/png": {
       "height": 248,
       "width": 250
      },
      "needs_background": "light"
     },
     "output_type": "display_data"
    }
   ],
   "source": [
    "data,upset = intersect(df, upset_plot = True)\n",
    "#plt.savefig(\"upset.svg\")"
   ]
  },
  {
   "cell_type": "code",
   "execution_count": 7,
   "metadata": {},
   "outputs": [
    {
     "data": {
      "text/html": [
       "<div>\n",
       "<style scoped>\n",
       "    .dataframe tbody tr th:only-of-type {\n",
       "        vertical-align: middle;\n",
       "    }\n",
       "\n",
       "    .dataframe tbody tr th {\n",
       "        vertical-align: top;\n",
       "    }\n",
       "\n",
       "    .dataframe thead th {\n",
       "        text-align: right;\n",
       "    }\n",
       "</style>\n",
       "<table border=\"1\" class=\"dataframe\">\n",
       "  <thead>\n",
       "    <tr style=\"text-align: right;\">\n",
       "      <th></th>\n",
       "      <th>Intersection</th>\n",
       "      <th>Match</th>\n",
       "      <th>Counts</th>\n",
       "    </tr>\n",
       "  </thead>\n",
       "  <tbody>\n",
       "    <tr>\n",
       "      <th>0</th>\n",
       "      <td>0</td>\n",
       "      <td>[b]</td>\n",
       "      <td>1</td>\n",
       "    </tr>\n",
       "    <tr>\n",
       "      <th>1</th>\n",
       "      <td>1</td>\n",
       "      <td>[e, f]</td>\n",
       "      <td>2</td>\n",
       "    </tr>\n",
       "    <tr>\n",
       "      <th>2</th>\n",
       "      <td>2</td>\n",
       "      <td>[z, l]</td>\n",
       "      <td>2</td>\n",
       "    </tr>\n",
       "    <tr>\n",
       "      <th>3</th>\n",
       "      <td>(0, 1)</td>\n",
       "      <td>[d]</td>\n",
       "      <td>1</td>\n",
       "    </tr>\n",
       "    <tr>\n",
       "      <th>4</th>\n",
       "      <td>(0, 2)</td>\n",
       "      <td>[c]</td>\n",
       "      <td>1</td>\n",
       "    </tr>\n",
       "    <tr>\n",
       "      <th>5</th>\n",
       "      <td>(1, 2)</td>\n",
       "      <td>[]</td>\n",
       "      <td>0</td>\n",
       "    </tr>\n",
       "    <tr>\n",
       "      <th>6</th>\n",
       "      <td>(0, 1, 2)</td>\n",
       "      <td>[a]</td>\n",
       "      <td>1</td>\n",
       "    </tr>\n",
       "  </tbody>\n",
       "</table>\n",
       "</div>"
      ],
      "text/plain": [
       "  Intersection   Match  Counts\n",
       "0            0     [b]       1\n",
       "1            1  [e, f]       2\n",
       "2            2  [z, l]       2\n",
       "3       (0, 1)     [d]       1\n",
       "4       (0, 2)     [c]       1\n",
       "5       (1, 2)      []       0\n",
       "6    (0, 1, 2)     [a]       1"
      ]
     },
     "execution_count": 7,
     "metadata": {},
     "output_type": "execute_result"
    }
   ],
   "source": [
    "data"
   ]
  },
  {
   "cell_type": "code",
   "execution_count": 8,
   "metadata": {},
   "outputs": [
    {
     "data": {
      "text/plain": [
       "0      1      2    \n",
       "True   False  False    1\n",
       "False  True   False    2\n",
       "       False  True     2\n",
       "True   True   False    1\n",
       "       False  True     1\n",
       "False  True   True     0\n",
       "True   True   True     1\n",
       "Name: Counts, dtype: int64"
      ]
     },
     "execution_count": 8,
     "metadata": {},
     "output_type": "execute_result"
    }
   ],
   "source": [
    "upset"
   ]
  },
  {
   "cell_type": "markdown",
   "metadata": {},
   "source": [
    "# Test 2 (Small Dataset)"
   ]
  },
  {
   "cell_type": "code",
   "execution_count": 9,
   "metadata": {},
   "outputs": [],
   "source": [
    "arr = np.array([[\"a\",\"b\",\"c\",\"d\"],\n",
    "                [\"a\",\"e\",\"f\",\"d\"],\n",
    "                [\"a\",\"c\",\"z\",\"l\"],\n",
    "                [\"x\",\"c\",\"w\",\"l\"],\n",
    "                [\"a\",\"c\",\"z\",\"y\"]])"
   ]
  },
  {
   "cell_type": "code",
   "execution_count": 10,
   "metadata": {},
   "outputs": [],
   "source": [
    "df = pd.DataFrame(arr.T)\n",
    "df.columns = [\"a\",\"b\",\"c\", \"d\", \"e\"] "
   ]
  },
  {
   "cell_type": "code",
   "execution_count": 11,
   "metadata": {},
   "outputs": [
    {
     "data": {
      "text/html": [
       "<div>\n",
       "<style scoped>\n",
       "    .dataframe tbody tr th:only-of-type {\n",
       "        vertical-align: middle;\n",
       "    }\n",
       "\n",
       "    .dataframe tbody tr th {\n",
       "        vertical-align: top;\n",
       "    }\n",
       "\n",
       "    .dataframe thead th {\n",
       "        text-align: right;\n",
       "    }\n",
       "</style>\n",
       "<table border=\"1\" class=\"dataframe\">\n",
       "  <thead>\n",
       "    <tr style=\"text-align: right;\">\n",
       "      <th></th>\n",
       "      <th>a</th>\n",
       "      <th>b</th>\n",
       "      <th>c</th>\n",
       "      <th>d</th>\n",
       "      <th>e</th>\n",
       "    </tr>\n",
       "  </thead>\n",
       "  <tbody>\n",
       "    <tr>\n",
       "      <th>0</th>\n",
       "      <td>a</td>\n",
       "      <td>a</td>\n",
       "      <td>a</td>\n",
       "      <td>x</td>\n",
       "      <td>a</td>\n",
       "    </tr>\n",
       "    <tr>\n",
       "      <th>1</th>\n",
       "      <td>b</td>\n",
       "      <td>e</td>\n",
       "      <td>c</td>\n",
       "      <td>c</td>\n",
       "      <td>c</td>\n",
       "    </tr>\n",
       "    <tr>\n",
       "      <th>2</th>\n",
       "      <td>c</td>\n",
       "      <td>f</td>\n",
       "      <td>z</td>\n",
       "      <td>w</td>\n",
       "      <td>z</td>\n",
       "    </tr>\n",
       "    <tr>\n",
       "      <th>3</th>\n",
       "      <td>d</td>\n",
       "      <td>d</td>\n",
       "      <td>l</td>\n",
       "      <td>l</td>\n",
       "      <td>y</td>\n",
       "    </tr>\n",
       "  </tbody>\n",
       "</table>\n",
       "</div>"
      ],
      "text/plain": [
       "   a  b  c  d  e\n",
       "0  a  a  a  x  a\n",
       "1  b  e  c  c  c\n",
       "2  c  f  z  w  z\n",
       "3  d  d  l  l  y"
      ]
     },
     "execution_count": 11,
     "metadata": {},
     "output_type": "execute_result"
    }
   ],
   "source": [
    "df"
   ]
  },
  {
   "cell_type": "code",
   "execution_count": 12,
   "metadata": {},
   "outputs": [
    {
     "name": "stdout",
     "output_type": "stream",
     "text": [
      "Total unique number of items [['a', 4], ['b', 4], ['c', 4], ['d', 4], ['e', 4]]\n"
     ]
    },
    {
     "data": {
      "image/png": "[encoded data removed]",
      "text/plain": [
       "<Figure size 1072.38x352 with 4 Axes>"
      ]
     },
     "metadata": {
      "image/png": {
       "height": 296,
       "width": 845
      },
      "needs_background": "light"
     },
     "output_type": "display_data"
    }
   ],
   "source": [
    "data,upset = intersect(df, upset_plot = True)"
   ]
  },
  {
   "cell_type": "code",
   "execution_count": 13,
   "metadata": {},
   "outputs": [
    {
     "data": {
      "text/html": [
       "<div>\n",
       "<style scoped>\n",
       "    .dataframe tbody tr th:only-of-type {\n",
       "        vertical-align: middle;\n",
       "    }\n",
       "\n",
       "    .dataframe tbody tr th {\n",
       "        vertical-align: top;\n",
       "    }\n",
       "\n",
       "    .dataframe thead th {\n",
       "        text-align: right;\n",
       "    }\n",
       "</style>\n",
       "<table border=\"1\" class=\"dataframe\">\n",
       "  <thead>\n",
       "    <tr style=\"text-align: right;\">\n",
       "      <th></th>\n",
       "      <th>Intersection</th>\n",
       "      <th>Match</th>\n",
       "      <th>Counts</th>\n",
       "    </tr>\n",
       "  </thead>\n",
       "  <tbody>\n",
       "    <tr>\n",
       "      <th>0</th>\n",
       "      <td>a</td>\n",
       "      <td>[b]</td>\n",
       "      <td>1</td>\n",
       "    </tr>\n",
       "    <tr>\n",
       "      <th>1</th>\n",
       "      <td>b</td>\n",
       "      <td>[e, f]</td>\n",
       "      <td>2</td>\n",
       "    </tr>\n",
       "    <tr>\n",
       "      <th>2</th>\n",
       "      <td>c</td>\n",
       "      <td>[]</td>\n",
       "      <td>0</td>\n",
       "    </tr>\n",
       "    <tr>\n",
       "      <th>3</th>\n",
       "      <td>d</td>\n",
       "      <td>[w, x]</td>\n",
       "      <td>2</td>\n",
       "    </tr>\n",
       "    <tr>\n",
       "      <th>4</th>\n",
       "      <td>e</td>\n",
       "      <td>[y]</td>\n",
       "      <td>1</td>\n",
       "    </tr>\n",
       "    <tr>\n",
       "      <th>5</th>\n",
       "      <td>(a, b)</td>\n",
       "      <td>[d]</td>\n",
       "      <td>1</td>\n",
       "    </tr>\n",
       "    <tr>\n",
       "      <th>6</th>\n",
       "      <td>(a, c)</td>\n",
       "      <td>[]</td>\n",
       "      <td>0</td>\n",
       "    </tr>\n",
       "    <tr>\n",
       "      <th>7</th>\n",
       "      <td>(a, d)</td>\n",
       "      <td>[]</td>\n",
       "      <td>0</td>\n",
       "    </tr>\n",
       "    <tr>\n",
       "      <th>8</th>\n",
       "      <td>(a, e)</td>\n",
       "      <td>[]</td>\n",
       "      <td>0</td>\n",
       "    </tr>\n",
       "    <tr>\n",
       "      <th>9</th>\n",
       "      <td>(b, c)</td>\n",
       "      <td>[]</td>\n",
       "      <td>0</td>\n",
       "    </tr>\n",
       "    <tr>\n",
       "      <th>10</th>\n",
       "      <td>(b, d)</td>\n",
       "      <td>[]</td>\n",
       "      <td>0</td>\n",
       "    </tr>\n",
       "    <tr>\n",
       "      <th>11</th>\n",
       "      <td>(b, e)</td>\n",
       "      <td>[]</td>\n",
       "      <td>0</td>\n",
       "    </tr>\n",
       "    <tr>\n",
       "      <th>12</th>\n",
       "      <td>(c, d)</td>\n",
       "      <td>[l]</td>\n",
       "      <td>1</td>\n",
       "    </tr>\n",
       "    <tr>\n",
       "      <th>13</th>\n",
       "      <td>(c, e)</td>\n",
       "      <td>[z]</td>\n",
       "      <td>1</td>\n",
       "    </tr>\n",
       "    <tr>\n",
       "      <th>14</th>\n",
       "      <td>(d, e)</td>\n",
       "      <td>[]</td>\n",
       "      <td>0</td>\n",
       "    </tr>\n",
       "    <tr>\n",
       "      <th>15</th>\n",
       "      <td>(a, b, c)</td>\n",
       "      <td>[]</td>\n",
       "      <td>0</td>\n",
       "    </tr>\n",
       "    <tr>\n",
       "      <th>16</th>\n",
       "      <td>(a, b, d)</td>\n",
       "      <td>[]</td>\n",
       "      <td>0</td>\n",
       "    </tr>\n",
       "    <tr>\n",
       "      <th>17</th>\n",
       "      <td>(a, b, e)</td>\n",
       "      <td>[]</td>\n",
       "      <td>0</td>\n",
       "    </tr>\n",
       "    <tr>\n",
       "      <th>18</th>\n",
       "      <td>(a, c, d)</td>\n",
       "      <td>[]</td>\n",
       "      <td>0</td>\n",
       "    </tr>\n",
       "    <tr>\n",
       "      <th>19</th>\n",
       "      <td>(a, c, e)</td>\n",
       "      <td>[]</td>\n",
       "      <td>0</td>\n",
       "    </tr>\n",
       "    <tr>\n",
       "      <th>20</th>\n",
       "      <td>(a, d, e)</td>\n",
       "      <td>[]</td>\n",
       "      <td>0</td>\n",
       "    </tr>\n",
       "    <tr>\n",
       "      <th>21</th>\n",
       "      <td>(b, c, d)</td>\n",
       "      <td>[]</td>\n",
       "      <td>0</td>\n",
       "    </tr>\n",
       "    <tr>\n",
       "      <th>22</th>\n",
       "      <td>(b, c, e)</td>\n",
       "      <td>[]</td>\n",
       "      <td>0</td>\n",
       "    </tr>\n",
       "    <tr>\n",
       "      <th>23</th>\n",
       "      <td>(b, d, e)</td>\n",
       "      <td>[]</td>\n",
       "      <td>0</td>\n",
       "    </tr>\n",
       "    <tr>\n",
       "      <th>24</th>\n",
       "      <td>(c, d, e)</td>\n",
       "      <td>[]</td>\n",
       "      <td>0</td>\n",
       "    </tr>\n",
       "    <tr>\n",
       "      <th>25</th>\n",
       "      <td>(a, b, c, d)</td>\n",
       "      <td>[]</td>\n",
       "      <td>0</td>\n",
       "    </tr>\n",
       "    <tr>\n",
       "      <th>26</th>\n",
       "      <td>(a, b, c, e)</td>\n",
       "      <td>[a]</td>\n",
       "      <td>1</td>\n",
       "    </tr>\n",
       "    <tr>\n",
       "      <th>27</th>\n",
       "      <td>(a, b, d, e)</td>\n",
       "      <td>[]</td>\n",
       "      <td>0</td>\n",
       "    </tr>\n",
       "    <tr>\n",
       "      <th>28</th>\n",
       "      <td>(a, c, d, e)</td>\n",
       "      <td>[c]</td>\n",
       "      <td>1</td>\n",
       "    </tr>\n",
       "    <tr>\n",
       "      <th>29</th>\n",
       "      <td>(b, c, d, e)</td>\n",
       "      <td>[]</td>\n",
       "      <td>0</td>\n",
       "    </tr>\n",
       "    <tr>\n",
       "      <th>30</th>\n",
       "      <td>(a, b, c, d, e)</td>\n",
       "      <td>[]</td>\n",
       "      <td>0</td>\n",
       "    </tr>\n",
       "  </tbody>\n",
       "</table>\n",
       "</div>"
      ],
      "text/plain": [
       "       Intersection   Match  Counts\n",
       "0                 a     [b]       1\n",
       "1                 b  [e, f]       2\n",
       "2                 c      []       0\n",
       "3                 d  [w, x]       2\n",
       "4                 e     [y]       1\n",
       "5            (a, b)     [d]       1\n",
       "6            (a, c)      []       0\n",
       "7            (a, d)      []       0\n",
       "8            (a, e)      []       0\n",
       "9            (b, c)      []       0\n",
       "10           (b, d)      []       0\n",
       "11           (b, e)      []       0\n",
       "12           (c, d)     [l]       1\n",
       "13           (c, e)     [z]       1\n",
       "14           (d, e)      []       0\n",
       "15        (a, b, c)      []       0\n",
       "16        (a, b, d)      []       0\n",
       "17        (a, b, e)      []       0\n",
       "18        (a, c, d)      []       0\n",
       "19        (a, c, e)      []       0\n",
       "20        (a, d, e)      []       0\n",
       "21        (b, c, d)      []       0\n",
       "22        (b, c, e)      []       0\n",
       "23        (b, d, e)      []       0\n",
       "24        (c, d, e)      []       0\n",
       "25     (a, b, c, d)      []       0\n",
       "26     (a, b, c, e)     [a]       1\n",
       "27     (a, b, d, e)      []       0\n",
       "28     (a, c, d, e)     [c]       1\n",
       "29     (b, c, d, e)      []       0\n",
       "30  (a, b, c, d, e)      []       0"
      ]
     },
     "execution_count": 13,
     "metadata": {},
     "output_type": "execute_result"
    }
   ],
   "source": [
    "data"
   ]
  },
  {
   "cell_type": "code",
   "execution_count": 14,
   "metadata": {},
   "outputs": [
    {
     "data": {
      "text/plain": [
       "a      b      c      d      e    \n",
       "True   False  False  False  False    1\n",
       "False  True   False  False  False    2\n",
       "       False  True   False  False    0\n",
       "              False  True   False    2\n",
       "                     False  True     1\n",
       "True   True   False  False  False    1\n",
       "       False  True   False  False    0\n",
       "              False  True   False    0\n",
       "                     False  True     0\n",
       "False  True   True   False  False    0\n",
       "              False  True   False    0\n",
       "                     False  True     0\n",
       "       False  True   True   False    1\n",
       "                     False  True     1\n",
       "              False  True   True     0\n",
       "True   True   True   False  False    0\n",
       "              False  True   False    0\n",
       "                     False  True     0\n",
       "       False  True   True   False    0\n",
       "                     False  True     0\n",
       "              False  True   True     0\n",
       "False  True   True   True   False    0\n",
       "                     False  True     0\n",
       "              False  True   True     0\n",
       "       False  True   True   True     0\n",
       "True   True   True   True   False    0\n",
       "                     False  True     1\n",
       "              False  True   True     0\n",
       "       False  True   True   True     1\n",
       "False  True   True   True   True     0\n",
       "True   True   True   True   True     0\n",
       "Name: Counts, dtype: int64"
      ]
     },
     "execution_count": 14,
     "metadata": {},
     "output_type": "execute_result"
    }
   ],
   "source": [
    "upset"
   ]
  },
  {
   "cell_type": "markdown",
   "metadata": {},
   "source": [
    "# Test 3 (Medium Dataset)"
   ]
  },
  {
   "cell_type": "code",
   "execution_count": 15,
   "metadata": {},
   "outputs": [],
   "source": [
    "arr_1 = np.round(np.random.normal(loc = 10, scale = 2, size = 1000), 2)\n",
    "arr_2 = np.round(np.random.normal(loc = 10, scale = 2, size = 1000), 2)\n",
    "arr_3 = np.round(np.random.normal(loc = 10, scale = 2, size = 1000), 2)"
   ]
  },
  {
   "cell_type": "code",
   "execution_count": 16,
   "metadata": {},
   "outputs": [],
   "source": [
    "df = pd.DataFrame(arr_1)\n",
    "df[1] = arr_2\n",
    "df[2] = arr_3\n",
    "\n",
    "df.columns = [\"Exp1\", \"Exp2\", \"Exp3\"]"
   ]
  },
  {
   "cell_type": "code",
   "execution_count": 17,
   "metadata": {},
   "outputs": [
    {
     "data": {
      "text/html": [
       "<div>\n",
       "<style scoped>\n",
       "    .dataframe tbody tr th:only-of-type {\n",
       "        vertical-align: middle;\n",
       "    }\n",
       "\n",
       "    .dataframe tbody tr th {\n",
       "        vertical-align: top;\n",
       "    }\n",
       "\n",
       "    .dataframe thead th {\n",
       "        text-align: right;\n",
       "    }\n",
       "</style>\n",
       "<table border=\"1\" class=\"dataframe\">\n",
       "  <thead>\n",
       "    <tr style=\"text-align: right;\">\n",
       "      <th></th>\n",
       "      <th>Exp1</th>\n",
       "      <th>Exp2</th>\n",
       "      <th>Exp3</th>\n",
       "    </tr>\n",
       "  </thead>\n",
       "  <tbody>\n",
       "    <tr>\n",
       "      <th>0</th>\n",
       "      <td>7.14</td>\n",
       "      <td>11.12</td>\n",
       "      <td>15.28</td>\n",
       "    </tr>\n",
       "    <tr>\n",
       "      <th>1</th>\n",
       "      <td>11.68</td>\n",
       "      <td>9.22</td>\n",
       "      <td>13.58</td>\n",
       "    </tr>\n",
       "    <tr>\n",
       "      <th>2</th>\n",
       "      <td>10.27</td>\n",
       "      <td>10.41</td>\n",
       "      <td>11.08</td>\n",
       "    </tr>\n",
       "    <tr>\n",
       "      <th>3</th>\n",
       "      <td>9.20</td>\n",
       "      <td>11.04</td>\n",
       "      <td>10.72</td>\n",
       "    </tr>\n",
       "    <tr>\n",
       "      <th>4</th>\n",
       "      <td>11.05</td>\n",
       "      <td>13.57</td>\n",
       "      <td>4.46</td>\n",
       "    </tr>\n",
       "    <tr>\n",
       "      <th>...</th>\n",
       "      <td>...</td>\n",
       "      <td>...</td>\n",
       "      <td>...</td>\n",
       "    </tr>\n",
       "    <tr>\n",
       "      <th>995</th>\n",
       "      <td>9.45</td>\n",
       "      <td>8.86</td>\n",
       "      <td>9.59</td>\n",
       "    </tr>\n",
       "    <tr>\n",
       "      <th>996</th>\n",
       "      <td>13.07</td>\n",
       "      <td>15.41</td>\n",
       "      <td>10.03</td>\n",
       "    </tr>\n",
       "    <tr>\n",
       "      <th>997</th>\n",
       "      <td>7.68</td>\n",
       "      <td>6.94</td>\n",
       "      <td>8.53</td>\n",
       "    </tr>\n",
       "    <tr>\n",
       "      <th>998</th>\n",
       "      <td>9.44</td>\n",
       "      <td>12.49</td>\n",
       "      <td>12.60</td>\n",
       "    </tr>\n",
       "    <tr>\n",
       "      <th>999</th>\n",
       "      <td>10.65</td>\n",
       "      <td>5.85</td>\n",
       "      <td>7.45</td>\n",
       "    </tr>\n",
       "  </tbody>\n",
       "</table>\n",
       "<p>1000 rows × 3 columns</p>\n",
       "</div>"
      ],
      "text/plain": [
       "      Exp1   Exp2   Exp3\n",
       "0     7.14  11.12  15.28\n",
       "1    11.68   9.22  13.58\n",
       "2    10.27  10.41  11.08\n",
       "3     9.20  11.04  10.72\n",
       "4    11.05  13.57   4.46\n",
       "..     ...    ...    ...\n",
       "995   9.45   8.86   9.59\n",
       "996  13.07  15.41  10.03\n",
       "997   7.68   6.94   8.53\n",
       "998   9.44  12.49  12.60\n",
       "999  10.65   5.85   7.45\n",
       "\n",
       "[1000 rows x 3 columns]"
      ]
     },
     "execution_count": 17,
     "metadata": {},
     "output_type": "execute_result"
    }
   ],
   "source": [
    "df"
   ]
  },
  {
   "cell_type": "code",
   "execution_count": 18,
   "metadata": {},
   "outputs": [
    {
     "name": "stdout",
     "output_type": "stream",
     "text": [
      "Total unique number of items [['Exp1', 573], ['Exp2', 570], ['Exp3', 549]]\n"
     ]
    },
    {
     "data": {
      "image/png": "[encoded data removed]",
      "text/plain": [
       "<Figure size 322.75x288 with 4 Axes>"
      ]
     },
     "metadata": {
      "image/png": {
       "height": 248,
       "width": 268
      },
      "needs_background": "light"
     },
     "output_type": "display_data"
    }
   ],
   "source": [
    "data,upset = intersect(df, upset_plot = True)"
   ]
  },
  {
   "cell_type": "code",
   "execution_count": 19,
   "metadata": {},
   "outputs": [
    {
     "data": {
      "text/html": [
       "<div>\n",
       "<style scoped>\n",
       "    .dataframe tbody tr th:only-of-type {\n",
       "        vertical-align: middle;\n",
       "    }\n",
       "\n",
       "    .dataframe tbody tr th {\n",
       "        vertical-align: top;\n",
       "    }\n",
       "\n",
       "    .dataframe thead th {\n",
       "        text-align: right;\n",
       "    }\n",
       "</style>\n",
       "<table border=\"1\" class=\"dataframe\">\n",
       "  <thead>\n",
       "    <tr style=\"text-align: right;\">\n",
       "      <th></th>\n",
       "      <th>Intersection</th>\n",
       "      <th>Match</th>\n",
       "      <th>Counts</th>\n",
       "    </tr>\n",
       "  </thead>\n",
       "  <tbody>\n",
       "    <tr>\n",
       "      <th>0</th>\n",
       "      <td>Exp1</td>\n",
       "      <td>[3.89, 4.89, 3.86, 6.98, 6.22, 3.93, 7.33, 10....</td>\n",
       "      <td>95</td>\n",
       "    </tr>\n",
       "    <tr>\n",
       "      <th>1</th>\n",
       "      <td>Exp2</td>\n",
       "      <td>[4.86, 5.72, 6.0, 6.86, 8.62, 8.14, 7.22, 7.61...</td>\n",
       "      <td>92</td>\n",
       "    </tr>\n",
       "    <tr>\n",
       "      <th>2</th>\n",
       "      <td>Exp3</td>\n",
       "      <td>[3.95, 4.46, 5.19, 6.35, 6.5, 7.43, 6.72, 6.08...</td>\n",
       "      <td>82</td>\n",
       "    </tr>\n",
       "    <tr>\n",
       "      <th>3</th>\n",
       "      <td>(Exp1, Exp2)</td>\n",
       "      <td>[5.53, 5.0, 7.97, 8.25, 9.25, 9.97, 11.12, 12....</td>\n",
       "      <td>105</td>\n",
       "    </tr>\n",
       "    <tr>\n",
       "      <th>4</th>\n",
       "      <td>(Exp1, Exp3)</td>\n",
       "      <td>[4.73, 5.58, 6.7, 7.25, 7.0, 7.5, 10.25, 10.89...</td>\n",
       "      <td>94</td>\n",
       "    </tr>\n",
       "    <tr>\n",
       "      <th>5</th>\n",
       "      <td>(Exp2, Exp3)</td>\n",
       "      <td>[6.11, 7.78, 8.03, 7.85, 6.75, 6.97, 12.75, 13...</td>\n",
       "      <td>94</td>\n",
       "    </tr>\n",
       "    <tr>\n",
       "      <th>6</th>\n",
       "      <td>(Exp1, Exp2, Exp3)</td>\n",
       "      <td>[6.56, 7.94, 8.9, 7.82, 8.56, 9.72, 10.72, 11....</td>\n",
       "      <td>279</td>\n",
       "    </tr>\n",
       "  </tbody>\n",
       "</table>\n",
       "</div>"
      ],
      "text/plain": [
       "         Intersection                                              Match  \\\n",
       "0                Exp1  [3.89, 4.89, 3.86, 6.98, 6.22, 3.93, 7.33, 10....   \n",
       "1                Exp2  [4.86, 5.72, 6.0, 6.86, 8.62, 8.14, 7.22, 7.61...   \n",
       "2                Exp3  [3.95, 4.46, 5.19, 6.35, 6.5, 7.43, 6.72, 6.08...   \n",
       "3        (Exp1, Exp2)  [5.53, 5.0, 7.97, 8.25, 9.25, 9.97, 11.12, 12....   \n",
       "4        (Exp1, Exp3)  [4.73, 5.58, 6.7, 7.25, 7.0, 7.5, 10.25, 10.89...   \n",
       "5        (Exp2, Exp3)  [6.11, 7.78, 8.03, 7.85, 6.75, 6.97, 12.75, 13...   \n",
       "6  (Exp1, Exp2, Exp3)  [6.56, 7.94, 8.9, 7.82, 8.56, 9.72, 10.72, 11....   \n",
       "\n",
       "   Counts  \n",
       "0      95  \n",
       "1      92  \n",
       "2      82  \n",
       "3     105  \n",
       "4      94  \n",
       "5      94  \n",
       "6     279  "
      ]
     },
     "execution_count": 19,
     "metadata": {},
     "output_type": "execute_result"
    }
   ],
   "source": [
    "data"
   ]
  },
  {
   "cell_type": "code",
   "execution_count": 20,
   "metadata": {},
   "outputs": [
    {
     "data": {
      "text/plain": [
       "Exp1   Exp2   Exp3 \n",
       "True   False  False     95\n",
       "False  True   False     92\n",
       "       False  True      82\n",
       "True   True   False    105\n",
       "       False  True      94\n",
       "False  True   True      94\n",
       "True   True   True     279\n",
       "Name: Counts, dtype: int64"
      ]
     },
     "execution_count": 20,
     "metadata": {},
     "output_type": "execute_result"
    }
   ],
   "source": [
    "upset"
   ]
  },
  {
   "cell_type": "markdown",
   "metadata": {},
   "source": [
    "# Test 4 (Medium High Dataset)"
   ]
  },
  {
   "cell_type": "code",
   "execution_count": 21,
   "metadata": {},
   "outputs": [],
   "source": [
    "arr_1 = np.round(np.random.normal(loc = 10, scale = 2, size = 10000), 2)\n",
    "arr_2 = np.round(np.random.normal(loc = 10, scale = 2, size = 10000), 2)\n",
    "arr_3 = np.round(np.random.normal(loc = 10, scale = 2, size = 10000), 2)"
   ]
  },
  {
   "cell_type": "code",
   "execution_count": 22,
   "metadata": {},
   "outputs": [],
   "source": [
    "df = pd.DataFrame(arr_1)\n",
    "df[1] = arr_2\n",
    "df[2] = arr_3\n",
    "\n",
    "df.columns = [\"Exp1\", \"Exp2\", \"Exp3\"]"
   ]
  },
  {
   "cell_type": "code",
   "execution_count": 23,
   "metadata": {},
   "outputs": [
    {
     "data": {
      "text/html": [
       "<div>\n",
       "<style scoped>\n",
       "    .dataframe tbody tr th:only-of-type {\n",
       "        vertical-align: middle;\n",
       "    }\n",
       "\n",
       "    .dataframe tbody tr th {\n",
       "        vertical-align: top;\n",
       "    }\n",
       "\n",
       "    .dataframe thead th {\n",
       "        text-align: right;\n",
       "    }\n",
       "</style>\n",
       "<table border=\"1\" class=\"dataframe\">\n",
       "  <thead>\n",
       "    <tr style=\"text-align: right;\">\n",
       "      <th></th>\n",
       "      <th>Exp1</th>\n",
       "      <th>Exp2</th>\n",
       "      <th>Exp3</th>\n",
       "    </tr>\n",
       "  </thead>\n",
       "  <tbody>\n",
       "    <tr>\n",
       "      <th>0</th>\n",
       "      <td>9.94</td>\n",
       "      <td>10.57</td>\n",
       "      <td>9.47</td>\n",
       "    </tr>\n",
       "    <tr>\n",
       "      <th>1</th>\n",
       "      <td>11.38</td>\n",
       "      <td>10.77</td>\n",
       "      <td>10.78</td>\n",
       "    </tr>\n",
       "    <tr>\n",
       "      <th>2</th>\n",
       "      <td>12.80</td>\n",
       "      <td>7.69</td>\n",
       "      <td>8.86</td>\n",
       "    </tr>\n",
       "    <tr>\n",
       "      <th>3</th>\n",
       "      <td>9.68</td>\n",
       "      <td>10.10</td>\n",
       "      <td>11.36</td>\n",
       "    </tr>\n",
       "    <tr>\n",
       "      <th>4</th>\n",
       "      <td>5.97</td>\n",
       "      <td>8.11</td>\n",
       "      <td>10.04</td>\n",
       "    </tr>\n",
       "    <tr>\n",
       "      <th>...</th>\n",
       "      <td>...</td>\n",
       "      <td>...</td>\n",
       "      <td>...</td>\n",
       "    </tr>\n",
       "    <tr>\n",
       "      <th>9995</th>\n",
       "      <td>8.88</td>\n",
       "      <td>9.72</td>\n",
       "      <td>8.92</td>\n",
       "    </tr>\n",
       "    <tr>\n",
       "      <th>9996</th>\n",
       "      <td>9.56</td>\n",
       "      <td>10.87</td>\n",
       "      <td>11.10</td>\n",
       "    </tr>\n",
       "    <tr>\n",
       "      <th>9997</th>\n",
       "      <td>11.54</td>\n",
       "      <td>8.40</td>\n",
       "      <td>11.47</td>\n",
       "    </tr>\n",
       "    <tr>\n",
       "      <th>9998</th>\n",
       "      <td>11.02</td>\n",
       "      <td>9.66</td>\n",
       "      <td>8.96</td>\n",
       "    </tr>\n",
       "    <tr>\n",
       "      <th>9999</th>\n",
       "      <td>13.50</td>\n",
       "      <td>8.67</td>\n",
       "      <td>9.04</td>\n",
       "    </tr>\n",
       "  </tbody>\n",
       "</table>\n",
       "<p>10000 rows × 3 columns</p>\n",
       "</div>"
      ],
      "text/plain": [
       "       Exp1   Exp2   Exp3\n",
       "0      9.94  10.57   9.47\n",
       "1     11.38  10.77  10.78\n",
       "2     12.80   7.69   8.86\n",
       "3      9.68  10.10  11.36\n",
       "4      5.97   8.11  10.04\n",
       "...     ...    ...    ...\n",
       "9995   8.88   9.72   8.92\n",
       "9996   9.56  10.87  11.10\n",
       "9997  11.54   8.40  11.47\n",
       "9998  11.02   9.66   8.96\n",
       "9999  13.50   8.67   9.04\n",
       "\n",
       "[10000 rows x 3 columns]"
      ]
     },
     "execution_count": 23,
     "metadata": {},
     "output_type": "execute_result"
    }
   ],
   "source": [
    "df"
   ]
  },
  {
   "cell_type": "code",
   "execution_count": 24,
   "metadata": {},
   "outputs": [
    {
     "name": "stdout",
     "output_type": "stream",
     "text": [
      "Total unique number of items [['Exp1', 1037], ['Exp2', 1053], ['Exp3', 1050]]\n"
     ]
    },
    {
     "data": {
      "image/png": "[encoded data removed]",
      "text/plain": [
       "<Figure size 322.75x288 with 4 Axes>"
      ]
     },
     "metadata": {
      "image/png": {
       "height": 248,
       "width": 275
      },
      "needs_background": "light"
     },
     "output_type": "display_data"
    }
   ],
   "source": [
    "data,upset = intersect(df, upset_plot = True)"
   ]
  },
  {
   "cell_type": "code",
   "execution_count": 25,
   "metadata": {},
   "outputs": [
    {
     "data": {
      "text/html": [
       "<div>\n",
       "<style scoped>\n",
       "    .dataframe tbody tr th:only-of-type {\n",
       "        vertical-align: middle;\n",
       "    }\n",
       "\n",
       "    .dataframe tbody tr th {\n",
       "        vertical-align: top;\n",
       "    }\n",
       "\n",
       "    .dataframe thead th {\n",
       "        text-align: right;\n",
       "    }\n",
       "</style>\n",
       "<table border=\"1\" class=\"dataframe\">\n",
       "  <thead>\n",
       "    <tr style=\"text-align: right;\">\n",
       "      <th></th>\n",
       "      <th>Intersection</th>\n",
       "      <th>Match</th>\n",
       "      <th>Counts</th>\n",
       "    </tr>\n",
       "  </thead>\n",
       "  <tbody>\n",
       "    <tr>\n",
       "      <th>0</th>\n",
       "      <td>Exp1</td>\n",
       "      <td>[2.97, 3.02, 4.24, 5.16, 4.6, 4.85, 5.51, 4.98...</td>\n",
       "      <td>55</td>\n",
       "    </tr>\n",
       "    <tr>\n",
       "      <th>1</th>\n",
       "      <td>Exp2</td>\n",
       "      <td>[2.67, 3.7, 4.25, 4.22, 5.47, 4.63, 5.13, 4.04...</td>\n",
       "      <td>66</td>\n",
       "    </tr>\n",
       "    <tr>\n",
       "      <th>2</th>\n",
       "      <td>Exp3</td>\n",
       "      <td>[15.31, 2.17, 3.5, 4.44, 4.94, 4.16, 4.91, 5.4...</td>\n",
       "      <td>56</td>\n",
       "    </tr>\n",
       "    <tr>\n",
       "      <th>3</th>\n",
       "      <td>(Exp1, Exp2)</td>\n",
       "      <td>[4.77, 4.72, 6.5, 5.19, 5.85, 5.6, 5.1, 5.26, ...</td>\n",
       "      <td>39</td>\n",
       "    </tr>\n",
       "    <tr>\n",
       "      <th>4</th>\n",
       "      <td>(Exp1, Exp3)</td>\n",
       "      <td>[3.66, 4.66, 5.69, 3.88, 5.38, 6.1, 4.82, 4.79...</td>\n",
       "      <td>46</td>\n",
       "    </tr>\n",
       "    <tr>\n",
       "      <th>5</th>\n",
       "      <td>(Exp2, Exp3)</td>\n",
       "      <td>[3.99, 4.97, 4.47, 5.44, 4.57, 4.32, 5.32, 5.2...</td>\n",
       "      <td>51</td>\n",
       "    </tr>\n",
       "    <tr>\n",
       "      <th>6</th>\n",
       "      <td>(Exp1, Exp2, Exp3)</td>\n",
       "      <td>[4.54, 5.56, 6.49, 7.84, 8.37, 8.86, 9.47, 10....</td>\n",
       "      <td>897</td>\n",
       "    </tr>\n",
       "  </tbody>\n",
       "</table>\n",
       "</div>"
      ],
      "text/plain": [
       "         Intersection                                              Match  \\\n",
       "0                Exp1  [2.97, 3.02, 4.24, 5.16, 4.6, 4.85, 5.51, 4.98...   \n",
       "1                Exp2  [2.67, 3.7, 4.25, 4.22, 5.47, 4.63, 5.13, 4.04...   \n",
       "2                Exp3  [15.31, 2.17, 3.5, 4.44, 4.94, 4.16, 4.91, 5.4...   \n",
       "3        (Exp1, Exp2)  [4.77, 4.72, 6.5, 5.19, 5.85, 5.6, 5.1, 5.26, ...   \n",
       "4        (Exp1, Exp3)  [3.66, 4.66, 5.69, 3.88, 5.38, 6.1, 4.82, 4.79...   \n",
       "5        (Exp2, Exp3)  [3.99, 4.97, 4.47, 5.44, 4.57, 4.32, 5.32, 5.2...   \n",
       "6  (Exp1, Exp2, Exp3)  [4.54, 5.56, 6.49, 7.84, 8.37, 8.86, 9.47, 10....   \n",
       "\n",
       "   Counts  \n",
       "0      55  \n",
       "1      66  \n",
       "2      56  \n",
       "3      39  \n",
       "4      46  \n",
       "5      51  \n",
       "6     897  "
      ]
     },
     "execution_count": 25,
     "metadata": {},
     "output_type": "execute_result"
    }
   ],
   "source": [
    "data"
   ]
  },
  {
   "cell_type": "code",
   "execution_count": 26,
   "metadata": {},
   "outputs": [
    {
     "data": {
      "text/plain": [
       "Exp1   Exp2   Exp3 \n",
       "True   False  False     55\n",
       "False  True   False     66\n",
       "       False  True      56\n",
       "True   True   False     39\n",
       "       False  True      46\n",
       "False  True   True      51\n",
       "True   True   True     897\n",
       "Name: Counts, dtype: int64"
      ]
     },
     "execution_count": 26,
     "metadata": {},
     "output_type": "execute_result"
    }
   ],
   "source": [
    "upset"
   ]
  },
  {
   "cell_type": "markdown",
   "metadata": {},
   "source": [
    "# Test 5 (Unequal length dataset)"
   ]
  },
  {
   "cell_type": "code",
   "execution_count": 27,
   "metadata": {},
   "outputs": [],
   "source": [
    "arr_1 = np.round(np.random.normal(loc = 10, scale = 2, size = 800), 2)\n",
    "arr_2 = np.round(np.random.normal(loc = 10, scale = 2, size = 1000), 2)\n",
    "arr_3 = np.round(np.random.normal(loc = 10, scale = 2, size = 1200), 2)"
   ]
  },
  {
   "cell_type": "code",
   "execution_count": 28,
   "metadata": {},
   "outputs": [],
   "source": [
    "df_1 = pd.DataFrame(arr_1)\n",
    "df_2 = pd.DataFrame(arr_2)\n",
    "df_3 = pd.DataFrame(arr_3)"
   ]
  },
  {
   "cell_type": "code",
   "execution_count": 29,
   "metadata": {},
   "outputs": [],
   "source": [
    "unequal = pd.concat([df_1, df_2, df_3],axis=1)\n",
    "unequal.columns = [\"Exp1\", \"Exp2\", \"Exp3\"]"
   ]
  },
  {
   "cell_type": "code",
   "execution_count": 30,
   "metadata": {},
   "outputs": [
    {
     "data": {
      "text/html": [
       "<div>\n",
       "<style scoped>\n",
       "    .dataframe tbody tr th:only-of-type {\n",
       "        vertical-align: middle;\n",
       "    }\n",
       "\n",
       "    .dataframe tbody tr th {\n",
       "        vertical-align: top;\n",
       "    }\n",
       "\n",
       "    .dataframe thead th {\n",
       "        text-align: right;\n",
       "    }\n",
       "</style>\n",
       "<table border=\"1\" class=\"dataframe\">\n",
       "  <thead>\n",
       "    <tr style=\"text-align: right;\">\n",
       "      <th></th>\n",
       "      <th>Exp1</th>\n",
       "      <th>Exp2</th>\n",
       "      <th>Exp3</th>\n",
       "    </tr>\n",
       "  </thead>\n",
       "  <tbody>\n",
       "    <tr>\n",
       "      <th>0</th>\n",
       "      <td>8.15</td>\n",
       "      <td>12.05</td>\n",
       "      <td>10.68</td>\n",
       "    </tr>\n",
       "    <tr>\n",
       "      <th>1</th>\n",
       "      <td>8.07</td>\n",
       "      <td>6.01</td>\n",
       "      <td>13.04</td>\n",
       "    </tr>\n",
       "    <tr>\n",
       "      <th>2</th>\n",
       "      <td>11.68</td>\n",
       "      <td>7.60</td>\n",
       "      <td>12.60</td>\n",
       "    </tr>\n",
       "    <tr>\n",
       "      <th>3</th>\n",
       "      <td>12.87</td>\n",
       "      <td>9.62</td>\n",
       "      <td>7.29</td>\n",
       "    </tr>\n",
       "    <tr>\n",
       "      <th>4</th>\n",
       "      <td>12.16</td>\n",
       "      <td>9.22</td>\n",
       "      <td>11.15</td>\n",
       "    </tr>\n",
       "    <tr>\n",
       "      <th>...</th>\n",
       "      <td>...</td>\n",
       "      <td>...</td>\n",
       "      <td>...</td>\n",
       "    </tr>\n",
       "    <tr>\n",
       "      <th>1195</th>\n",
       "      <td>NaN</td>\n",
       "      <td>NaN</td>\n",
       "      <td>11.55</td>\n",
       "    </tr>\n",
       "    <tr>\n",
       "      <th>1196</th>\n",
       "      <td>NaN</td>\n",
       "      <td>NaN</td>\n",
       "      <td>12.90</td>\n",
       "    </tr>\n",
       "    <tr>\n",
       "      <th>1197</th>\n",
       "      <td>NaN</td>\n",
       "      <td>NaN</td>\n",
       "      <td>9.79</td>\n",
       "    </tr>\n",
       "    <tr>\n",
       "      <th>1198</th>\n",
       "      <td>NaN</td>\n",
       "      <td>NaN</td>\n",
       "      <td>9.81</td>\n",
       "    </tr>\n",
       "    <tr>\n",
       "      <th>1199</th>\n",
       "      <td>NaN</td>\n",
       "      <td>NaN</td>\n",
       "      <td>10.30</td>\n",
       "    </tr>\n",
       "  </tbody>\n",
       "</table>\n",
       "<p>1200 rows × 3 columns</p>\n",
       "</div>"
      ],
      "text/plain": [
       "       Exp1   Exp2   Exp3\n",
       "0      8.15  12.05  10.68\n",
       "1      8.07   6.01  13.04\n",
       "2     11.68   7.60  12.60\n",
       "3     12.87   9.62   7.29\n",
       "4     12.16   9.22  11.15\n",
       "...     ...    ...    ...\n",
       "1195    NaN    NaN  11.55\n",
       "1196    NaN    NaN  12.90\n",
       "1197    NaN    NaN   9.79\n",
       "1198    NaN    NaN   9.81\n",
       "1199    NaN    NaN  10.30\n",
       "\n",
       "[1200 rows x 3 columns]"
      ]
     },
     "execution_count": 30,
     "metadata": {},
     "output_type": "execute_result"
    }
   ],
   "source": [
    "unequal"
   ]
  },
  {
   "cell_type": "code",
   "execution_count": 31,
   "metadata": {},
   "outputs": [
    {
     "name": "stdout",
     "output_type": "stream",
     "text": [
      "Total unique number of items [['Exp1', 512], ['Exp2', 564], ['Exp3', 589]]\n"
     ]
    },
    {
     "data": {
      "image/png": "[encoded data removed]",
      "text/plain": [
       "<Figure size 322.75x288 with 4 Axes>"
      ]
     },
     "metadata": {
      "image/png": {
       "height": 248,
       "width": 267
      },
      "needs_background": "light"
     },
     "output_type": "display_data"
    }
   ],
   "source": [
    "data,upset = intersect(unequal, upset_plot = True)"
   ]
  },
  {
   "cell_type": "code",
   "execution_count": 32,
   "metadata": {},
   "outputs": [
    {
     "data": {
      "text/html": [
       "<div>\n",
       "<style scoped>\n",
       "    .dataframe tbody tr th:only-of-type {\n",
       "        vertical-align: middle;\n",
       "    }\n",
       "\n",
       "    .dataframe tbody tr th {\n",
       "        vertical-align: top;\n",
       "    }\n",
       "\n",
       "    .dataframe thead th {\n",
       "        text-align: right;\n",
       "    }\n",
       "</style>\n",
       "<table border=\"1\" class=\"dataframe\">\n",
       "  <thead>\n",
       "    <tr style=\"text-align: right;\">\n",
       "      <th></th>\n",
       "      <th>Intersection</th>\n",
       "      <th>Match</th>\n",
       "      <th>Counts</th>\n",
       "    </tr>\n",
       "  </thead>\n",
       "  <tbody>\n",
       "    <tr>\n",
       "      <th>0</th>\n",
       "      <td>Exp1</td>\n",
       "      <td>[2.87, 4.65, 5.24, 6.61, 6.74, 5.5, 6.25, 7.25...</td>\n",
       "      <td>73</td>\n",
       "    </tr>\n",
       "    <tr>\n",
       "      <th>1</th>\n",
       "      <td>Exp2</td>\n",
       "      <td>[3.96, 4.52, 5.22, 6.01, 7.6, 6.75, 6.11, 4.83...</td>\n",
       "      <td>96</td>\n",
       "    </tr>\n",
       "    <tr>\n",
       "      <th>2</th>\n",
       "      <td>Exp3</td>\n",
       "      <td>[2.74, 4.78, 4.69, 6.71, 7.29, 7.22, 8.29, 10....</td>\n",
       "      <td>109</td>\n",
       "    </tr>\n",
       "    <tr>\n",
       "      <th>3</th>\n",
       "      <td>(Exp1, Exp2)</td>\n",
       "      <td>[4.91, 5.23, 6.63, 7.91, 8.15, 8.87, 7.76, 10....</td>\n",
       "      <td>77</td>\n",
       "    </tr>\n",
       "    <tr>\n",
       "      <th>4</th>\n",
       "      <td>(Exp1, Exp3)</td>\n",
       "      <td>[6.77, 7.41, 8.39, 9.0, 8.25, 10.0, 12.66, 13....</td>\n",
       "      <td>89</td>\n",
       "    </tr>\n",
       "    <tr>\n",
       "      <th>5</th>\n",
       "      <td>(Exp2, Exp3)</td>\n",
       "      <td>[5.18, 6.48, 7.0, 7.75, 6.97, 10.68, 11.15, 12...</td>\n",
       "      <td>118</td>\n",
       "    </tr>\n",
       "    <tr>\n",
       "      <th>6</th>\n",
       "      <td>(Exp1, Exp2, Exp3)</td>\n",
       "      <td>[6.4, 7.18, 8.95, 9.97, 9.61, 11.99, 11.24, 9....</td>\n",
       "      <td>273</td>\n",
       "    </tr>\n",
       "  </tbody>\n",
       "</table>\n",
       "</div>"
      ],
      "text/plain": [
       "         Intersection                                              Match  \\\n",
       "0                Exp1  [2.87, 4.65, 5.24, 6.61, 6.74, 5.5, 6.25, 7.25...   \n",
       "1                Exp2  [3.96, 4.52, 5.22, 6.01, 7.6, 6.75, 6.11, 4.83...   \n",
       "2                Exp3  [2.74, 4.78, 4.69, 6.71, 7.29, 7.22, 8.29, 10....   \n",
       "3        (Exp1, Exp2)  [4.91, 5.23, 6.63, 7.91, 8.15, 8.87, 7.76, 10....   \n",
       "4        (Exp1, Exp3)  [6.77, 7.41, 8.39, 9.0, 8.25, 10.0, 12.66, 13....   \n",
       "5        (Exp2, Exp3)  [5.18, 6.48, 7.0, 7.75, 6.97, 10.68, 11.15, 12...   \n",
       "6  (Exp1, Exp2, Exp3)  [6.4, 7.18, 8.95, 9.97, 9.61, 11.99, 11.24, 9....   \n",
       "\n",
       "   Counts  \n",
       "0      73  \n",
       "1      96  \n",
       "2     109  \n",
       "3      77  \n",
       "4      89  \n",
       "5     118  \n",
       "6     273  "
      ]
     },
     "execution_count": 32,
     "metadata": {},
     "output_type": "execute_result"
    }
   ],
   "source": [
    "data"
   ]
  },
  {
   "cell_type": "code",
   "execution_count": 33,
   "metadata": {},
   "outputs": [
    {
     "data": {
      "text/plain": [
       "Exp1   Exp2   Exp3 \n",
       "True   False  False     73\n",
       "False  True   False     96\n",
       "       False  True     109\n",
       "True   True   False     77\n",
       "       False  True      89\n",
       "False  True   True     118\n",
       "True   True   True     273\n",
       "Name: Counts, dtype: int64"
      ]
     },
     "execution_count": 33,
     "metadata": {},
     "output_type": "execute_result"
    }
   ],
   "source": [
    "upset"
   ]
  },
  {
   "cell_type": "markdown",
   "metadata": {},
   "source": [
    "This function passed all tests. It is able to handle large datasets pretty well and return the proper number of matches and counts. A proper pytest will be developed later."
   ]
  },
  {
   "cell_type": "markdown",
   "metadata": {},
   "source": [
    "# Using package"
   ]
  },
  {
   "cell_type": "code",
   "execution_count": 34,
   "metadata": {},
   "outputs": [],
   "source": [
    "import gen_analysis as gn"
   ]
  },
  {
   "cell_type": "code",
   "execution_count": 35,
   "metadata": {},
   "outputs": [
    {
     "name": "stdout",
     "output_type": "stream",
     "text": [
      "Total unique number of items [['Exp1', 512], ['Exp2', 564], ['Exp3', 589]]\n"
     ]
    },
    {
     "data": {
      "image/png": "[encoded data removed]",
      "text/plain": [
       "<Figure size 322.75x288 with 4 Axes>"
      ]
     },
     "metadata": {
      "image/png": {
       "height": 248,
       "width": 267
      },
      "needs_background": "light"
     },
     "output_type": "display_data"
    }
   ],
   "source": [
    "data, upset = gn.intersect(unequal, upset_plot=True)"
   ]
  },
  {
   "cell_type": "code",
   "execution_count": 36,
   "metadata": {},
   "outputs": [
    {
     "data": {
      "text/html": [
       "<div>\n",
       "<style scoped>\n",
       "    .dataframe tbody tr th:only-of-type {\n",
       "        vertical-align: middle;\n",
       "    }\n",
       "\n",
       "    .dataframe tbody tr th {\n",
       "        vertical-align: top;\n",
       "    }\n",
       "\n",
       "    .dataframe thead th {\n",
       "        text-align: right;\n",
       "    }\n",
       "</style>\n",
       "<table border=\"1\" class=\"dataframe\">\n",
       "  <thead>\n",
       "    <tr style=\"text-align: right;\">\n",
       "      <th></th>\n",
       "      <th>Intersection</th>\n",
       "      <th>Match</th>\n",
       "      <th>Counts</th>\n",
       "    </tr>\n",
       "  </thead>\n",
       "  <tbody>\n",
       "    <tr>\n",
       "      <th>0</th>\n",
       "      <td>Exp1</td>\n",
       "      <td>[2.87, 4.65, 5.24, 6.61, 6.74, 5.5, 6.25, 7.25...</td>\n",
       "      <td>73</td>\n",
       "    </tr>\n",
       "    <tr>\n",
       "      <th>1</th>\n",
       "      <td>Exp2</td>\n",
       "      <td>[3.96, 4.52, 5.22, 6.01, 7.6, 6.75, 6.11, 4.83...</td>\n",
       "      <td>96</td>\n",
       "    </tr>\n",
       "    <tr>\n",
       "      <th>2</th>\n",
       "      <td>Exp3</td>\n",
       "      <td>[2.74, 4.78, 4.69, 6.71, 7.29, 7.22, 8.29, 10....</td>\n",
       "      <td>109</td>\n",
       "    </tr>\n",
       "    <tr>\n",
       "      <th>3</th>\n",
       "      <td>(Exp1, Exp2)</td>\n",
       "      <td>[4.91, 5.23, 6.63, 7.91, 8.15, 8.87, 7.76, 10....</td>\n",
       "      <td>77</td>\n",
       "    </tr>\n",
       "    <tr>\n",
       "      <th>4</th>\n",
       "      <td>(Exp1, Exp3)</td>\n",
       "      <td>[6.77, 7.41, 8.39, 9.0, 8.25, 10.0, 12.66, 13....</td>\n",
       "      <td>89</td>\n",
       "    </tr>\n",
       "    <tr>\n",
       "      <th>5</th>\n",
       "      <td>(Exp2, Exp3)</td>\n",
       "      <td>[5.18, 6.48, 7.0, 7.75, 6.97, 10.68, 11.15, 12...</td>\n",
       "      <td>118</td>\n",
       "    </tr>\n",
       "    <tr>\n",
       "      <th>6</th>\n",
       "      <td>(Exp1, Exp2, Exp3)</td>\n",
       "      <td>[6.4, 7.18, 8.95, 9.97, 9.61, 11.99, 11.24, 9....</td>\n",
       "      <td>273</td>\n",
       "    </tr>\n",
       "  </tbody>\n",
       "</table>\n",
       "</div>"
      ],
      "text/plain": [
       "         Intersection                                              Match  \\\n",
       "0                Exp1  [2.87, 4.65, 5.24, 6.61, 6.74, 5.5, 6.25, 7.25...   \n",
       "1                Exp2  [3.96, 4.52, 5.22, 6.01, 7.6, 6.75, 6.11, 4.83...   \n",
       "2                Exp3  [2.74, 4.78, 4.69, 6.71, 7.29, 7.22, 8.29, 10....   \n",
       "3        (Exp1, Exp2)  [4.91, 5.23, 6.63, 7.91, 8.15, 8.87, 7.76, 10....   \n",
       "4        (Exp1, Exp3)  [6.77, 7.41, 8.39, 9.0, 8.25, 10.0, 12.66, 13....   \n",
       "5        (Exp2, Exp3)  [5.18, 6.48, 7.0, 7.75, 6.97, 10.68, 11.15, 12...   \n",
       "6  (Exp1, Exp2, Exp3)  [6.4, 7.18, 8.95, 9.97, 9.61, 11.99, 11.24, 9....   \n",
       "\n",
       "   Counts  \n",
       "0      73  \n",
       "1      96  \n",
       "2     109  \n",
       "3      77  \n",
       "4      89  \n",
       "5     118  \n",
       "6     273  "
      ]
     },
     "execution_count": 36,
     "metadata": {},
     "output_type": "execute_result"
    }
   ],
   "source": [
    "data"
   ]
  },
  {
   "cell_type": "code",
   "execution_count": 38,
   "metadata": {},
   "outputs": [
    {
     "data": {
      "text/plain": [
       "512"
      ]
     },
     "execution_count": 38,
     "metadata": {},
     "output_type": "execute_result"
    }
   ],
   "source": [
    "#numbers add up for exp 1\n",
    "73+77+89+273"
   ]
  },
  {
   "cell_type": "code",
   "execution_count": 39,
   "metadata": {},
   "outputs": [
    {
     "data": {
      "text/plain": [
       "Exp1   Exp2   Exp3 \n",
       "True   False  False     73\n",
       "False  True   False     96\n",
       "       False  True     109\n",
       "True   True   False     77\n",
       "       False  True      89\n",
       "False  True   True     118\n",
       "True   True   True     273\n",
       "Name: Counts, dtype: int64"
      ]
     },
     "execution_count": 39,
     "metadata": {},
     "output_type": "execute_result"
    }
   ],
   "source": [
    "upset"
   ]
  },
  {
   "cell_type": "code",
   "execution_count": 45,
   "metadata": {},
   "outputs": [
    {
     "data": {
      "text/plain": [
       "array(['Exp1'], dtype=object)"
      ]
     },
     "execution_count": 45,
     "metadata": {},
     "output_type": "execute_result"
    }
   ],
   "source": [
    "#double check random values to see if it is true\n",
    "i, c = np.where(unequal.values == 2.87)\n",
    "np.unique(unequal.columns[c])"
   ]
  },
  {
   "cell_type": "code",
   "execution_count": 46,
   "metadata": {},
   "outputs": [
    {
     "data": {
      "text/plain": [
       "array(['Exp2'], dtype=object)"
      ]
     },
     "execution_count": 46,
     "metadata": {},
     "output_type": "execute_result"
    }
   ],
   "source": [
    "#double check random values to see if it is true\n",
    "i, c = np.where(unequal.values == 6.01)\n",
    "np.unique(unequal.columns[c])"
   ]
  },
  {
   "cell_type": "code",
   "execution_count": 48,
   "metadata": {},
   "outputs": [
    {
     "data": {
      "text/plain": [
       "array(['Exp1', 'Exp2'], dtype=object)"
      ]
     },
     "execution_count": 48,
     "metadata": {},
     "output_type": "execute_result"
    }
   ],
   "source": [
    "#double check random values to see if it is true\n",
    "i, c = np.where(unequal.values == 8.15)\n",
    "np.unique(unequal.columns[c])"
   ]
  },
  {
   "cell_type": "code",
   "execution_count": 49,
   "metadata": {},
   "outputs": [
    {
     "data": {
      "text/plain": [
       "array(['Exp1', 'Exp2', 'Exp3'], dtype=object)"
      ]
     },
     "execution_count": 49,
     "metadata": {},
     "output_type": "execute_result"
    }
   ],
   "source": [
    "#double check random values to see if it is true\n",
    "i, c = np.where(unequal.values == 6.4)\n",
    "np.unique(unequal.columns[c])"
   ]
  },
  {
   "cell_type": "code",
   "execution_count": 51,
   "metadata": {},
   "outputs": [
    {
     "data": {
      "text/plain": [
       "array(['Exp1', 'Exp3'], dtype=object)"
      ]
     },
     "execution_count": 51,
     "metadata": {},
     "output_type": "execute_result"
    }
   ],
   "source": [
    "#double check random values to see if it is true\n",
    "i, c = np.where(unequal.values == 7.41)\n",
    "np.unique(unequal.columns[c])"
   ]
  },
  {
   "cell_type": "markdown",
   "metadata": {},
   "source": [
    "Everything looks good!"
   ]
  }
 ],
 "metadata": {
  "kernelspec": {
   "display_name": "Python 3",
   "language": "python",
   "name": "python3"
  },
  "language_info": {
   "codemirror_mode": {
    "name": "ipython",
    "version": 3
   },
   "file_extension": ".py",
   "mimetype": "text/x-python",
   "name": "python",
   "nbconvert_exporter": "python",
   "pygments_lexer": "ipython3",
   "version": "3.7.6"
  }
 },
 "nbformat": 4,
 "nbformat_minor": 4
}
