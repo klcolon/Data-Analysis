{
 "cells": [
  {
   "cell_type": "code",
   "execution_count": 1,
   "metadata": {},
   "outputs": [],
   "source": [
    "import pandas as pd\n",
    "import numpy as np"
   ]
  },
  {
   "cell_type": "code",
   "execution_count": 2,
   "metadata": {},
   "outputs": [],
   "source": [
    "from itertools import combinations\n",
    "from upsetplot import from_memberships\n",
    "from upsetplot import plot\n",
    "import matplotlib.pyplot as plt\n",
    "%config InlineBackend.figure_format='retina'\n",
    "\n",
    "def intersect(data, upset_plot = False):\n",
    "    \"\"\"A function that returns all possible distinct intersections and generates an upset plot\n",
    "    Parameters\n",
    "    ----------\n",
    "    data = pandas dataframe\n",
    "    upset_plot = boolean\n",
    "    \n",
    "    Returns\n",
    "    -------\n",
    "    df_final = dataframe with list of matches for each comparison and counts\n",
    "    upset = data formatted to generate upset plots \"\"\"\n",
    "\n",
    "    #isolate column names\n",
    "    col_names = data.columns.unique()\n",
    "\n",
    "    #total groups\n",
    "    n = len(col_names)\n",
    "\n",
    "    #generate all possible combinations for intersection analysis\n",
    "    comb_list = []\n",
    "    for i in range(2,n+1):\n",
    "        comb_list.append(list(combinations(col_names, i)))\n",
    "\n",
    "    #find all unique elements and drop na\n",
    "    unique_elem = []\n",
    "    tot_elements = []\n",
    "    for i in col_names:\n",
    "        unique_elem.append(set(data[i].dropna().to_list()))\n",
    "    for i in range(len(unique_elem)):\n",
    "        tot_elements.append([col_names[i], len(unique_elem[i])])\n",
    "    \n",
    "    print(\"Total unique number of items\", tot_elements)\n",
    "\n",
    "    \n",
    "    #make dictionary for unique elements \n",
    "    dict_ = {}\n",
    "    for i in range(len(col_names)):\n",
    "        dict_.update({col_names[i]: unique_elem[i]})\n",
    "\n",
    "    #intersect data, find distinct sets, drop na\n",
    "    list_intersect = []\n",
    "    for i in comb_list:\n",
    "        for j in i:\n",
    "            if len(j) == 2:\n",
    "                func_1 = \"set(data['{x}'].dropna().to_list()).intersection(data['{y}'].dropna().to_list())\".format(x = j[0], y = j[1])\n",
    "                inter = eval(func_1)\n",
    "                dict_adj = []\n",
    "                for i, k in dict_.items():  \n",
    "                    if i != j[0] and i != j[1]:\n",
    "                        dict_adj.append(k) \n",
    "                for i in dict_adj:\n",
    "                    unique = inter - i\n",
    "                    inter = unique\n",
    "                list_intersect.append([j,list(inter), len(list(inter))])\n",
    "            else:\n",
    "                func_2 = \"set(data['{x}'].dropna().to_list()).intersection(data['{y}'].dropna().to_list())\".format(x = j[0], y = j[1])\n",
    "                cond = \"i != j[0] and i != j[1]\"\n",
    "                for _ in range(2,len(j)):\n",
    "                    decor_1 = \".intersection(data['{z}'].dropna().to_list())\".format(z = j[_])\n",
    "                    decor_2 = \" and i != j[{x}]\".format(x = _)\n",
    "                    func_2 = func_2 + decor_1\n",
    "                    cond = cond + decor_2\n",
    "                inter = eval(func_2)\n",
    "                dict_adj = []\n",
    "                for i, k in dict_.items():  \n",
    "                    if eval(cond):\n",
    "                        dict_adj.append(k) \n",
    "                for i in dict_adj:\n",
    "                    unique = inter - i\n",
    "                    inter = unique\n",
    "                list_intersect.append([j,list(inter), len(list(inter))])\n",
    "\n",
    "    #obtain elements found only in individual datasets\n",
    "    for j in range(len(col_names)):\n",
    "        for i in list_intersect:\n",
    "            if col_names[j] in set(i[0]):\n",
    "                unique_elem[j] = unique_elem[j] - set(i[1]) \n",
    "        unique_elem[j] = list(unique_elem[j])\n",
    "\n",
    "    #create dataframe for elements found only in individual datasets\n",
    "    df_1 = pd.DataFrame(col_names)\n",
    "    df_1[1] = np.array(unique_elem, dtype=object).T\n",
    "    df_1[2] = [len(i) for i in unique_elem]\n",
    "\n",
    "    #combine intersect data and unique elements found within individual sets\n",
    "    df_2 = pd.DataFrame(list_intersect)\n",
    "    df_3 = pd.concat([df_1,df_2])\n",
    "    df_3.columns = [\"Intersection\", \"Match\", \"Counts\"]\n",
    "    df_3 = df_3.reset_index(drop = True)\n",
    "    \n",
    "    #generate data structure for upset plot\n",
    "    upset = df_3.drop(\"Match\", axis=1)\n",
    "    lst_1 = df_3[\"Intersection\"].to_list()\n",
    "    lst_2 = df_3[\"Intersection\"].to_list()\n",
    "    for i in range(len(col_names)):\n",
    "        lst_1[i] = [lst_2[i]]\n",
    "    upset = from_memberships(\n",
    "    lst_1, data=upset[\"Counts\"])\n",
    "    \n",
    "    #make upset plot\n",
    "    if upset_plot == True:\n",
    "        plot(upset)\n",
    "    \n",
    "    return df_3, upset "
   ]
  },
  {
   "cell_type": "markdown",
   "metadata": {},
   "source": [
    "<img src=\"./images/intersection.png\" width=\"500\" height=\"800\">"
   ]
  },
  {
   "cell_type": "markdown",
   "metadata": {},
   "source": [
    "This function will find distinct sets between groups of infinite size. The function will return groups being compared, a list of matches, and the total number of unique elements. This function will be useful in proteomic and transcriptomic analysis to find distinct matches amongst all combinations of groups. In addition, an upset plot will be generated and the corresponding UpSet plot data format used will be outputed."
   ]
  },
  {
   "cell_type": "markdown",
   "metadata": {},
   "source": [
    "# Test 1 (Small Dataset)"
   ]
  },
  {
   "cell_type": "code",
   "execution_count": 3,
   "metadata": {},
   "outputs": [],
   "source": [
    "arr = np.array([[\"a\",\"b\",\"c\",\"d\"],\n",
    "         [\"a\",\"e\",\"f\",\"d\"],\n",
    "         [\"a\",\"c\",\"z\",\"l\"]])"
   ]
  },
  {
   "cell_type": "code",
   "execution_count": 4,
   "metadata": {},
   "outputs": [],
   "source": [
    "df = pd.DataFrame(arr.T)\n",
    "df.columns = [\"x\",\"y\",\"z\"] "
   ]
  },
  {
   "cell_type": "code",
   "execution_count": 5,
   "metadata": {},
   "outputs": [
    {
     "data": {
      "text/html": [
       "<div>\n",
       "<style scoped>\n",
       "    .dataframe tbody tr th:only-of-type {\n",
       "        vertical-align: middle;\n",
       "    }\n",
       "\n",
       "    .dataframe tbody tr th {\n",
       "        vertical-align: top;\n",
       "    }\n",
       "\n",
       "    .dataframe thead th {\n",
       "        text-align: right;\n",
       "    }\n",
       "</style>\n",
       "<table border=\"1\" class=\"dataframe\">\n",
       "  <thead>\n",
       "    <tr style=\"text-align: right;\">\n",
       "      <th></th>\n",
       "      <th>x</th>\n",
       "      <th>y</th>\n",
       "      <th>z</th>\n",
       "    </tr>\n",
       "  </thead>\n",
       "  <tbody>\n",
       "    <tr>\n",
       "      <th>0</th>\n",
       "      <td>a</td>\n",
       "      <td>a</td>\n",
       "      <td>a</td>\n",
       "    </tr>\n",
       "    <tr>\n",
       "      <th>1</th>\n",
       "      <td>b</td>\n",
       "      <td>e</td>\n",
       "      <td>c</td>\n",
       "    </tr>\n",
       "    <tr>\n",
       "      <th>2</th>\n",
       "      <td>c</td>\n",
       "      <td>f</td>\n",
       "      <td>z</td>\n",
       "    </tr>\n",
       "    <tr>\n",
       "      <th>3</th>\n",
       "      <td>d</td>\n",
       "      <td>d</td>\n",
       "      <td>l</td>\n",
       "    </tr>\n",
       "  </tbody>\n",
       "</table>\n",
       "</div>"
      ],
      "text/plain": [
       "   x  y  z\n",
       "0  a  a  a\n",
       "1  b  e  c\n",
       "2  c  f  z\n",
       "3  d  d  l"
      ]
     },
     "execution_count": 5,
     "metadata": {},
     "output_type": "execute_result"
    }
   ],
   "source": [
    "df"
   ]
  },
  {
   "cell_type": "code",
   "execution_count": 6,
   "metadata": {},
   "outputs": [
    {
     "name": "stdout",
     "output_type": "stream",
     "text": [
      "Total unique number of items [['x', 4], ['y', 4], ['z', 4]]\n"
     ]
    },
    {
     "data": {
      "image/png": "[encoded data removed]",
      "text/plain": [
       "<Figure size 303.875x288 with 4 Axes>"
      ]
     },
     "metadata": {
      "image/png": {
       "height": 248,
       "width": 249
      },
      "needs_background": "light"
     },
     "output_type": "display_data"
    }
   ],
   "source": [
    "data,upset = intersect(df, upset_plot = True)\n",
    "#plt.savefig(\"upset.svg\")"
   ]
  },
  {
   "cell_type": "code",
   "execution_count": 7,
   "metadata": {},
   "outputs": [
    {
     "data": {
      "text/html": [
       "<div>\n",
       "<style scoped>\n",
       "    .dataframe tbody tr th:only-of-type {\n",
       "        vertical-align: middle;\n",
       "    }\n",
       "\n",
       "    .dataframe tbody tr th {\n",
       "        vertical-align: top;\n",
       "    }\n",
       "\n",
       "    .dataframe thead th {\n",
       "        text-align: right;\n",
       "    }\n",
       "</style>\n",
       "<table border=\"1\" class=\"dataframe\">\n",
       "  <thead>\n",
       "    <tr style=\"text-align: right;\">\n",
       "      <th></th>\n",
       "      <th>Intersection</th>\n",
       "      <th>Match</th>\n",
       "      <th>Counts</th>\n",
       "    </tr>\n",
       "  </thead>\n",
       "  <tbody>\n",
       "    <tr>\n",
       "      <th>0</th>\n",
       "      <td>x</td>\n",
       "      <td>[b]</td>\n",
       "      <td>1</td>\n",
       "    </tr>\n",
       "    <tr>\n",
       "      <th>1</th>\n",
       "      <td>y</td>\n",
       "      <td>[e, f]</td>\n",
       "      <td>2</td>\n",
       "    </tr>\n",
       "    <tr>\n",
       "      <th>2</th>\n",
       "      <td>z</td>\n",
       "      <td>[z, l]</td>\n",
       "      <td>2</td>\n",
       "    </tr>\n",
       "    <tr>\n",
       "      <th>3</th>\n",
       "      <td>(x, y)</td>\n",
       "      <td>[d]</td>\n",
       "      <td>1</td>\n",
       "    </tr>\n",
       "    <tr>\n",
       "      <th>4</th>\n",
       "      <td>(x, z)</td>\n",
       "      <td>[c]</td>\n",
       "      <td>1</td>\n",
       "    </tr>\n",
       "    <tr>\n",
       "      <th>5</th>\n",
       "      <td>(y, z)</td>\n",
       "      <td>[]</td>\n",
       "      <td>0</td>\n",
       "    </tr>\n",
       "    <tr>\n",
       "      <th>6</th>\n",
       "      <td>(x, y, z)</td>\n",
       "      <td>[a]</td>\n",
       "      <td>1</td>\n",
       "    </tr>\n",
       "  </tbody>\n",
       "</table>\n",
       "</div>"
      ],
      "text/plain": [
       "  Intersection   Match  Counts\n",
       "0            x     [b]       1\n",
       "1            y  [e, f]       2\n",
       "2            z  [z, l]       2\n",
       "3       (x, y)     [d]       1\n",
       "4       (x, z)     [c]       1\n",
       "5       (y, z)      []       0\n",
       "6    (x, y, z)     [a]       1"
      ]
     },
     "execution_count": 7,
     "metadata": {},
     "output_type": "execute_result"
    }
   ],
   "source": [
    "data"
   ]
  },
  {
   "cell_type": "code",
   "execution_count": 8,
   "metadata": {},
   "outputs": [
    {
     "data": {
      "text/plain": [
       "x      y      z    \n",
       "True   False  False    1\n",
       "False  True   False    2\n",
       "       False  True     2\n",
       "True   True   False    1\n",
       "       False  True     1\n",
       "False  True   True     0\n",
       "True   True   True     1\n",
       "Name: Counts, dtype: int64"
      ]
     },
     "execution_count": 8,
     "metadata": {},
     "output_type": "execute_result"
    }
   ],
   "source": [
    "upset"
   ]
  },
  {
   "cell_type": "markdown",
   "metadata": {},
   "source": [
    "# Test 2 (Small Dataset)"
   ]
  },
  {
   "cell_type": "code",
   "execution_count": 9,
   "metadata": {},
   "outputs": [],
   "source": [
    "arr = np.array([[\"a\",\"b\",\"c\",\"d\"],\n",
    "                [\"a\",\"e\",\"f\",\"d\"],\n",
    "                [\"a\",\"c\",\"z\",\"l\"],\n",
    "                [\"x\",\"c\",\"w\",\"l\"],\n",
    "                [\"a\",\"c\",\"z\",\"y\"]])"
   ]
  },
  {
   "cell_type": "code",
   "execution_count": 10,
   "metadata": {},
   "outputs": [],
   "source": [
    "df = pd.DataFrame(arr.T)\n",
    "df.columns = [\"a\",\"b\",\"c\", \"d\", \"e\"] "
   ]
  },
  {
   "cell_type": "code",
   "execution_count": 11,
   "metadata": {},
   "outputs": [
    {
     "data": {
      "text/html": [
       "<div>\n",
       "<style scoped>\n",
       "    .dataframe tbody tr th:only-of-type {\n",
       "        vertical-align: middle;\n",
       "    }\n",
       "\n",
       "    .dataframe tbody tr th {\n",
       "        vertical-align: top;\n",
       "    }\n",
       "\n",
       "    .dataframe thead th {\n",
       "        text-align: right;\n",
       "    }\n",
       "</style>\n",
       "<table border=\"1\" class=\"dataframe\">\n",
       "  <thead>\n",
       "    <tr style=\"text-align: right;\">\n",
       "      <th></th>\n",
       "      <th>a</th>\n",
       "      <th>b</th>\n",
       "      <th>c</th>\n",
       "      <th>d</th>\n",
       "      <th>e</th>\n",
       "    </tr>\n",
       "  </thead>\n",
       "  <tbody>\n",
       "    <tr>\n",
       "      <th>0</th>\n",
       "      <td>a</td>\n",
       "      <td>a</td>\n",
       "      <td>a</td>\n",
       "      <td>x</td>\n",
       "      <td>a</td>\n",
       "    </tr>\n",
       "    <tr>\n",
       "      <th>1</th>\n",
       "      <td>b</td>\n",
       "      <td>e</td>\n",
       "      <td>c</td>\n",
       "      <td>c</td>\n",
       "      <td>c</td>\n",
       "    </tr>\n",
       "    <tr>\n",
       "      <th>2</th>\n",
       "      <td>c</td>\n",
       "      <td>f</td>\n",
       "      <td>z</td>\n",
       "      <td>w</td>\n",
       "      <td>z</td>\n",
       "    </tr>\n",
       "    <tr>\n",
       "      <th>3</th>\n",
       "      <td>d</td>\n",
       "      <td>d</td>\n",
       "      <td>l</td>\n",
       "      <td>l</td>\n",
       "      <td>y</td>\n",
       "    </tr>\n",
       "  </tbody>\n",
       "</table>\n",
       "</div>"
      ],
      "text/plain": [
       "   a  b  c  d  e\n",
       "0  a  a  a  x  a\n",
       "1  b  e  c  c  c\n",
       "2  c  f  z  w  z\n",
       "3  d  d  l  l  y"
      ]
     },
     "execution_count": 11,
     "metadata": {},
     "output_type": "execute_result"
    }
   ],
   "source": [
    "df"
   ]
  },
  {
   "cell_type": "code",
   "execution_count": 12,
   "metadata": {},
   "outputs": [
    {
     "name": "stdout",
     "output_type": "stream",
     "text": [
      "Total unique number of items [['a', 4], ['b', 4], ['c', 4], ['d', 4], ['e', 4]]\n"
     ]
    },
    {
     "data": {
      "image/png": "[encoded data removed]",
      "text/plain": [
       "<Figure size 1072.38x352 with 4 Axes>"
      ]
     },
     "metadata": {
      "image/png": {
       "height": 296,
       "width": 845
      },
      "needs_background": "light"
     },
     "output_type": "display_data"
    }
   ],
   "source": [
    "data,upset = intersect(df, upset_plot = True)"
   ]
  },
  {
   "cell_type": "code",
   "execution_count": 13,
   "metadata": {},
   "outputs": [
    {
     "data": {
      "text/html": [
       "<div>\n",
       "<style scoped>\n",
       "    .dataframe tbody tr th:only-of-type {\n",
       "        vertical-align: middle;\n",
       "    }\n",
       "\n",
       "    .dataframe tbody tr th {\n",
       "        vertical-align: top;\n",
       "    }\n",
       "\n",
       "    .dataframe thead th {\n",
       "        text-align: right;\n",
       "    }\n",
       "</style>\n",
       "<table border=\"1\" class=\"dataframe\">\n",
       "  <thead>\n",
       "    <tr style=\"text-align: right;\">\n",
       "      <th></th>\n",
       "      <th>Intersection</th>\n",
       "      <th>Match</th>\n",
       "      <th>Counts</th>\n",
       "    </tr>\n",
       "  </thead>\n",
       "  <tbody>\n",
       "    <tr>\n",
       "      <th>0</th>\n",
       "      <td>a</td>\n",
       "      <td>[b]</td>\n",
       "      <td>1</td>\n",
       "    </tr>\n",
       "    <tr>\n",
       "      <th>1</th>\n",
       "      <td>b</td>\n",
       "      <td>[e, f]</td>\n",
       "      <td>2</td>\n",
       "    </tr>\n",
       "    <tr>\n",
       "      <th>2</th>\n",
       "      <td>c</td>\n",
       "      <td>[]</td>\n",
       "      <td>0</td>\n",
       "    </tr>\n",
       "    <tr>\n",
       "      <th>3</th>\n",
       "      <td>d</td>\n",
       "      <td>[x, w]</td>\n",
       "      <td>2</td>\n",
       "    </tr>\n",
       "    <tr>\n",
       "      <th>4</th>\n",
       "      <td>e</td>\n",
       "      <td>[y]</td>\n",
       "      <td>1</td>\n",
       "    </tr>\n",
       "    <tr>\n",
       "      <th>5</th>\n",
       "      <td>(a, b)</td>\n",
       "      <td>[d]</td>\n",
       "      <td>1</td>\n",
       "    </tr>\n",
       "    <tr>\n",
       "      <th>6</th>\n",
       "      <td>(a, c)</td>\n",
       "      <td>[]</td>\n",
       "      <td>0</td>\n",
       "    </tr>\n",
       "    <tr>\n",
       "      <th>7</th>\n",
       "      <td>(a, d)</td>\n",
       "      <td>[]</td>\n",
       "      <td>0</td>\n",
       "    </tr>\n",
       "    <tr>\n",
       "      <th>8</th>\n",
       "      <td>(a, e)</td>\n",
       "      <td>[]</td>\n",
       "      <td>0</td>\n",
       "    </tr>\n",
       "    <tr>\n",
       "      <th>9</th>\n",
       "      <td>(b, c)</td>\n",
       "      <td>[]</td>\n",
       "      <td>0</td>\n",
       "    </tr>\n",
       "    <tr>\n",
       "      <th>10</th>\n",
       "      <td>(b, d)</td>\n",
       "      <td>[]</td>\n",
       "      <td>0</td>\n",
       "    </tr>\n",
       "    <tr>\n",
       "      <th>11</th>\n",
       "      <td>(b, e)</td>\n",
       "      <td>[]</td>\n",
       "      <td>0</td>\n",
       "    </tr>\n",
       "    <tr>\n",
       "      <th>12</th>\n",
       "      <td>(c, d)</td>\n",
       "      <td>[l]</td>\n",
       "      <td>1</td>\n",
       "    </tr>\n",
       "    <tr>\n",
       "      <th>13</th>\n",
       "      <td>(c, e)</td>\n",
       "      <td>[z]</td>\n",
       "      <td>1</td>\n",
       "    </tr>\n",
       "    <tr>\n",
       "      <th>14</th>\n",
       "      <td>(d, e)</td>\n",
       "      <td>[]</td>\n",
       "      <td>0</td>\n",
       "    </tr>\n",
       "    <tr>\n",
       "      <th>15</th>\n",
       "      <td>(a, b, c)</td>\n",
       "      <td>[]</td>\n",
       "      <td>0</td>\n",
       "    </tr>\n",
       "    <tr>\n",
       "      <th>16</th>\n",
       "      <td>(a, b, d)</td>\n",
       "      <td>[]</td>\n",
       "      <td>0</td>\n",
       "    </tr>\n",
       "    <tr>\n",
       "      <th>17</th>\n",
       "      <td>(a, b, e)</td>\n",
       "      <td>[]</td>\n",
       "      <td>0</td>\n",
       "    </tr>\n",
       "    <tr>\n",
       "      <th>18</th>\n",
       "      <td>(a, c, d)</td>\n",
       "      <td>[]</td>\n",
       "      <td>0</td>\n",
       "    </tr>\n",
       "    <tr>\n",
       "      <th>19</th>\n",
       "      <td>(a, c, e)</td>\n",
       "      <td>[]</td>\n",
       "      <td>0</td>\n",
       "    </tr>\n",
       "    <tr>\n",
       "      <th>20</th>\n",
       "      <td>(a, d, e)</td>\n",
       "      <td>[]</td>\n",
       "      <td>0</td>\n",
       "    </tr>\n",
       "    <tr>\n",
       "      <th>21</th>\n",
       "      <td>(b, c, d)</td>\n",
       "      <td>[]</td>\n",
       "      <td>0</td>\n",
       "    </tr>\n",
       "    <tr>\n",
       "      <th>22</th>\n",
       "      <td>(b, c, e)</td>\n",
       "      <td>[]</td>\n",
       "      <td>0</td>\n",
       "    </tr>\n",
       "    <tr>\n",
       "      <th>23</th>\n",
       "      <td>(b, d, e)</td>\n",
       "      <td>[]</td>\n",
       "      <td>0</td>\n",
       "    </tr>\n",
       "    <tr>\n",
       "      <th>24</th>\n",
       "      <td>(c, d, e)</td>\n",
       "      <td>[]</td>\n",
       "      <td>0</td>\n",
       "    </tr>\n",
       "    <tr>\n",
       "      <th>25</th>\n",
       "      <td>(a, b, c, d)</td>\n",
       "      <td>[]</td>\n",
       "      <td>0</td>\n",
       "    </tr>\n",
       "    <tr>\n",
       "      <th>26</th>\n",
       "      <td>(a, b, c, e)</td>\n",
       "      <td>[a]</td>\n",
       "      <td>1</td>\n",
       "    </tr>\n",
       "    <tr>\n",
       "      <th>27</th>\n",
       "      <td>(a, b, d, e)</td>\n",
       "      <td>[]</td>\n",
       "      <td>0</td>\n",
       "    </tr>\n",
       "    <tr>\n",
       "      <th>28</th>\n",
       "      <td>(a, c, d, e)</td>\n",
       "      <td>[c]</td>\n",
       "      <td>1</td>\n",
       "    </tr>\n",
       "    <tr>\n",
       "      <th>29</th>\n",
       "      <td>(b, c, d, e)</td>\n",
       "      <td>[]</td>\n",
       "      <td>0</td>\n",
       "    </tr>\n",
       "    <tr>\n",
       "      <th>30</th>\n",
       "      <td>(a, b, c, d, e)</td>\n",
       "      <td>[]</td>\n",
       "      <td>0</td>\n",
       "    </tr>\n",
       "  </tbody>\n",
       "</table>\n",
       "</div>"
      ],
      "text/plain": [
       "       Intersection   Match  Counts\n",
       "0                 a     [b]       1\n",
       "1                 b  [e, f]       2\n",
       "2                 c      []       0\n",
       "3                 d  [x, w]       2\n",
       "4                 e     [y]       1\n",
       "5            (a, b)     [d]       1\n",
       "6            (a, c)      []       0\n",
       "7            (a, d)      []       0\n",
       "8            (a, e)      []       0\n",
       "9            (b, c)      []       0\n",
       "10           (b, d)      []       0\n",
       "11           (b, e)      []       0\n",
       "12           (c, d)     [l]       1\n",
       "13           (c, e)     [z]       1\n",
       "14           (d, e)      []       0\n",
       "15        (a, b, c)      []       0\n",
       "16        (a, b, d)      []       0\n",
       "17        (a, b, e)      []       0\n",
       "18        (a, c, d)      []       0\n",
       "19        (a, c, e)      []       0\n",
       "20        (a, d, e)      []       0\n",
       "21        (b, c, d)      []       0\n",
       "22        (b, c, e)      []       0\n",
       "23        (b, d, e)      []       0\n",
       "24        (c, d, e)      []       0\n",
       "25     (a, b, c, d)      []       0\n",
       "26     (a, b, c, e)     [a]       1\n",
       "27     (a, b, d, e)      []       0\n",
       "28     (a, c, d, e)     [c]       1\n",
       "29     (b, c, d, e)      []       0\n",
       "30  (a, b, c, d, e)      []       0"
      ]
     },
     "execution_count": 13,
     "metadata": {},
     "output_type": "execute_result"
    }
   ],
   "source": [
    "data"
   ]
  },
  {
   "cell_type": "code",
   "execution_count": 14,
   "metadata": {},
   "outputs": [
    {
     "data": {
      "text/plain": [
       "a      b      c      d      e    \n",
       "True   False  False  False  False    1\n",
       "False  True   False  False  False    2\n",
       "       False  True   False  False    0\n",
       "              False  True   False    2\n",
       "                     False  True     1\n",
       "True   True   False  False  False    1\n",
       "       False  True   False  False    0\n",
       "              False  True   False    0\n",
       "                     False  True     0\n",
       "False  True   True   False  False    0\n",
       "              False  True   False    0\n",
       "                     False  True     0\n",
       "       False  True   True   False    1\n",
       "                     False  True     1\n",
       "              False  True   True     0\n",
       "True   True   True   False  False    0\n",
       "              False  True   False    0\n",
       "                     False  True     0\n",
       "       False  True   True   False    0\n",
       "                     False  True     0\n",
       "              False  True   True     0\n",
       "False  True   True   True   False    0\n",
       "                     False  True     0\n",
       "              False  True   True     0\n",
       "       False  True   True   True     0\n",
       "True   True   True   True   False    0\n",
       "                     False  True     1\n",
       "              False  True   True     0\n",
       "       False  True   True   True     1\n",
       "False  True   True   True   True     0\n",
       "True   True   True   True   True     0\n",
       "Name: Counts, dtype: int64"
      ]
     },
     "execution_count": 14,
     "metadata": {},
     "output_type": "execute_result"
    }
   ],
   "source": [
    "upset"
   ]
  },
  {
   "cell_type": "markdown",
   "metadata": {},
   "source": [
    "# Test 3 (Medium Dataset)"
   ]
  },
  {
   "cell_type": "code",
   "execution_count": 15,
   "metadata": {},
   "outputs": [],
   "source": [
    "arr_1 = np.round(np.random.normal(loc = 10, scale = 2, size = 1000), 2)\n",
    "arr_2 = np.round(np.random.normal(loc = 10, scale = 2, size = 1000), 2)\n",
    "arr_3 = np.round(np.random.normal(loc = 10, scale = 2, size = 1000), 2)"
   ]
  },
  {
   "cell_type": "code",
   "execution_count": 16,
   "metadata": {},
   "outputs": [],
   "source": [
    "df = pd.DataFrame(arr_1)\n",
    "df[1] = arr_2\n",
    "df[2] = arr_3\n",
    "\n",
    "df.columns = [\"Exp1\", \"Exp2\", \"Exp3\"]"
   ]
  },
  {
   "cell_type": "code",
   "execution_count": 17,
   "metadata": {},
   "outputs": [
    {
     "data": {
      "text/html": [
       "<div>\n",
       "<style scoped>\n",
       "    .dataframe tbody tr th:only-of-type {\n",
       "        vertical-align: middle;\n",
       "    }\n",
       "\n",
       "    .dataframe tbody tr th {\n",
       "        vertical-align: top;\n",
       "    }\n",
       "\n",
       "    .dataframe thead th {\n",
       "        text-align: right;\n",
       "    }\n",
       "</style>\n",
       "<table border=\"1\" class=\"dataframe\">\n",
       "  <thead>\n",
       "    <tr style=\"text-align: right;\">\n",
       "      <th></th>\n",
       "      <th>Exp1</th>\n",
       "      <th>Exp2</th>\n",
       "      <th>Exp3</th>\n",
       "    </tr>\n",
       "  </thead>\n",
       "  <tbody>\n",
       "    <tr>\n",
       "      <th>0</th>\n",
       "      <td>10.51</td>\n",
       "      <td>7.00</td>\n",
       "      <td>10.00</td>\n",
       "    </tr>\n",
       "    <tr>\n",
       "      <th>1</th>\n",
       "      <td>13.31</td>\n",
       "      <td>9.46</td>\n",
       "      <td>12.22</td>\n",
       "    </tr>\n",
       "    <tr>\n",
       "      <th>2</th>\n",
       "      <td>12.59</td>\n",
       "      <td>7.65</td>\n",
       "      <td>12.21</td>\n",
       "    </tr>\n",
       "    <tr>\n",
       "      <th>3</th>\n",
       "      <td>7.28</td>\n",
       "      <td>8.66</td>\n",
       "      <td>13.25</td>\n",
       "    </tr>\n",
       "    <tr>\n",
       "      <th>4</th>\n",
       "      <td>9.78</td>\n",
       "      <td>8.79</td>\n",
       "      <td>12.76</td>\n",
       "    </tr>\n",
       "    <tr>\n",
       "      <th>...</th>\n",
       "      <td>...</td>\n",
       "      <td>...</td>\n",
       "      <td>...</td>\n",
       "    </tr>\n",
       "    <tr>\n",
       "      <th>995</th>\n",
       "      <td>8.33</td>\n",
       "      <td>12.12</td>\n",
       "      <td>7.21</td>\n",
       "    </tr>\n",
       "    <tr>\n",
       "      <th>996</th>\n",
       "      <td>9.81</td>\n",
       "      <td>10.74</td>\n",
       "      <td>12.23</td>\n",
       "    </tr>\n",
       "    <tr>\n",
       "      <th>997</th>\n",
       "      <td>8.36</td>\n",
       "      <td>12.12</td>\n",
       "      <td>9.23</td>\n",
       "    </tr>\n",
       "    <tr>\n",
       "      <th>998</th>\n",
       "      <td>12.51</td>\n",
       "      <td>10.03</td>\n",
       "      <td>11.36</td>\n",
       "    </tr>\n",
       "    <tr>\n",
       "      <th>999</th>\n",
       "      <td>11.27</td>\n",
       "      <td>9.47</td>\n",
       "      <td>10.44</td>\n",
       "    </tr>\n",
       "  </tbody>\n",
       "</table>\n",
       "<p>1000 rows × 3 columns</p>\n",
       "</div>"
      ],
      "text/plain": [
       "      Exp1   Exp2   Exp3\n",
       "0    10.51   7.00  10.00\n",
       "1    13.31   9.46  12.22\n",
       "2    12.59   7.65  12.21\n",
       "3     7.28   8.66  13.25\n",
       "4     9.78   8.79  12.76\n",
       "..     ...    ...    ...\n",
       "995   8.33  12.12   7.21\n",
       "996   9.81  10.74  12.23\n",
       "997   8.36  12.12   9.23\n",
       "998  12.51  10.03  11.36\n",
       "999  11.27   9.47  10.44\n",
       "\n",
       "[1000 rows x 3 columns]"
      ]
     },
     "execution_count": 17,
     "metadata": {},
     "output_type": "execute_result"
    }
   ],
   "source": [
    "df"
   ]
  },
  {
   "cell_type": "code",
   "execution_count": 18,
   "metadata": {},
   "outputs": [
    {
     "name": "stdout",
     "output_type": "stream",
     "text": [
      "Total unique number of items [['Exp1', 541], ['Exp2', 569], ['Exp3', 539]]\n"
     ]
    },
    {
     "data": {
      "image/png": "[encoded data removed]",
      "text/plain": [
       "<Figure size 322.75x288 with 4 Axes>"
      ]
     },
     "metadata": {
      "image/png": {
       "height": 248,
       "width": 269
      },
      "needs_background": "light"
     },
     "output_type": "display_data"
    }
   ],
   "source": [
    "data,upset = intersect(df, upset_plot = True)"
   ]
  },
  {
   "cell_type": "code",
   "execution_count": 19,
   "metadata": {},
   "outputs": [
    {
     "data": {
      "text/html": [
       "<div>\n",
       "<style scoped>\n",
       "    .dataframe tbody tr th:only-of-type {\n",
       "        vertical-align: middle;\n",
       "    }\n",
       "\n",
       "    .dataframe tbody tr th {\n",
       "        vertical-align: top;\n",
       "    }\n",
       "\n",
       "    .dataframe thead th {\n",
       "        text-align: right;\n",
       "    }\n",
       "</style>\n",
       "<table border=\"1\" class=\"dataframe\">\n",
       "  <thead>\n",
       "    <tr style=\"text-align: right;\">\n",
       "      <th></th>\n",
       "      <th>Intersection</th>\n",
       "      <th>Match</th>\n",
       "      <th>Counts</th>\n",
       "    </tr>\n",
       "  </thead>\n",
       "  <tbody>\n",
       "    <tr>\n",
       "      <th>0</th>\n",
       "      <td>Exp1</td>\n",
       "      <td>[3.27, 4.41, 4.33, 6.25, 7.32, 6.75, 7.75, 6.4...</td>\n",
       "      <td>92</td>\n",
       "    </tr>\n",
       "    <tr>\n",
       "      <th>1</th>\n",
       "      <td>Exp2</td>\n",
       "      <td>[2.96, 4.2, 5.5, 6.84, 7.65, 7.25, 9.25, 6.22,...</td>\n",
       "      <td>100</td>\n",
       "    </tr>\n",
       "    <tr>\n",
       "      <th>2</th>\n",
       "      <td>Exp3</td>\n",
       "      <td>[3.96, 4.96, 5.72, 6.31, 5.25, 8.14, 5.86, 3.9...</td>\n",
       "      <td>90</td>\n",
       "    </tr>\n",
       "    <tr>\n",
       "      <th>3</th>\n",
       "      <td>(Exp1, Exp2)</td>\n",
       "      <td>[5.82, 6.62, 7.72, 8.68, 8.53, 8.0, 11.3, 10.1...</td>\n",
       "      <td>103</td>\n",
       "    </tr>\n",
       "    <tr>\n",
       "      <th>4</th>\n",
       "      <td>(Exp1, Exp3)</td>\n",
       "      <td>[4.71, 5.76, 6.13, 7.66, 7.5, 8.5, 10.0, 7.47,...</td>\n",
       "      <td>83</td>\n",
       "    </tr>\n",
       "    <tr>\n",
       "      <th>5</th>\n",
       "      <td>(Exp2, Exp3)</td>\n",
       "      <td>[5.7, 6.06, 7.94, 8.34, 7.0, 8.25, 9.0, 12.01,...</td>\n",
       "      <td>103</td>\n",
       "    </tr>\n",
       "    <tr>\n",
       "      <th>6</th>\n",
       "      <td>(Exp1, Exp2, Exp3)</td>\n",
       "      <td>[6.27, 7.91, 8.84, 8.4, 10.5, 9.78, 9.4, 9.21,...</td>\n",
       "      <td>263</td>\n",
       "    </tr>\n",
       "  </tbody>\n",
       "</table>\n",
       "</div>"
      ],
      "text/plain": [
       "         Intersection                                              Match  \\\n",
       "0                Exp1  [3.27, 4.41, 4.33, 6.25, 7.32, 6.75, 7.75, 6.4...   \n",
       "1                Exp2  [2.96, 4.2, 5.5, 6.84, 7.65, 7.25, 9.25, 6.22,...   \n",
       "2                Exp3  [3.96, 4.96, 5.72, 6.31, 5.25, 8.14, 5.86, 3.9...   \n",
       "3        (Exp1, Exp2)  [5.82, 6.62, 7.72, 8.68, 8.53, 8.0, 11.3, 10.1...   \n",
       "4        (Exp1, Exp3)  [4.71, 5.76, 6.13, 7.66, 7.5, 8.5, 10.0, 7.47,...   \n",
       "5        (Exp2, Exp3)  [5.7, 6.06, 7.94, 8.34, 7.0, 8.25, 9.0, 12.01,...   \n",
       "6  (Exp1, Exp2, Exp3)  [6.27, 7.91, 8.84, 8.4, 10.5, 9.78, 9.4, 9.21,...   \n",
       "\n",
       "   Counts  \n",
       "0      92  \n",
       "1     100  \n",
       "2      90  \n",
       "3     103  \n",
       "4      83  \n",
       "5     103  \n",
       "6     263  "
      ]
     },
     "execution_count": 19,
     "metadata": {},
     "output_type": "execute_result"
    }
   ],
   "source": [
    "data"
   ]
  },
  {
   "cell_type": "code",
   "execution_count": 20,
   "metadata": {},
   "outputs": [
    {
     "data": {
      "text/plain": [
       "Exp1   Exp2   Exp3 \n",
       "True   False  False     92\n",
       "False  True   False    100\n",
       "       False  True      90\n",
       "True   True   False    103\n",
       "       False  True      83\n",
       "False  True   True     103\n",
       "True   True   True     263\n",
       "Name: Counts, dtype: int64"
      ]
     },
     "execution_count": 20,
     "metadata": {},
     "output_type": "execute_result"
    }
   ],
   "source": [
    "upset"
   ]
  },
  {
   "cell_type": "markdown",
   "metadata": {},
   "source": [
    "# Test 4 (Medium High Dataset)"
   ]
  },
  {
   "cell_type": "code",
   "execution_count": 22,
   "metadata": {},
   "outputs": [],
   "source": [
    "arr_1 = np.round(np.random.normal(loc = 10, scale = 2, size = 10000), 2)\n",
    "arr_2 = np.round(np.random.normal(loc = 10, scale = 2, size = 10000), 2)\n",
    "arr_3 = np.round(np.random.normal(loc = 10, scale = 2, size = 10000), 2)"
   ]
  },
  {
   "cell_type": "code",
   "execution_count": 23,
   "metadata": {},
   "outputs": [],
   "source": [
    "df = pd.DataFrame(arr_1)\n",
    "df[1] = arr_2\n",
    "df[2] = arr_3\n",
    "\n",
    "df.columns = [\"Exp1\", \"Exp2\", \"Exp3\"]"
   ]
  },
  {
   "cell_type": "code",
   "execution_count": 24,
   "metadata": {},
   "outputs": [
    {
     "data": {
      "text/html": [
       "<div>\n",
       "<style scoped>\n",
       "    .dataframe tbody tr th:only-of-type {\n",
       "        vertical-align: middle;\n",
       "    }\n",
       "\n",
       "    .dataframe tbody tr th {\n",
       "        vertical-align: top;\n",
       "    }\n",
       "\n",
       "    .dataframe thead th {\n",
       "        text-align: right;\n",
       "    }\n",
       "</style>\n",
       "<table border=\"1\" class=\"dataframe\">\n",
       "  <thead>\n",
       "    <tr style=\"text-align: right;\">\n",
       "      <th></th>\n",
       "      <th>Exp1</th>\n",
       "      <th>Exp2</th>\n",
       "      <th>Exp3</th>\n",
       "    </tr>\n",
       "  </thead>\n",
       "  <tbody>\n",
       "    <tr>\n",
       "      <th>0</th>\n",
       "      <td>13.95</td>\n",
       "      <td>13.35</td>\n",
       "      <td>7.43</td>\n",
       "    </tr>\n",
       "    <tr>\n",
       "      <th>1</th>\n",
       "      <td>12.69</td>\n",
       "      <td>10.18</td>\n",
       "      <td>9.67</td>\n",
       "    </tr>\n",
       "    <tr>\n",
       "      <th>2</th>\n",
       "      <td>12.49</td>\n",
       "      <td>9.21</td>\n",
       "      <td>9.65</td>\n",
       "    </tr>\n",
       "    <tr>\n",
       "      <th>3</th>\n",
       "      <td>8.29</td>\n",
       "      <td>9.07</td>\n",
       "      <td>10.03</td>\n",
       "    </tr>\n",
       "    <tr>\n",
       "      <th>4</th>\n",
       "      <td>12.22</td>\n",
       "      <td>8.97</td>\n",
       "      <td>8.59</td>\n",
       "    </tr>\n",
       "    <tr>\n",
       "      <th>...</th>\n",
       "      <td>...</td>\n",
       "      <td>...</td>\n",
       "      <td>...</td>\n",
       "    </tr>\n",
       "    <tr>\n",
       "      <th>9995</th>\n",
       "      <td>8.50</td>\n",
       "      <td>8.64</td>\n",
       "      <td>10.19</td>\n",
       "    </tr>\n",
       "    <tr>\n",
       "      <th>9996</th>\n",
       "      <td>7.33</td>\n",
       "      <td>6.46</td>\n",
       "      <td>8.65</td>\n",
       "    </tr>\n",
       "    <tr>\n",
       "      <th>9997</th>\n",
       "      <td>11.98</td>\n",
       "      <td>12.85</td>\n",
       "      <td>12.82</td>\n",
       "    </tr>\n",
       "    <tr>\n",
       "      <th>9998</th>\n",
       "      <td>12.16</td>\n",
       "      <td>6.43</td>\n",
       "      <td>7.64</td>\n",
       "    </tr>\n",
       "    <tr>\n",
       "      <th>9999</th>\n",
       "      <td>8.04</td>\n",
       "      <td>7.53</td>\n",
       "      <td>12.38</td>\n",
       "    </tr>\n",
       "  </tbody>\n",
       "</table>\n",
       "<p>10000 rows × 3 columns</p>\n",
       "</div>"
      ],
      "text/plain": [
       "       Exp1   Exp2   Exp3\n",
       "0     13.95  13.35   7.43\n",
       "1     12.69  10.18   9.67\n",
       "2     12.49   9.21   9.65\n",
       "3      8.29   9.07  10.03\n",
       "4     12.22   8.97   8.59\n",
       "...     ...    ...    ...\n",
       "9995   8.50   8.64  10.19\n",
       "9996   7.33   6.46   8.65\n",
       "9997  11.98  12.85  12.82\n",
       "9998  12.16   6.43   7.64\n",
       "9999   8.04   7.53  12.38\n",
       "\n",
       "[10000 rows x 3 columns]"
      ]
     },
     "execution_count": 24,
     "metadata": {},
     "output_type": "execute_result"
    }
   ],
   "source": [
    "df"
   ]
  },
  {
   "cell_type": "code",
   "execution_count": 25,
   "metadata": {},
   "outputs": [
    {
     "name": "stdout",
     "output_type": "stream",
     "text": [
      "Total unique number of items [['Exp1', 1061], ['Exp2', 1044], ['Exp3', 1046]]\n"
     ]
    },
    {
     "data": {
      "image/png": "[encoded data removed]",
      "text/plain": [
       "<Figure size 322.75x288 with 4 Axes>"
      ]
     },
     "metadata": {
      "image/png": {
       "height": 248,
       "width": 274
      },
      "needs_background": "light"
     },
     "output_type": "display_data"
    }
   ],
   "source": [
    "data,upset = intersect(df, upset_plot = True)"
   ]
  },
  {
   "cell_type": "code",
   "execution_count": 26,
   "metadata": {},
   "outputs": [
    {
     "data": {
      "text/html": [
       "<div>\n",
       "<style scoped>\n",
       "    .dataframe tbody tr th:only-of-type {\n",
       "        vertical-align: middle;\n",
       "    }\n",
       "\n",
       "    .dataframe tbody tr th {\n",
       "        vertical-align: top;\n",
       "    }\n",
       "\n",
       "    .dataframe thead th {\n",
       "        text-align: right;\n",
       "    }\n",
       "</style>\n",
       "<table border=\"1\" class=\"dataframe\">\n",
       "  <thead>\n",
       "    <tr style=\"text-align: right;\">\n",
       "      <th></th>\n",
       "      <th>Intersection</th>\n",
       "      <th>Match</th>\n",
       "      <th>Counts</th>\n",
       "    </tr>\n",
       "  </thead>\n",
       "  <tbody>\n",
       "    <tr>\n",
       "      <th>0</th>\n",
       "      <td>Exp1</td>\n",
       "      <td>[2.11, 3.51, 4.19, 4.1, 4.6, 5.01, 4.73, 4.23,...</td>\n",
       "      <td>63</td>\n",
       "    </tr>\n",
       "    <tr>\n",
       "      <th>1</th>\n",
       "      <td>Exp2</td>\n",
       "      <td>[2.15, 3.8, 4.69, 5.4, 4.41, 5.38, 5.07, 4.54,...</td>\n",
       "      <td>53</td>\n",
       "    </tr>\n",
       "    <tr>\n",
       "      <th>2</th>\n",
       "      <td>Exp3</td>\n",
       "      <td>[2.75, 3.75, 4.47, 3.91, 4.91, 3.63, 4.85, 4.3...</td>\n",
       "      <td>50</td>\n",
       "    </tr>\n",
       "    <tr>\n",
       "      <th>3</th>\n",
       "      <td>(Exp1, Exp2)</td>\n",
       "      <td>[3.27, 4.25, 5.97, 6.94, 6.16, 5.04, 5.17, 5.3...</td>\n",
       "      <td>43</td>\n",
       "    </tr>\n",
       "    <tr>\n",
       "      <th>4</th>\n",
       "      <td>(Exp1, Exp3)</td>\n",
       "      <td>[3.93, 4.0, 5.5, 4.78, 5.25, 4.97, 5.22, 4.94,...</td>\n",
       "      <td>48</td>\n",
       "    </tr>\n",
       "    <tr>\n",
       "      <th>5</th>\n",
       "      <td>(Exp2, Exp3)</td>\n",
       "      <td>[4.72, 4.82, 5.52, 5.19, 4.66, 4.88, 5.32, 4.7...</td>\n",
       "      <td>41</td>\n",
       "    </tr>\n",
       "    <tr>\n",
       "      <th>6</th>\n",
       "      <td>(Exp1, Exp2, Exp3)</td>\n",
       "      <td>[4.63, 5.18, 6.19, 7.43, 8.59, 9.67, 10.75, 11...</td>\n",
       "      <td>907</td>\n",
       "    </tr>\n",
       "  </tbody>\n",
       "</table>\n",
       "</div>"
      ],
      "text/plain": [
       "         Intersection                                              Match  \\\n",
       "0                Exp1  [2.11, 3.51, 4.19, 4.1, 4.6, 5.01, 4.73, 4.23,...   \n",
       "1                Exp2  [2.15, 3.8, 4.69, 5.4, 4.41, 5.38, 5.07, 4.54,...   \n",
       "2                Exp3  [2.75, 3.75, 4.47, 3.91, 4.91, 3.63, 4.85, 4.3...   \n",
       "3        (Exp1, Exp2)  [3.27, 4.25, 5.97, 6.94, 6.16, 5.04, 5.17, 5.3...   \n",
       "4        (Exp1, Exp3)  [3.93, 4.0, 5.5, 4.78, 5.25, 4.97, 5.22, 4.94,...   \n",
       "5        (Exp2, Exp3)  [4.72, 4.82, 5.52, 5.19, 4.66, 4.88, 5.32, 4.7...   \n",
       "6  (Exp1, Exp2, Exp3)  [4.63, 5.18, 6.19, 7.43, 8.59, 9.67, 10.75, 11...   \n",
       "\n",
       "   Counts  \n",
       "0      63  \n",
       "1      53  \n",
       "2      50  \n",
       "3      43  \n",
       "4      48  \n",
       "5      41  \n",
       "6     907  "
      ]
     },
     "execution_count": 26,
     "metadata": {},
     "output_type": "execute_result"
    }
   ],
   "source": [
    "data"
   ]
  },
  {
   "cell_type": "code",
   "execution_count": 27,
   "metadata": {},
   "outputs": [
    {
     "data": {
      "text/plain": [
       "Exp1   Exp2   Exp3 \n",
       "True   False  False     63\n",
       "False  True   False     53\n",
       "       False  True      50\n",
       "True   True   False     43\n",
       "       False  True      48\n",
       "False  True   True      41\n",
       "True   True   True     907\n",
       "Name: Counts, dtype: int64"
      ]
     },
     "execution_count": 27,
     "metadata": {},
     "output_type": "execute_result"
    }
   ],
   "source": [
    "upset"
   ]
  },
  {
   "cell_type": "markdown",
   "metadata": {},
   "source": [
    "# Test 5 (Unequal length dataset)"
   ]
  },
  {
   "cell_type": "code",
   "execution_count": 28,
   "metadata": {},
   "outputs": [],
   "source": [
    "arr_1 = np.round(np.random.normal(loc = 10, scale = 2, size = 800), 2)\n",
    "arr_2 = np.round(np.random.normal(loc = 10, scale = 2, size = 1000), 2)\n",
    "arr_3 = np.round(np.random.normal(loc = 10, scale = 2, size = 1200), 2)"
   ]
  },
  {
   "cell_type": "code",
   "execution_count": 29,
   "metadata": {},
   "outputs": [],
   "source": [
    "df_1 = pd.DataFrame(arr_1)\n",
    "df_2 = pd.DataFrame(arr_2)\n",
    "df_3 = pd.DataFrame(arr_3)"
   ]
  },
  {
   "cell_type": "code",
   "execution_count": 30,
   "metadata": {},
   "outputs": [],
   "source": [
    "unequal = pd.concat([df_1, df_2, df_3],axis=1)\n",
    "unequal.columns = [\"Exp1\", \"Exp2\", \"Exp3\"]"
   ]
  },
  {
   "cell_type": "code",
   "execution_count": 31,
   "metadata": {},
   "outputs": [
    {
     "data": {
      "text/html": [
       "<div>\n",
       "<style scoped>\n",
       "    .dataframe tbody tr th:only-of-type {\n",
       "        vertical-align: middle;\n",
       "    }\n",
       "\n",
       "    .dataframe tbody tr th {\n",
       "        vertical-align: top;\n",
       "    }\n",
       "\n",
       "    .dataframe thead th {\n",
       "        text-align: right;\n",
       "    }\n",
       "</style>\n",
       "<table border=\"1\" class=\"dataframe\">\n",
       "  <thead>\n",
       "    <tr style=\"text-align: right;\">\n",
       "      <th></th>\n",
       "      <th>Exp1</th>\n",
       "      <th>Exp2</th>\n",
       "      <th>Exp3</th>\n",
       "    </tr>\n",
       "  </thead>\n",
       "  <tbody>\n",
       "    <tr>\n",
       "      <th>0</th>\n",
       "      <td>10.72</td>\n",
       "      <td>11.30</td>\n",
       "      <td>9.61</td>\n",
       "    </tr>\n",
       "    <tr>\n",
       "      <th>1</th>\n",
       "      <td>9.63</td>\n",
       "      <td>11.37</td>\n",
       "      <td>12.93</td>\n",
       "    </tr>\n",
       "    <tr>\n",
       "      <th>2</th>\n",
       "      <td>11.95</td>\n",
       "      <td>8.59</td>\n",
       "      <td>12.57</td>\n",
       "    </tr>\n",
       "    <tr>\n",
       "      <th>3</th>\n",
       "      <td>8.24</td>\n",
       "      <td>6.50</td>\n",
       "      <td>9.84</td>\n",
       "    </tr>\n",
       "    <tr>\n",
       "      <th>4</th>\n",
       "      <td>12.19</td>\n",
       "      <td>5.91</td>\n",
       "      <td>9.79</td>\n",
       "    </tr>\n",
       "    <tr>\n",
       "      <th>...</th>\n",
       "      <td>...</td>\n",
       "      <td>...</td>\n",
       "      <td>...</td>\n",
       "    </tr>\n",
       "    <tr>\n",
       "      <th>1195</th>\n",
       "      <td>NaN</td>\n",
       "      <td>NaN</td>\n",
       "      <td>11.47</td>\n",
       "    </tr>\n",
       "    <tr>\n",
       "      <th>1196</th>\n",
       "      <td>NaN</td>\n",
       "      <td>NaN</td>\n",
       "      <td>10.11</td>\n",
       "    </tr>\n",
       "    <tr>\n",
       "      <th>1197</th>\n",
       "      <td>NaN</td>\n",
       "      <td>NaN</td>\n",
       "      <td>7.95</td>\n",
       "    </tr>\n",
       "    <tr>\n",
       "      <th>1198</th>\n",
       "      <td>NaN</td>\n",
       "      <td>NaN</td>\n",
       "      <td>8.69</td>\n",
       "    </tr>\n",
       "    <tr>\n",
       "      <th>1199</th>\n",
       "      <td>NaN</td>\n",
       "      <td>NaN</td>\n",
       "      <td>12.50</td>\n",
       "    </tr>\n",
       "  </tbody>\n",
       "</table>\n",
       "<p>1200 rows × 3 columns</p>\n",
       "</div>"
      ],
      "text/plain": [
       "       Exp1   Exp2   Exp3\n",
       "0     10.72  11.30   9.61\n",
       "1      9.63  11.37  12.93\n",
       "2     11.95   8.59  12.57\n",
       "3      8.24   6.50   9.84\n",
       "4     12.19   5.91   9.79\n",
       "...     ...    ...    ...\n",
       "1195    NaN    NaN  11.47\n",
       "1196    NaN    NaN  10.11\n",
       "1197    NaN    NaN   7.95\n",
       "1198    NaN    NaN   8.69\n",
       "1199    NaN    NaN  12.50\n",
       "\n",
       "[1200 rows x 3 columns]"
      ]
     },
     "execution_count": 31,
     "metadata": {},
     "output_type": "execute_result"
    }
   ],
   "source": [
    "unequal"
   ]
  },
  {
   "cell_type": "code",
   "execution_count": 32,
   "metadata": {},
   "outputs": [
    {
     "name": "stdout",
     "output_type": "stream",
     "text": [
      "Total unique number of items [['Exp1', 492], ['Exp2', 561], ['Exp3', 624]]\n"
     ]
    },
    {
     "data": {
      "image/png": "[encoded data removed]",
      "text/plain": [
       "<Figure size 322.75x288 with 4 Axes>"
      ]
     },
     "metadata": {
      "image/png": {
       "height": 248,
       "width": 265
      },
      "needs_background": "light"
     },
     "output_type": "display_data"
    }
   ],
   "source": [
    "data,upset = intersect(unequal, upset_plot = True)"
   ]
  },
  {
   "cell_type": "code",
   "execution_count": 33,
   "metadata": {},
   "outputs": [
    {
     "data": {
      "text/html": [
       "<div>\n",
       "<style scoped>\n",
       "    .dataframe tbody tr th:only-of-type {\n",
       "        vertical-align: middle;\n",
       "    }\n",
       "\n",
       "    .dataframe tbody tr th {\n",
       "        vertical-align: top;\n",
       "    }\n",
       "\n",
       "    .dataframe thead th {\n",
       "        text-align: right;\n",
       "    }\n",
       "</style>\n",
       "<table border=\"1\" class=\"dataframe\">\n",
       "  <thead>\n",
       "    <tr style=\"text-align: right;\">\n",
       "      <th></th>\n",
       "      <th>Intersection</th>\n",
       "      <th>Match</th>\n",
       "      <th>Counts</th>\n",
       "    </tr>\n",
       "  </thead>\n",
       "  <tbody>\n",
       "    <tr>\n",
       "      <th>0</th>\n",
       "      <td>Exp1</td>\n",
       "      <td>[3.67, 4.53, 5.5, 5.25, 7.5, 5.97, 6.72, 7.36,...</td>\n",
       "      <td>62</td>\n",
       "    </tr>\n",
       "    <tr>\n",
       "      <th>1</th>\n",
       "      <td>Exp2</td>\n",
       "      <td>[3.93, 4.87, 5.91, 6.0, 7.75, 8.0, 5.47, 10.7,...</td>\n",
       "      <td>87</td>\n",
       "    </tr>\n",
       "    <tr>\n",
       "      <th>2</th>\n",
       "      <td>Exp3</td>\n",
       "      <td>[4.91, 5.98, 6.22, 6.75, 8.35, 5.22, 10.18, 10...</td>\n",
       "      <td>128</td>\n",
       "    </tr>\n",
       "    <tr>\n",
       "      <th>3</th>\n",
       "      <td>(Exp1, Exp2)</td>\n",
       "      <td>[5.67, 6.5, 7.82, 7.32, 7.25, 8.72, 7.19, 10.6...</td>\n",
       "      <td>74</td>\n",
       "    </tr>\n",
       "    <tr>\n",
       "      <th>4</th>\n",
       "      <td>(Exp1, Exp3)</td>\n",
       "      <td>[5.58, 6.93, 7.6, 7.94, 7.13, 7.44, 8.69, 9.25...</td>\n",
       "      <td>96</td>\n",
       "    </tr>\n",
       "    <tr>\n",
       "      <th>5</th>\n",
       "      <td>(Exp2, Exp3)</td>\n",
       "      <td>[4.93, 5.72, 6.02, 6.97, 8.5, 9.45, 9.75, 11.4...</td>\n",
       "      <td>140</td>\n",
       "    </tr>\n",
       "    <tr>\n",
       "      <th>6</th>\n",
       "      <td>(Exp1, Exp2, Exp3)</td>\n",
       "      <td>[5.99, 6.17, 7.97, 8.84, 8.76, 8.23, 8.17, 9.6...</td>\n",
       "      <td>260</td>\n",
       "    </tr>\n",
       "  </tbody>\n",
       "</table>\n",
       "</div>"
      ],
      "text/plain": [
       "         Intersection                                              Match  \\\n",
       "0                Exp1  [3.67, 4.53, 5.5, 5.25, 7.5, 5.97, 6.72, 7.36,...   \n",
       "1                Exp2  [3.93, 4.87, 5.91, 6.0, 7.75, 8.0, 5.47, 10.7,...   \n",
       "2                Exp3  [4.91, 5.98, 6.22, 6.75, 8.35, 5.22, 10.18, 10...   \n",
       "3        (Exp1, Exp2)  [5.67, 6.5, 7.82, 7.32, 7.25, 8.72, 7.19, 10.6...   \n",
       "4        (Exp1, Exp3)  [5.58, 6.93, 7.6, 7.94, 7.13, 7.44, 8.69, 9.25...   \n",
       "5        (Exp2, Exp3)  [4.93, 5.72, 6.02, 6.97, 8.5, 9.45, 9.75, 11.4...   \n",
       "6  (Exp1, Exp2, Exp3)  [5.99, 6.17, 7.97, 8.84, 8.76, 8.23, 8.17, 9.6...   \n",
       "\n",
       "   Counts  \n",
       "0      62  \n",
       "1      87  \n",
       "2     128  \n",
       "3      74  \n",
       "4      96  \n",
       "5     140  \n",
       "6     260  "
      ]
     },
     "execution_count": 33,
     "metadata": {},
     "output_type": "execute_result"
    }
   ],
   "source": [
    "data"
   ]
  },
  {
   "cell_type": "code",
   "execution_count": 34,
   "metadata": {},
   "outputs": [
    {
     "data": {
      "text/plain": [
       "Exp1   Exp2   Exp3 \n",
       "True   False  False     62\n",
       "False  True   False     87\n",
       "       False  True     128\n",
       "True   True   False     74\n",
       "       False  True      96\n",
       "False  True   True     140\n",
       "True   True   True     260\n",
       "Name: Counts, dtype: int64"
      ]
     },
     "execution_count": 34,
     "metadata": {},
     "output_type": "execute_result"
    }
   ],
   "source": [
    "upset"
   ]
  },
  {
   "cell_type": "markdown",
   "metadata": {},
   "source": [
    "This function passed all tests. It is able to handle large datasets pretty well and return the proper number of matches and counts. A proper pytest will be developed later."
   ]
  },
  {
   "cell_type": "markdown",
   "metadata": {},
   "source": [
    "# Using package"
   ]
  },
  {
   "cell_type": "code",
   "execution_count": 36,
   "metadata": {},
   "outputs": [],
   "source": [
    "import gen_analysis as gn"
   ]
  },
  {
   "cell_type": "code",
   "execution_count": 37,
   "metadata": {},
   "outputs": [
    {
     "name": "stdout",
     "output_type": "stream",
     "text": [
      "Total unique number of items [['Exp1', 492], ['Exp2', 561], ['Exp3', 624]]\n"
     ]
    },
    {
     "data": {
      "image/png": "[encoded data removed]",
      "text/plain": [
       "<Figure size 322.75x288 with 4 Axes>"
      ]
     },
     "metadata": {
      "image/png": {
       "height": 248,
       "width": 265
      },
      "needs_background": "light"
     },
     "output_type": "display_data"
    }
   ],
   "source": [
    "data, upset = gn.intersect(unequal, upset_plot=True)"
   ]
  },
  {
   "cell_type": "code",
   "execution_count": 38,
   "metadata": {},
   "outputs": [
    {
     "data": {
      "text/html": [
       "<div>\n",
       "<style scoped>\n",
       "    .dataframe tbody tr th:only-of-type {\n",
       "        vertical-align: middle;\n",
       "    }\n",
       "\n",
       "    .dataframe tbody tr th {\n",
       "        vertical-align: top;\n",
       "    }\n",
       "\n",
       "    .dataframe thead th {\n",
       "        text-align: right;\n",
       "    }\n",
       "</style>\n",
       "<table border=\"1\" class=\"dataframe\">\n",
       "  <thead>\n",
       "    <tr style=\"text-align: right;\">\n",
       "      <th></th>\n",
       "      <th>Intersection</th>\n",
       "      <th>Match</th>\n",
       "      <th>Counts</th>\n",
       "    </tr>\n",
       "  </thead>\n",
       "  <tbody>\n",
       "    <tr>\n",
       "      <th>0</th>\n",
       "      <td>Exp1</td>\n",
       "      <td>[3.67, 4.53, 5.5, 5.25, 7.5, 5.97, 6.72, 7.36,...</td>\n",
       "      <td>62</td>\n",
       "    </tr>\n",
       "    <tr>\n",
       "      <th>1</th>\n",
       "      <td>Exp2</td>\n",
       "      <td>[3.93, 4.87, 5.91, 6.0, 7.75, 8.0, 5.47, 10.7,...</td>\n",
       "      <td>87</td>\n",
       "    </tr>\n",
       "    <tr>\n",
       "      <th>2</th>\n",
       "      <td>Exp3</td>\n",
       "      <td>[4.91, 5.98, 6.22, 6.75, 8.35, 5.22, 10.18, 10...</td>\n",
       "      <td>128</td>\n",
       "    </tr>\n",
       "    <tr>\n",
       "      <th>3</th>\n",
       "      <td>(Exp1, Exp2)</td>\n",
       "      <td>[5.67, 6.5, 7.82, 7.32, 7.25, 8.72, 7.19, 10.6...</td>\n",
       "      <td>74</td>\n",
       "    </tr>\n",
       "    <tr>\n",
       "      <th>4</th>\n",
       "      <td>(Exp1, Exp3)</td>\n",
       "      <td>[5.58, 6.93, 7.6, 7.94, 7.13, 7.44, 8.69, 9.25...</td>\n",
       "      <td>96</td>\n",
       "    </tr>\n",
       "    <tr>\n",
       "      <th>5</th>\n",
       "      <td>(Exp2, Exp3)</td>\n",
       "      <td>[4.93, 5.72, 6.02, 6.97, 8.5, 9.45, 9.75, 11.4...</td>\n",
       "      <td>140</td>\n",
       "    </tr>\n",
       "    <tr>\n",
       "      <th>6</th>\n",
       "      <td>(Exp1, Exp2, Exp3)</td>\n",
       "      <td>[5.99, 6.17, 7.97, 8.84, 8.76, 8.23, 8.17, 9.6...</td>\n",
       "      <td>260</td>\n",
       "    </tr>\n",
       "  </tbody>\n",
       "</table>\n",
       "</div>"
      ],
      "text/plain": [
       "         Intersection                                              Match  \\\n",
       "0                Exp1  [3.67, 4.53, 5.5, 5.25, 7.5, 5.97, 6.72, 7.36,...   \n",
       "1                Exp2  [3.93, 4.87, 5.91, 6.0, 7.75, 8.0, 5.47, 10.7,...   \n",
       "2                Exp3  [4.91, 5.98, 6.22, 6.75, 8.35, 5.22, 10.18, 10...   \n",
       "3        (Exp1, Exp2)  [5.67, 6.5, 7.82, 7.32, 7.25, 8.72, 7.19, 10.6...   \n",
       "4        (Exp1, Exp3)  [5.58, 6.93, 7.6, 7.94, 7.13, 7.44, 8.69, 9.25...   \n",
       "5        (Exp2, Exp3)  [4.93, 5.72, 6.02, 6.97, 8.5, 9.45, 9.75, 11.4...   \n",
       "6  (Exp1, Exp2, Exp3)  [5.99, 6.17, 7.97, 8.84, 8.76, 8.23, 8.17, 9.6...   \n",
       "\n",
       "   Counts  \n",
       "0      62  \n",
       "1      87  \n",
       "2     128  \n",
       "3      74  \n",
       "4      96  \n",
       "5     140  \n",
       "6     260  "
      ]
     },
     "execution_count": 38,
     "metadata": {},
     "output_type": "execute_result"
    }
   ],
   "source": [
    "data"
   ]
  },
  {
   "cell_type": "code",
   "execution_count": 39,
   "metadata": {},
   "outputs": [
    {
     "data": {
      "text/plain": [
       "492"
      ]
     },
     "execution_count": 39,
     "metadata": {},
     "output_type": "execute_result"
    }
   ],
   "source": [
    "#numbers add up for exp 1\n",
    "62+74+96+260"
   ]
  },
  {
   "cell_type": "code",
   "execution_count": 40,
   "metadata": {},
   "outputs": [
    {
     "data": {
      "text/plain": [
       "Exp1   Exp2   Exp3 \n",
       "True   False  False     62\n",
       "False  True   False     87\n",
       "       False  True     128\n",
       "True   True   False     74\n",
       "       False  True      96\n",
       "False  True   True     140\n",
       "True   True   True     260\n",
       "Name: Counts, dtype: int64"
      ]
     },
     "execution_count": 40,
     "metadata": {},
     "output_type": "execute_result"
    }
   ],
   "source": [
    "upset"
   ]
  },
  {
   "cell_type": "code",
   "execution_count": 47,
   "metadata": {},
   "outputs": [
    {
     "data": {
      "text/plain": [
       "Index(['Exp1'], dtype='object')"
      ]
     },
     "execution_count": 47,
     "metadata": {},
     "output_type": "execute_result"
    }
   ],
   "source": [
    "#double check random values to see if it is true\n",
    "i, c = np.where(unequal.values == 3.67)\n",
    "unequal.columns[c]"
   ]
  },
  {
   "cell_type": "code",
   "execution_count": 48,
   "metadata": {},
   "outputs": [
    {
     "data": {
      "text/plain": [
       "Index(['Exp2'], dtype='object')"
      ]
     },
     "execution_count": 48,
     "metadata": {},
     "output_type": "execute_result"
    }
   ],
   "source": [
    "#double check random values to see if it is true\n",
    "i, c = np.where(unequal.values == 5.91)\n",
    "unequal.columns[c]"
   ]
  },
  {
   "cell_type": "code",
   "execution_count": 50,
   "metadata": {},
   "outputs": [
    {
     "data": {
      "text/plain": [
       "Index(['Exp1', 'Exp2'], dtype='object')"
      ]
     },
     "execution_count": 50,
     "metadata": {},
     "output_type": "execute_result"
    }
   ],
   "source": [
    "#double check random values to see if it is true\n",
    "i, c = np.where(unequal.values == 5.67)\n",
    "unequal.columns[c]"
   ]
  },
  {
   "cell_type": "code",
   "execution_count": 51,
   "metadata": {},
   "outputs": [
    {
     "data": {
      "text/plain": [
       "Index(['Exp3', 'Exp1', 'Exp2', 'Exp2'], dtype='object')"
      ]
     },
     "execution_count": 51,
     "metadata": {},
     "output_type": "execute_result"
    }
   ],
   "source": [
    "#double check random values to see if it is true\n",
    "i, c = np.where(unequal.values == 8.17)\n",
    "unequal.columns[c]"
   ]
  },
  {
   "cell_type": "code",
   "execution_count": 52,
   "metadata": {},
   "outputs": [
    {
     "data": {
      "text/plain": [
       "Index(['Exp1', 'Exp3'], dtype='object')"
      ]
     },
     "execution_count": 52,
     "metadata": {},
     "output_type": "execute_result"
    }
   ],
   "source": [
    "#double check random values to see if it is true\n",
    "i, c = np.where(unequal.values == 7.94)\n",
    "unequal.columns[c]"
   ]
  },
  {
   "cell_type": "markdown",
   "metadata": {},
   "source": [
    "Everything looks good!"
   ]
  },
  {
   "cell_type": "code",
   "execution_count": null,
   "metadata": {},
   "outputs": [],
   "source": []
  }
 ],
 "metadata": {
  "kernelspec": {
   "display_name": "Python 3",
   "language": "python",
   "name": "python3"
  },
  "language_info": {
   "codemirror_mode": {
    "name": "ipython",
    "version": 3
   },
   "file_extension": ".py",
   "mimetype": "text/x-python",
   "name": "python",
   "nbconvert_exporter": "python",
   "pygments_lexer": "ipython3",
   "version": "3.7.6"
  }
 },
 "nbformat": 4,
 "nbformat_minor": 4
}
