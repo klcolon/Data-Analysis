{
 "cells": [
  {
   "cell_type": "code",
   "execution_count": 1,
   "metadata": {},
   "outputs": [],
   "source": [
    "import pandas as pd\n",
    "import numpy as np"
   ]
  },
  {
   "cell_type": "code",
   "execution_count": 2,
   "metadata": {},
   "outputs": [],
   "source": [
    "from itertools import combinations\n",
    "from upsetplot import from_memberships\n",
    "from upsetplot import plot\n",
    "import matplotlib.pyplot as plt\n",
    "%config InlineBackend.figure_format='retina'\n",
    "\n",
    "def intersect(data, upset_plot = False):\n",
    "    \"\"\"A function that returns all possible distinct intersections and generates an upset plot\n",
    "    Parameters\n",
    "    ----------\n",
    "    data = pandas dataframe\n",
    "    upset_plot = boolean\n",
    "    \n",
    "    Returns\n",
    "    -------\n",
    "    df_final = dataframe with list of matches for each comparison and counts\n",
    "    upset = data formatted to generate upset plots \"\"\"\n",
    "\n",
    "    #convert data column names to strings  \n",
    "    col_names = []\n",
    "    for i in data.columns:\n",
    "        col_names.append(str(i))\n",
    "    data.columns = col_names\n",
    "    \n",
    "    #total groups\n",
    "    n = len(col_names)\n",
    "\n",
    "    #generate all possible combinations for intersection analysis\n",
    "    comb_list = []\n",
    "    for i in range(2,n+1):\n",
    "        comb_list.append(list(combinations(col_names, i)))\n",
    "\n",
    "    #find all unique elements and drop na\n",
    "    unique_elem = []\n",
    "    tot_elements = []\n",
    "    for i in col_names:\n",
    "        unique_elem.append(set(data[i].dropna().to_list()))\n",
    "    for i in range(len(unique_elem)):\n",
    "        tot_elements.append([col_names[i], len(unique_elem[i])])\n",
    "    \n",
    "    print(\"Total unique number of items\", tot_elements)\n",
    "\n",
    "    \n",
    "    #make dictionary for unique elements \n",
    "    dict_ = {}\n",
    "    for i in range(len(col_names)):\n",
    "        dict_.update({col_names[i]: unique_elem[i]})\n",
    "\n",
    "    #intersect data, find distinct sets, drop na\n",
    "    list_intersect = []\n",
    "    for i in comb_list:\n",
    "        for j in i:\n",
    "            if len(j) == 2:\n",
    "                func_1 = \"set(data['{x}'].dropna().to_list()).intersection(data['{y}'].dropna().to_list())\".format(x = j[0], y = j[1])\n",
    "                inter = eval(func_1)\n",
    "                dict_adj = []\n",
    "                for i, k in dict_.items():  \n",
    "                    if i != j[0] and i != j[1]:\n",
    "                        dict_adj.append(k) \n",
    "                for i in dict_adj:\n",
    "                    unique = inter - i\n",
    "                    inter = unique\n",
    "                list_intersect.append([j,list(inter), len(list(inter))])\n",
    "            else:\n",
    "                func_2 = \"set(data['{x}'].dropna().to_list()).intersection(data['{y}'].dropna().to_list())\".format(x = j[0], y = j[1])\n",
    "                cond = \"i != j[0] and i != j[1]\"\n",
    "                for _ in range(2,len(j)):\n",
    "                    decor_1 = \".intersection(data['{z}'].dropna().to_list())\".format(z = j[_])\n",
    "                    decor_2 = \" and i != j[{x}]\".format(x = _)\n",
    "                    func_2 = func_2 + decor_1\n",
    "                    cond = cond + decor_2\n",
    "                inter = eval(func_2)\n",
    "                dict_adj = []\n",
    "                for i, k in dict_.items():  \n",
    "                    if eval(cond):\n",
    "                        dict_adj.append(k) \n",
    "                for i in dict_adj:\n",
    "                    unique = inter - i\n",
    "                    inter = unique\n",
    "                list_intersect.append([j,list(inter), len(list(inter))])\n",
    "\n",
    "    #obtain elements found only in individual datasets\n",
    "    for j in range(len(col_names)):\n",
    "        for i in list_intersect:\n",
    "            if col_names[j] in set(i[0]):\n",
    "                unique_elem[j] = unique_elem[j] - set(i[1]) \n",
    "        unique_elem[j] = list(unique_elem[j])\n",
    "\n",
    "    #create dataframe for elements found only in individual datasets\n",
    "    df_1 = pd.DataFrame(col_names)\n",
    "    df_1[1] = unique_elem\n",
    "    df_1[2] = [len(i) for i in unique_elem]\n",
    "\n",
    "    #combine intersect data and unique elements found within individual sets\n",
    "    df_2 = pd.DataFrame(list_intersect)\n",
    "    df_3 = pd.concat([df_1,df_2])\n",
    "    df_3.columns = [\"Intersection\", \"Match\", \"Counts\"]\n",
    "    df_3 = df_3.reset_index(drop = True)\n",
    "    \n",
    "    #generate data structure for upset plot\n",
    "    upset = df_3.drop(\"Match\", axis=1)\n",
    "    lst_1 = df_3[\"Intersection\"].to_list()\n",
    "    lst_2 = df_3[\"Intersection\"].to_list()\n",
    "    for i in range(len(col_names)):\n",
    "        lst_1[i] = [lst_2[i]]\n",
    "    upset = from_memberships(\n",
    "    lst_1, data=upset[\"Counts\"])\n",
    "    \n",
    "    #make upset plot\n",
    "    if upset_plot == True:\n",
    "        plot(upset)\n",
    "    \n",
    "    return df_3, upset"
   ]
  },
  {
   "cell_type": "markdown",
   "metadata": {},
   "source": [
    "<img src=\"./images/intersection.png\" width=\"500\" height=\"800\">"
   ]
  },
  {
   "cell_type": "markdown",
   "metadata": {},
   "source": [
    "This function will find distinct sets between groups of infinite size. The function will return groups being compared, a list of matches, and the total number of unique elements. This function will be useful in proteomic and transcriptomic analysis to find distinct matches amongst all combinations of groups. In addition, an upset plot will be generated and the corresponding UpSet plot data format used will be outputed."
   ]
  },
  {
   "cell_type": "markdown",
   "metadata": {},
   "source": [
    "# Test 1 (Small Dataset)"
   ]
  },
  {
   "cell_type": "code",
   "execution_count": 3,
   "metadata": {},
   "outputs": [],
   "source": [
    "arr = np.array([[\"a\",\"b\",\"c\",\"d\"],\n",
    "         [\"a\",\"e\",\"f\",\"d\"],\n",
    "         [\"a\",\"c\",\"z\",\"l\"]])"
   ]
  },
  {
   "cell_type": "code",
   "execution_count": 4,
   "metadata": {},
   "outputs": [],
   "source": [
    "#using integer column names\n",
    "df = pd.DataFrame(arr.T)\n",
    "df.columns = [0,1,2] "
   ]
  },
  {
   "cell_type": "code",
   "execution_count": 5,
   "metadata": {},
   "outputs": [
    {
     "data": {
      "text/html": [
       "<div>\n",
       "<style scoped>\n",
       "    .dataframe tbody tr th:only-of-type {\n",
       "        vertical-align: middle;\n",
       "    }\n",
       "\n",
       "    .dataframe tbody tr th {\n",
       "        vertical-align: top;\n",
       "    }\n",
       "\n",
       "    .dataframe thead th {\n",
       "        text-align: right;\n",
       "    }\n",
       "</style>\n",
       "<table border=\"1\" class=\"dataframe\">\n",
       "  <thead>\n",
       "    <tr style=\"text-align: right;\">\n",
       "      <th></th>\n",
       "      <th>0</th>\n",
       "      <th>1</th>\n",
       "      <th>2</th>\n",
       "    </tr>\n",
       "  </thead>\n",
       "  <tbody>\n",
       "    <tr>\n",
       "      <th>0</th>\n",
       "      <td>a</td>\n",
       "      <td>a</td>\n",
       "      <td>a</td>\n",
       "    </tr>\n",
       "    <tr>\n",
       "      <th>1</th>\n",
       "      <td>b</td>\n",
       "      <td>e</td>\n",
       "      <td>c</td>\n",
       "    </tr>\n",
       "    <tr>\n",
       "      <th>2</th>\n",
       "      <td>c</td>\n",
       "      <td>f</td>\n",
       "      <td>z</td>\n",
       "    </tr>\n",
       "    <tr>\n",
       "      <th>3</th>\n",
       "      <td>d</td>\n",
       "      <td>d</td>\n",
       "      <td>l</td>\n",
       "    </tr>\n",
       "  </tbody>\n",
       "</table>\n",
       "</div>"
      ],
      "text/plain": [
       "   0  1  2\n",
       "0  a  a  a\n",
       "1  b  e  c\n",
       "2  c  f  z\n",
       "3  d  d  l"
      ]
     },
     "execution_count": 5,
     "metadata": {},
     "output_type": "execute_result"
    }
   ],
   "source": [
    "df"
   ]
  },
  {
   "cell_type": "code",
   "execution_count": 6,
   "metadata": {},
   "outputs": [
    {
     "name": "stdout",
     "output_type": "stream",
     "text": [
      "Total unique number of items [['0', 4], ['1', 4], ['2', 4]]\n"
     ]
    },
    {
     "data": {
      "image/png": "[encoded data removed]",
      "text/plain": [
       "<Figure size 304.375x288 with 4 Axes>"
      ]
     },
     "metadata": {
      "image/png": {
       "height": 248,
       "width": 250
      },
      "needs_background": "light"
     },
     "output_type": "display_data"
    }
   ],
   "source": [
    "data,upset = intersect(df, upset_plot = True)\n",
    "#plt.savefig(\"upset.svg\")"
   ]
  },
  {
   "cell_type": "code",
   "execution_count": 7,
   "metadata": {},
   "outputs": [
    {
     "data": {
      "text/html": [
       "<div>\n",
       "<style scoped>\n",
       "    .dataframe tbody tr th:only-of-type {\n",
       "        vertical-align: middle;\n",
       "    }\n",
       "\n",
       "    .dataframe tbody tr th {\n",
       "        vertical-align: top;\n",
       "    }\n",
       "\n",
       "    .dataframe thead th {\n",
       "        text-align: right;\n",
       "    }\n",
       "</style>\n",
       "<table border=\"1\" class=\"dataframe\">\n",
       "  <thead>\n",
       "    <tr style=\"text-align: right;\">\n",
       "      <th></th>\n",
       "      <th>Intersection</th>\n",
       "      <th>Match</th>\n",
       "      <th>Counts</th>\n",
       "    </tr>\n",
       "  </thead>\n",
       "  <tbody>\n",
       "    <tr>\n",
       "      <th>0</th>\n",
       "      <td>0</td>\n",
       "      <td>[b]</td>\n",
       "      <td>1</td>\n",
       "    </tr>\n",
       "    <tr>\n",
       "      <th>1</th>\n",
       "      <td>1</td>\n",
       "      <td>[e, f]</td>\n",
       "      <td>2</td>\n",
       "    </tr>\n",
       "    <tr>\n",
       "      <th>2</th>\n",
       "      <td>2</td>\n",
       "      <td>[l, z]</td>\n",
       "      <td>2</td>\n",
       "    </tr>\n",
       "    <tr>\n",
       "      <th>3</th>\n",
       "      <td>(0, 1)</td>\n",
       "      <td>[d]</td>\n",
       "      <td>1</td>\n",
       "    </tr>\n",
       "    <tr>\n",
       "      <th>4</th>\n",
       "      <td>(0, 2)</td>\n",
       "      <td>[c]</td>\n",
       "      <td>1</td>\n",
       "    </tr>\n",
       "    <tr>\n",
       "      <th>5</th>\n",
       "      <td>(1, 2)</td>\n",
       "      <td>[]</td>\n",
       "      <td>0</td>\n",
       "    </tr>\n",
       "    <tr>\n",
       "      <th>6</th>\n",
       "      <td>(0, 1, 2)</td>\n",
       "      <td>[a]</td>\n",
       "      <td>1</td>\n",
       "    </tr>\n",
       "  </tbody>\n",
       "</table>\n",
       "</div>"
      ],
      "text/plain": [
       "  Intersection   Match  Counts\n",
       "0            0     [b]       1\n",
       "1            1  [e, f]       2\n",
       "2            2  [l, z]       2\n",
       "3       (0, 1)     [d]       1\n",
       "4       (0, 2)     [c]       1\n",
       "5       (1, 2)      []       0\n",
       "6    (0, 1, 2)     [a]       1"
      ]
     },
     "execution_count": 7,
     "metadata": {},
     "output_type": "execute_result"
    }
   ],
   "source": [
    "data"
   ]
  },
  {
   "cell_type": "code",
   "execution_count": 8,
   "metadata": {},
   "outputs": [
    {
     "data": {
      "text/plain": [
       "0      1      2    \n",
       "True   False  False    1\n",
       "False  True   False    2\n",
       "       False  True     2\n",
       "True   True   False    1\n",
       "       False  True     1\n",
       "False  True   True     0\n",
       "True   True   True     1\n",
       "Name: Counts, dtype: int64"
      ]
     },
     "execution_count": 8,
     "metadata": {},
     "output_type": "execute_result"
    }
   ],
   "source": [
    "upset"
   ]
  },
  {
   "cell_type": "markdown",
   "metadata": {},
   "source": [
    "# Test 2 (Small Dataset)"
   ]
  },
  {
   "cell_type": "code",
   "execution_count": 9,
   "metadata": {},
   "outputs": [],
   "source": [
    "arr = np.array([[\"a\",\"b\",\"c\",\"d\"],\n",
    "                [\"a\",\"e\",\"f\",\"d\"],\n",
    "                [\"a\",\"c\",\"z\",\"l\"],\n",
    "                [\"x\",\"c\",\"w\",\"l\"],\n",
    "                [\"a\",\"c\",\"z\",\"y\"]])"
   ]
  },
  {
   "cell_type": "code",
   "execution_count": 10,
   "metadata": {},
   "outputs": [],
   "source": [
    "df = pd.DataFrame(arr.T)\n",
    "df.columns = [\"a\",\"b\",\"c\", \"d\", \"e\"] "
   ]
  },
  {
   "cell_type": "code",
   "execution_count": 11,
   "metadata": {},
   "outputs": [
    {
     "data": {
      "text/html": [
       "<div>\n",
       "<style scoped>\n",
       "    .dataframe tbody tr th:only-of-type {\n",
       "        vertical-align: middle;\n",
       "    }\n",
       "\n",
       "    .dataframe tbody tr th {\n",
       "        vertical-align: top;\n",
       "    }\n",
       "\n",
       "    .dataframe thead th {\n",
       "        text-align: right;\n",
       "    }\n",
       "</style>\n",
       "<table border=\"1\" class=\"dataframe\">\n",
       "  <thead>\n",
       "    <tr style=\"text-align: right;\">\n",
       "      <th></th>\n",
       "      <th>a</th>\n",
       "      <th>b</th>\n",
       "      <th>c</th>\n",
       "      <th>d</th>\n",
       "      <th>e</th>\n",
       "    </tr>\n",
       "  </thead>\n",
       "  <tbody>\n",
       "    <tr>\n",
       "      <th>0</th>\n",
       "      <td>a</td>\n",
       "      <td>a</td>\n",
       "      <td>a</td>\n",
       "      <td>x</td>\n",
       "      <td>a</td>\n",
       "    </tr>\n",
       "    <tr>\n",
       "      <th>1</th>\n",
       "      <td>b</td>\n",
       "      <td>e</td>\n",
       "      <td>c</td>\n",
       "      <td>c</td>\n",
       "      <td>c</td>\n",
       "    </tr>\n",
       "    <tr>\n",
       "      <th>2</th>\n",
       "      <td>c</td>\n",
       "      <td>f</td>\n",
       "      <td>z</td>\n",
       "      <td>w</td>\n",
       "      <td>z</td>\n",
       "    </tr>\n",
       "    <tr>\n",
       "      <th>3</th>\n",
       "      <td>d</td>\n",
       "      <td>d</td>\n",
       "      <td>l</td>\n",
       "      <td>l</td>\n",
       "      <td>y</td>\n",
       "    </tr>\n",
       "  </tbody>\n",
       "</table>\n",
       "</div>"
      ],
      "text/plain": [
       "   a  b  c  d  e\n",
       "0  a  a  a  x  a\n",
       "1  b  e  c  c  c\n",
       "2  c  f  z  w  z\n",
       "3  d  d  l  l  y"
      ]
     },
     "execution_count": 11,
     "metadata": {},
     "output_type": "execute_result"
    }
   ],
   "source": [
    "df"
   ]
  },
  {
   "cell_type": "code",
   "execution_count": 12,
   "metadata": {},
   "outputs": [
    {
     "name": "stdout",
     "output_type": "stream",
     "text": [
      "Total unique number of items [['a', 3], ['b', 3], ['c', 3], ['d', 3], ['e', 3]]\n"
     ]
    },
    {
     "data": {
      "image/png": "[encoded data removed]",
      "text/plain": [
       "<Figure size 1072.38x352 with 4 Axes>"
      ]
     },
     "metadata": {
      "image/png": {
       "height": 296,
       "width": 845
      },
      "needs_background": "light"
     },
     "output_type": "display_data"
    }
   ],
   "source": [
    "data,upset = intersect(df[0:3], upset_plot = True)"
   ]
  },
  {
   "cell_type": "code",
   "execution_count": 13,
   "metadata": {},
   "outputs": [
    {
     "data": {
      "text/html": [
       "<div>\n",
       "<style scoped>\n",
       "    .dataframe tbody tr th:only-of-type {\n",
       "        vertical-align: middle;\n",
       "    }\n",
       "\n",
       "    .dataframe tbody tr th {\n",
       "        vertical-align: top;\n",
       "    }\n",
       "\n",
       "    .dataframe thead th {\n",
       "        text-align: right;\n",
       "    }\n",
       "</style>\n",
       "<table border=\"1\" class=\"dataframe\">\n",
       "  <thead>\n",
       "    <tr style=\"text-align: right;\">\n",
       "      <th></th>\n",
       "      <th>Intersection</th>\n",
       "      <th>Match</th>\n",
       "      <th>Counts</th>\n",
       "    </tr>\n",
       "  </thead>\n",
       "  <tbody>\n",
       "    <tr>\n",
       "      <th>0</th>\n",
       "      <td>a</td>\n",
       "      <td>[b]</td>\n",
       "      <td>1</td>\n",
       "    </tr>\n",
       "    <tr>\n",
       "      <th>1</th>\n",
       "      <td>b</td>\n",
       "      <td>[e, f]</td>\n",
       "      <td>2</td>\n",
       "    </tr>\n",
       "    <tr>\n",
       "      <th>2</th>\n",
       "      <td>c</td>\n",
       "      <td>[]</td>\n",
       "      <td>0</td>\n",
       "    </tr>\n",
       "    <tr>\n",
       "      <th>3</th>\n",
       "      <td>d</td>\n",
       "      <td>[w, x]</td>\n",
       "      <td>2</td>\n",
       "    </tr>\n",
       "    <tr>\n",
       "      <th>4</th>\n",
       "      <td>e</td>\n",
       "      <td>[]</td>\n",
       "      <td>0</td>\n",
       "    </tr>\n",
       "    <tr>\n",
       "      <th>5</th>\n",
       "      <td>(a, b)</td>\n",
       "      <td>[]</td>\n",
       "      <td>0</td>\n",
       "    </tr>\n",
       "    <tr>\n",
       "      <th>6</th>\n",
       "      <td>(a, c)</td>\n",
       "      <td>[]</td>\n",
       "      <td>0</td>\n",
       "    </tr>\n",
       "    <tr>\n",
       "      <th>7</th>\n",
       "      <td>(a, d)</td>\n",
       "      <td>[]</td>\n",
       "      <td>0</td>\n",
       "    </tr>\n",
       "    <tr>\n",
       "      <th>8</th>\n",
       "      <td>(a, e)</td>\n",
       "      <td>[]</td>\n",
       "      <td>0</td>\n",
       "    </tr>\n",
       "    <tr>\n",
       "      <th>9</th>\n",
       "      <td>(b, c)</td>\n",
       "      <td>[]</td>\n",
       "      <td>0</td>\n",
       "    </tr>\n",
       "    <tr>\n",
       "      <th>10</th>\n",
       "      <td>(b, d)</td>\n",
       "      <td>[]</td>\n",
       "      <td>0</td>\n",
       "    </tr>\n",
       "    <tr>\n",
       "      <th>11</th>\n",
       "      <td>(b, e)</td>\n",
       "      <td>[]</td>\n",
       "      <td>0</td>\n",
       "    </tr>\n",
       "    <tr>\n",
       "      <th>12</th>\n",
       "      <td>(c, d)</td>\n",
       "      <td>[]</td>\n",
       "      <td>0</td>\n",
       "    </tr>\n",
       "    <tr>\n",
       "      <th>13</th>\n",
       "      <td>(c, e)</td>\n",
       "      <td>[z]</td>\n",
       "      <td>1</td>\n",
       "    </tr>\n",
       "    <tr>\n",
       "      <th>14</th>\n",
       "      <td>(d, e)</td>\n",
       "      <td>[]</td>\n",
       "      <td>0</td>\n",
       "    </tr>\n",
       "    <tr>\n",
       "      <th>15</th>\n",
       "      <td>(a, b, c)</td>\n",
       "      <td>[]</td>\n",
       "      <td>0</td>\n",
       "    </tr>\n",
       "    <tr>\n",
       "      <th>16</th>\n",
       "      <td>(a, b, d)</td>\n",
       "      <td>[]</td>\n",
       "      <td>0</td>\n",
       "    </tr>\n",
       "    <tr>\n",
       "      <th>17</th>\n",
       "      <td>(a, b, e)</td>\n",
       "      <td>[]</td>\n",
       "      <td>0</td>\n",
       "    </tr>\n",
       "    <tr>\n",
       "      <th>18</th>\n",
       "      <td>(a, c, d)</td>\n",
       "      <td>[]</td>\n",
       "      <td>0</td>\n",
       "    </tr>\n",
       "    <tr>\n",
       "      <th>19</th>\n",
       "      <td>(a, c, e)</td>\n",
       "      <td>[]</td>\n",
       "      <td>0</td>\n",
       "    </tr>\n",
       "    <tr>\n",
       "      <th>20</th>\n",
       "      <td>(a, d, e)</td>\n",
       "      <td>[]</td>\n",
       "      <td>0</td>\n",
       "    </tr>\n",
       "    <tr>\n",
       "      <th>21</th>\n",
       "      <td>(b, c, d)</td>\n",
       "      <td>[]</td>\n",
       "      <td>0</td>\n",
       "    </tr>\n",
       "    <tr>\n",
       "      <th>22</th>\n",
       "      <td>(b, c, e)</td>\n",
       "      <td>[]</td>\n",
       "      <td>0</td>\n",
       "    </tr>\n",
       "    <tr>\n",
       "      <th>23</th>\n",
       "      <td>(b, d, e)</td>\n",
       "      <td>[]</td>\n",
       "      <td>0</td>\n",
       "    </tr>\n",
       "    <tr>\n",
       "      <th>24</th>\n",
       "      <td>(c, d, e)</td>\n",
       "      <td>[]</td>\n",
       "      <td>0</td>\n",
       "    </tr>\n",
       "    <tr>\n",
       "      <th>25</th>\n",
       "      <td>(a, b, c, d)</td>\n",
       "      <td>[]</td>\n",
       "      <td>0</td>\n",
       "    </tr>\n",
       "    <tr>\n",
       "      <th>26</th>\n",
       "      <td>(a, b, c, e)</td>\n",
       "      <td>[a]</td>\n",
       "      <td>1</td>\n",
       "    </tr>\n",
       "    <tr>\n",
       "      <th>27</th>\n",
       "      <td>(a, b, d, e)</td>\n",
       "      <td>[]</td>\n",
       "      <td>0</td>\n",
       "    </tr>\n",
       "    <tr>\n",
       "      <th>28</th>\n",
       "      <td>(a, c, d, e)</td>\n",
       "      <td>[c]</td>\n",
       "      <td>1</td>\n",
       "    </tr>\n",
       "    <tr>\n",
       "      <th>29</th>\n",
       "      <td>(b, c, d, e)</td>\n",
       "      <td>[]</td>\n",
       "      <td>0</td>\n",
       "    </tr>\n",
       "    <tr>\n",
       "      <th>30</th>\n",
       "      <td>(a, b, c, d, e)</td>\n",
       "      <td>[]</td>\n",
       "      <td>0</td>\n",
       "    </tr>\n",
       "  </tbody>\n",
       "</table>\n",
       "</div>"
      ],
      "text/plain": [
       "       Intersection   Match  Counts\n",
       "0                 a     [b]       1\n",
       "1                 b  [e, f]       2\n",
       "2                 c      []       0\n",
       "3                 d  [w, x]       2\n",
       "4                 e      []       0\n",
       "5            (a, b)      []       0\n",
       "6            (a, c)      []       0\n",
       "7            (a, d)      []       0\n",
       "8            (a, e)      []       0\n",
       "9            (b, c)      []       0\n",
       "10           (b, d)      []       0\n",
       "11           (b, e)      []       0\n",
       "12           (c, d)      []       0\n",
       "13           (c, e)     [z]       1\n",
       "14           (d, e)      []       0\n",
       "15        (a, b, c)      []       0\n",
       "16        (a, b, d)      []       0\n",
       "17        (a, b, e)      []       0\n",
       "18        (a, c, d)      []       0\n",
       "19        (a, c, e)      []       0\n",
       "20        (a, d, e)      []       0\n",
       "21        (b, c, d)      []       0\n",
       "22        (b, c, e)      []       0\n",
       "23        (b, d, e)      []       0\n",
       "24        (c, d, e)      []       0\n",
       "25     (a, b, c, d)      []       0\n",
       "26     (a, b, c, e)     [a]       1\n",
       "27     (a, b, d, e)      []       0\n",
       "28     (a, c, d, e)     [c]       1\n",
       "29     (b, c, d, e)      []       0\n",
       "30  (a, b, c, d, e)      []       0"
      ]
     },
     "execution_count": 13,
     "metadata": {},
     "output_type": "execute_result"
    }
   ],
   "source": [
    "data"
   ]
  },
  {
   "cell_type": "code",
   "execution_count": 14,
   "metadata": {},
   "outputs": [
    {
     "data": {
      "text/plain": [
       "a      b      c      d      e    \n",
       "True   False  False  False  False    1\n",
       "False  True   False  False  False    2\n",
       "       False  True   False  False    0\n",
       "              False  True   False    2\n",
       "                     False  True     0\n",
       "True   True   False  False  False    0\n",
       "       False  True   False  False    0\n",
       "              False  True   False    0\n",
       "                     False  True     0\n",
       "False  True   True   False  False    0\n",
       "              False  True   False    0\n",
       "                     False  True     0\n",
       "       False  True   True   False    0\n",
       "                     False  True     1\n",
       "              False  True   True     0\n",
       "True   True   True   False  False    0\n",
       "              False  True   False    0\n",
       "                     False  True     0\n",
       "       False  True   True   False    0\n",
       "                     False  True     0\n",
       "              False  True   True     0\n",
       "False  True   True   True   False    0\n",
       "                     False  True     0\n",
       "              False  True   True     0\n",
       "       False  True   True   True     0\n",
       "True   True   True   True   False    0\n",
       "                     False  True     1\n",
       "              False  True   True     0\n",
       "       False  True   True   True     1\n",
       "False  True   True   True   True     0\n",
       "True   True   True   True   True     0\n",
       "Name: Counts, dtype: int64"
      ]
     },
     "execution_count": 14,
     "metadata": {},
     "output_type": "execute_result"
    }
   ],
   "source": [
    "upset"
   ]
  },
  {
   "cell_type": "markdown",
   "metadata": {},
   "source": [
    "# Test 3 (Medium Dataset)"
   ]
  },
  {
   "cell_type": "code",
   "execution_count": 15,
   "metadata": {},
   "outputs": [],
   "source": [
    "arr_1 = np.round(np.random.normal(loc = 10, scale = 2, size = 1000), 2)\n",
    "arr_2 = np.round(np.random.normal(loc = 10, scale = 2, size = 1000), 2)\n",
    "arr_3 = np.round(np.random.normal(loc = 10, scale = 2, size = 1000), 2)"
   ]
  },
  {
   "cell_type": "code",
   "execution_count": 16,
   "metadata": {},
   "outputs": [],
   "source": [
    "df = pd.DataFrame(arr_1)\n",
    "df[1] = arr_2\n",
    "df[2] = arr_3\n",
    "\n",
    "df.columns = [\"Exp1\", \"Exp2\", \"Exp3\"]"
   ]
  },
  {
   "cell_type": "code",
   "execution_count": 17,
   "metadata": {},
   "outputs": [
    {
     "data": {
      "text/html": [
       "<div>\n",
       "<style scoped>\n",
       "    .dataframe tbody tr th:only-of-type {\n",
       "        vertical-align: middle;\n",
       "    }\n",
       "\n",
       "    .dataframe tbody tr th {\n",
       "        vertical-align: top;\n",
       "    }\n",
       "\n",
       "    .dataframe thead th {\n",
       "        text-align: right;\n",
       "    }\n",
       "</style>\n",
       "<table border=\"1\" class=\"dataframe\">\n",
       "  <thead>\n",
       "    <tr style=\"text-align: right;\">\n",
       "      <th></th>\n",
       "      <th>Exp1</th>\n",
       "      <th>Exp2</th>\n",
       "      <th>Exp3</th>\n",
       "    </tr>\n",
       "  </thead>\n",
       "  <tbody>\n",
       "    <tr>\n",
       "      <th>0</th>\n",
       "      <td>10.17</td>\n",
       "      <td>11.31</td>\n",
       "      <td>8.92</td>\n",
       "    </tr>\n",
       "    <tr>\n",
       "      <th>1</th>\n",
       "      <td>7.07</td>\n",
       "      <td>12.61</td>\n",
       "      <td>8.39</td>\n",
       "    </tr>\n",
       "    <tr>\n",
       "      <th>2</th>\n",
       "      <td>12.64</td>\n",
       "      <td>11.26</td>\n",
       "      <td>7.73</td>\n",
       "    </tr>\n",
       "    <tr>\n",
       "      <th>3</th>\n",
       "      <td>8.03</td>\n",
       "      <td>10.87</td>\n",
       "      <td>11.52</td>\n",
       "    </tr>\n",
       "    <tr>\n",
       "      <th>4</th>\n",
       "      <td>8.13</td>\n",
       "      <td>11.81</td>\n",
       "      <td>11.74</td>\n",
       "    </tr>\n",
       "    <tr>\n",
       "      <th>...</th>\n",
       "      <td>...</td>\n",
       "      <td>...</td>\n",
       "      <td>...</td>\n",
       "    </tr>\n",
       "    <tr>\n",
       "      <th>995</th>\n",
       "      <td>10.36</td>\n",
       "      <td>12.79</td>\n",
       "      <td>10.15</td>\n",
       "    </tr>\n",
       "    <tr>\n",
       "      <th>996</th>\n",
       "      <td>9.10</td>\n",
       "      <td>12.75</td>\n",
       "      <td>9.82</td>\n",
       "    </tr>\n",
       "    <tr>\n",
       "      <th>997</th>\n",
       "      <td>8.37</td>\n",
       "      <td>8.31</td>\n",
       "      <td>8.89</td>\n",
       "    </tr>\n",
       "    <tr>\n",
       "      <th>998</th>\n",
       "      <td>8.32</td>\n",
       "      <td>10.90</td>\n",
       "      <td>8.95</td>\n",
       "    </tr>\n",
       "    <tr>\n",
       "      <th>999</th>\n",
       "      <td>11.10</td>\n",
       "      <td>9.82</td>\n",
       "      <td>10.22</td>\n",
       "    </tr>\n",
       "  </tbody>\n",
       "</table>\n",
       "<p>1000 rows × 3 columns</p>\n",
       "</div>"
      ],
      "text/plain": [
       "      Exp1   Exp2   Exp3\n",
       "0    10.17  11.31   8.92\n",
       "1     7.07  12.61   8.39\n",
       "2    12.64  11.26   7.73\n",
       "3     8.03  10.87  11.52\n",
       "4     8.13  11.81  11.74\n",
       "..     ...    ...    ...\n",
       "995  10.36  12.79  10.15\n",
       "996   9.10  12.75   9.82\n",
       "997   8.37   8.31   8.89\n",
       "998   8.32  10.90   8.95\n",
       "999  11.10   9.82  10.22\n",
       "\n",
       "[1000 rows x 3 columns]"
      ]
     },
     "execution_count": 17,
     "metadata": {},
     "output_type": "execute_result"
    }
   ],
   "source": [
    "df"
   ]
  },
  {
   "cell_type": "code",
   "execution_count": 18,
   "metadata": {},
   "outputs": [
    {
     "name": "stdout",
     "output_type": "stream",
     "text": [
      "Total unique number of items [['Exp1', 554], ['Exp2', 571], ['Exp3', 553]]\n"
     ]
    },
    {
     "data": {
      "image/png": "[encoded data removed]",
      "text/plain": [
       "<Figure size 322.75x288 with 4 Axes>"
      ]
     },
     "metadata": {
      "image/png": {
       "height": 249,
       "width": 268
      },
      "needs_background": "light"
     },
     "output_type": "display_data"
    }
   ],
   "source": [
    "data,upset = intersect(df, upset_plot = True)"
   ]
  },
  {
   "cell_type": "code",
   "execution_count": 19,
   "metadata": {},
   "outputs": [
    {
     "data": {
      "text/html": [
       "<div>\n",
       "<style scoped>\n",
       "    .dataframe tbody tr th:only-of-type {\n",
       "        vertical-align: middle;\n",
       "    }\n",
       "\n",
       "    .dataframe tbody tr th {\n",
       "        vertical-align: top;\n",
       "    }\n",
       "\n",
       "    .dataframe thead th {\n",
       "        text-align: right;\n",
       "    }\n",
       "</style>\n",
       "<table border=\"1\" class=\"dataframe\">\n",
       "  <thead>\n",
       "    <tr style=\"text-align: right;\">\n",
       "      <th></th>\n",
       "      <th>Intersection</th>\n",
       "      <th>Match</th>\n",
       "      <th>Counts</th>\n",
       "    </tr>\n",
       "  </thead>\n",
       "  <tbody>\n",
       "    <tr>\n",
       "      <th>0</th>\n",
       "      <td>Exp1</td>\n",
       "      <td>[4.33, 5.0, 5.44, 7.0, 5.47, 6.22, 9.9, 11.97,...</td>\n",
       "      <td>71</td>\n",
       "    </tr>\n",
       "    <tr>\n",
       "      <th>1</th>\n",
       "      <td>Exp2</td>\n",
       "      <td>[4.98, 5.58, 5.9, 6.5, 8.11, 4.86, 5.72, 11.25...</td>\n",
       "      <td>94</td>\n",
       "    </tr>\n",
       "    <tr>\n",
       "      <th>2</th>\n",
       "      <td>Exp3</td>\n",
       "      <td>[4.18, 5.92, 6.44, 6.19, 5.5, 5.25, 6.75, 7.25...</td>\n",
       "      <td>84</td>\n",
       "    </tr>\n",
       "    <tr>\n",
       "      <th>3</th>\n",
       "      <td>(Exp1, Exp2)</td>\n",
       "      <td>[4.43, 5.75, 6.94, 7.51, 7.75, 8.5, 10.87, 11....</td>\n",
       "      <td>100</td>\n",
       "    </tr>\n",
       "    <tr>\n",
       "      <th>4</th>\n",
       "      <td>(Exp1, Exp3)</td>\n",
       "      <td>[6.41, 7.97, 7.14, 8.03, 8.39, 11.24, 10.6, 11...</td>\n",
       "      <td>92</td>\n",
       "    </tr>\n",
       "    <tr>\n",
       "      <th>5</th>\n",
       "      <td>(Exp2, Exp3)</td>\n",
       "      <td>[5.16, 6.15, 7.16, 7.73, 8.25, 9.35, 8.47, 11....</td>\n",
       "      <td>86</td>\n",
       "    </tr>\n",
       "    <tr>\n",
       "      <th>6</th>\n",
       "      <td>(Exp1, Exp2, Exp3)</td>\n",
       "      <td>[6.7, 7.59, 8.92, 9.69, 10.53, 11.18, 12.17, 8...</td>\n",
       "      <td>291</td>\n",
       "    </tr>\n",
       "  </tbody>\n",
       "</table>\n",
       "</div>"
      ],
      "text/plain": [
       "         Intersection                                              Match  \\\n",
       "0                Exp1  [4.33, 5.0, 5.44, 7.0, 5.47, 6.22, 9.9, 11.97,...   \n",
       "1                Exp2  [4.98, 5.58, 5.9, 6.5, 8.11, 4.86, 5.72, 11.25...   \n",
       "2                Exp3  [4.18, 5.92, 6.44, 6.19, 5.5, 5.25, 6.75, 7.25...   \n",
       "3        (Exp1, Exp2)  [4.43, 5.75, 6.94, 7.51, 7.75, 8.5, 10.87, 11....   \n",
       "4        (Exp1, Exp3)  [6.41, 7.97, 7.14, 8.03, 8.39, 11.24, 10.6, 11...   \n",
       "5        (Exp2, Exp3)  [5.16, 6.15, 7.16, 7.73, 8.25, 9.35, 8.47, 11....   \n",
       "6  (Exp1, Exp2, Exp3)  [6.7, 7.59, 8.92, 9.69, 10.53, 11.18, 12.17, 8...   \n",
       "\n",
       "   Counts  \n",
       "0      71  \n",
       "1      94  \n",
       "2      84  \n",
       "3     100  \n",
       "4      92  \n",
       "5      86  \n",
       "6     291  "
      ]
     },
     "execution_count": 19,
     "metadata": {},
     "output_type": "execute_result"
    }
   ],
   "source": [
    "data"
   ]
  },
  {
   "cell_type": "code",
   "execution_count": 20,
   "metadata": {},
   "outputs": [
    {
     "data": {
      "text/plain": [
       "Exp1   Exp2   Exp3 \n",
       "True   False  False     71\n",
       "False  True   False     94\n",
       "       False  True      84\n",
       "True   True   False    100\n",
       "       False  True      92\n",
       "False  True   True      86\n",
       "True   True   True     291\n",
       "Name: Counts, dtype: int64"
      ]
     },
     "execution_count": 20,
     "metadata": {},
     "output_type": "execute_result"
    }
   ],
   "source": [
    "upset"
   ]
  },
  {
   "cell_type": "markdown",
   "metadata": {},
   "source": [
    "# Test 4 (Medium High Dataset)"
   ]
  },
  {
   "cell_type": "code",
   "execution_count": 21,
   "metadata": {},
   "outputs": [],
   "source": [
    "arr_1 = np.round(np.random.normal(loc = 10, scale = 2, size = 10000), 2)\n",
    "arr_2 = np.round(np.random.normal(loc = 10, scale = 2, size = 10000), 2)\n",
    "arr_3 = np.round(np.random.normal(loc = 10, scale = 2, size = 10000), 2)"
   ]
  },
  {
   "cell_type": "code",
   "execution_count": 22,
   "metadata": {},
   "outputs": [],
   "source": [
    "df = pd.DataFrame(arr_1)\n",
    "df[1] = arr_2\n",
    "df[2] = arr_3\n",
    "\n",
    "df.columns = [\"Exp1\", \"Exp2\", \"Exp3\"]"
   ]
  },
  {
   "cell_type": "code",
   "execution_count": 23,
   "metadata": {},
   "outputs": [
    {
     "data": {
      "text/html": [
       "<div>\n",
       "<style scoped>\n",
       "    .dataframe tbody tr th:only-of-type {\n",
       "        vertical-align: middle;\n",
       "    }\n",
       "\n",
       "    .dataframe tbody tr th {\n",
       "        vertical-align: top;\n",
       "    }\n",
       "\n",
       "    .dataframe thead th {\n",
       "        text-align: right;\n",
       "    }\n",
       "</style>\n",
       "<table border=\"1\" class=\"dataframe\">\n",
       "  <thead>\n",
       "    <tr style=\"text-align: right;\">\n",
       "      <th></th>\n",
       "      <th>Exp1</th>\n",
       "      <th>Exp2</th>\n",
       "      <th>Exp3</th>\n",
       "    </tr>\n",
       "  </thead>\n",
       "  <tbody>\n",
       "    <tr>\n",
       "      <th>0</th>\n",
       "      <td>10.76</td>\n",
       "      <td>14.01</td>\n",
       "      <td>8.78</td>\n",
       "    </tr>\n",
       "    <tr>\n",
       "      <th>1</th>\n",
       "      <td>10.86</td>\n",
       "      <td>9.62</td>\n",
       "      <td>6.15</td>\n",
       "    </tr>\n",
       "    <tr>\n",
       "      <th>2</th>\n",
       "      <td>6.14</td>\n",
       "      <td>9.60</td>\n",
       "      <td>8.40</td>\n",
       "    </tr>\n",
       "    <tr>\n",
       "      <th>3</th>\n",
       "      <td>13.20</td>\n",
       "      <td>9.44</td>\n",
       "      <td>14.01</td>\n",
       "    </tr>\n",
       "    <tr>\n",
       "      <th>4</th>\n",
       "      <td>7.84</td>\n",
       "      <td>12.30</td>\n",
       "      <td>10.07</td>\n",
       "    </tr>\n",
       "    <tr>\n",
       "      <th>...</th>\n",
       "      <td>...</td>\n",
       "      <td>...</td>\n",
       "      <td>...</td>\n",
       "    </tr>\n",
       "    <tr>\n",
       "      <th>9995</th>\n",
       "      <td>8.18</td>\n",
       "      <td>12.20</td>\n",
       "      <td>10.16</td>\n",
       "    </tr>\n",
       "    <tr>\n",
       "      <th>9996</th>\n",
       "      <td>10.95</td>\n",
       "      <td>10.00</td>\n",
       "      <td>6.94</td>\n",
       "    </tr>\n",
       "    <tr>\n",
       "      <th>9997</th>\n",
       "      <td>10.80</td>\n",
       "      <td>9.88</td>\n",
       "      <td>8.40</td>\n",
       "    </tr>\n",
       "    <tr>\n",
       "      <th>9998</th>\n",
       "      <td>10.34</td>\n",
       "      <td>13.92</td>\n",
       "      <td>9.16</td>\n",
       "    </tr>\n",
       "    <tr>\n",
       "      <th>9999</th>\n",
       "      <td>10.88</td>\n",
       "      <td>9.05</td>\n",
       "      <td>10.85</td>\n",
       "    </tr>\n",
       "  </tbody>\n",
       "</table>\n",
       "<p>10000 rows × 3 columns</p>\n",
       "</div>"
      ],
      "text/plain": [
       "       Exp1   Exp2   Exp3\n",
       "0     10.76  14.01   8.78\n",
       "1     10.86   9.62   6.15\n",
       "2      6.14   9.60   8.40\n",
       "3     13.20   9.44  14.01\n",
       "4      7.84  12.30  10.07\n",
       "...     ...    ...    ...\n",
       "9995   8.18  12.20  10.16\n",
       "9996  10.95  10.00   6.94\n",
       "9997  10.80   9.88   8.40\n",
       "9998  10.34  13.92   9.16\n",
       "9999  10.88   9.05  10.85\n",
       "\n",
       "[10000 rows x 3 columns]"
      ]
     },
     "execution_count": 23,
     "metadata": {},
     "output_type": "execute_result"
    }
   ],
   "source": [
    "df"
   ]
  },
  {
   "cell_type": "code",
   "execution_count": 24,
   "metadata": {},
   "outputs": [
    {
     "name": "stdout",
     "output_type": "stream",
     "text": [
      "Total unique number of items [['Exp1', 1069], ['Exp2', 1043], ['Exp3', 1071]]\n"
     ]
    },
    {
     "data": {
      "image/png": "[encoded data removed]",
      "text/plain": [
       "<Figure size 322.75x288 with 4 Axes>"
      ]
     },
     "metadata": {
      "image/png": {
       "height": 248,
       "width": 274
      },
      "needs_background": "light"
     },
     "output_type": "display_data"
    }
   ],
   "source": [
    "data,upset = intersect(df, upset_plot = True)"
   ]
  },
  {
   "cell_type": "code",
   "execution_count": 25,
   "metadata": {},
   "outputs": [
    {
     "data": {
      "text/html": [
       "<div>\n",
       "<style scoped>\n",
       "    .dataframe tbody tr th:only-of-type {\n",
       "        vertical-align: middle;\n",
       "    }\n",
       "\n",
       "    .dataframe tbody tr th {\n",
       "        vertical-align: top;\n",
       "    }\n",
       "\n",
       "    .dataframe thead th {\n",
       "        text-align: right;\n",
       "    }\n",
       "</style>\n",
       "<table border=\"1\" class=\"dataframe\">\n",
       "  <thead>\n",
       "    <tr style=\"text-align: right;\">\n",
       "      <th></th>\n",
       "      <th>Intersection</th>\n",
       "      <th>Match</th>\n",
       "      <th>Counts</th>\n",
       "    </tr>\n",
       "  </thead>\n",
       "  <tbody>\n",
       "    <tr>\n",
       "      <th>0</th>\n",
       "      <td>Exp1</td>\n",
       "      <td>[2.78, 3.16, 4.0, 4.25, 4.47, 4.26, 3.27, 3.52...</td>\n",
       "      <td>81</td>\n",
       "    </tr>\n",
       "    <tr>\n",
       "      <th>1</th>\n",
       "      <td>Exp2</td>\n",
       "      <td>[3.26, 4.66, 5.0, 4.63, 4.13, 4.85, 4.6, 5.85,...</td>\n",
       "      <td>52</td>\n",
       "    </tr>\n",
       "    <tr>\n",
       "      <th>2</th>\n",
       "      <td>Exp3</td>\n",
       "      <td>[2.99, 3.66, 4.52, 3.5, 4.94, 5.19, 4.41, 3.38...</td>\n",
       "      <td>56</td>\n",
       "    </tr>\n",
       "    <tr>\n",
       "      <th>3</th>\n",
       "      <td>(Exp1, Exp2)</td>\n",
       "      <td>[3.98, 4.61, 4.91, 4.23, 5.83, 4.55, 4.99, 4.9...</td>\n",
       "      <td>30</td>\n",
       "    </tr>\n",
       "    <tr>\n",
       "      <th>4</th>\n",
       "      <td>(Exp1, Exp3)</td>\n",
       "      <td>[3.34, 4.98, 5.5, 5.25, 5.44, 4.88, 5.17, 4.35...</td>\n",
       "      <td>54</td>\n",
       "    </tr>\n",
       "    <tr>\n",
       "      <th>5</th>\n",
       "      <td>(Exp2, Exp3)</td>\n",
       "      <td>[3.84, 4.5, 5.72, 6.15, 5.22, 6.44, 5.35, 5.6,...</td>\n",
       "      <td>57</td>\n",
       "    </tr>\n",
       "    <tr>\n",
       "      <th>6</th>\n",
       "      <td>(Exp1, Exp2, Exp3)</td>\n",
       "      <td>[4.78, 5.69, 6.22, 7.58, 7.76, 8.78, 10.25, 8....</td>\n",
       "      <td>904</td>\n",
       "    </tr>\n",
       "  </tbody>\n",
       "</table>\n",
       "</div>"
      ],
      "text/plain": [
       "         Intersection                                              Match  \\\n",
       "0                Exp1  [2.78, 3.16, 4.0, 4.25, 4.47, 4.26, 3.27, 3.52...   \n",
       "1                Exp2  [3.26, 4.66, 5.0, 4.63, 4.13, 4.85, 4.6, 5.85,...   \n",
       "2                Exp3  [2.99, 3.66, 4.52, 3.5, 4.94, 5.19, 4.41, 3.38...   \n",
       "3        (Exp1, Exp2)  [3.98, 4.61, 4.91, 4.23, 5.83, 4.55, 4.99, 4.9...   \n",
       "4        (Exp1, Exp3)  [3.34, 4.98, 5.5, 5.25, 5.44, 4.88, 5.17, 4.35...   \n",
       "5        (Exp2, Exp3)  [3.84, 4.5, 5.72, 6.15, 5.22, 6.44, 5.35, 5.6,...   \n",
       "6  (Exp1, Exp2, Exp3)  [4.78, 5.69, 6.22, 7.58, 7.76, 8.78, 10.25, 8....   \n",
       "\n",
       "   Counts  \n",
       "0      81  \n",
       "1      52  \n",
       "2      56  \n",
       "3      30  \n",
       "4      54  \n",
       "5      57  \n",
       "6     904  "
      ]
     },
     "execution_count": 25,
     "metadata": {},
     "output_type": "execute_result"
    }
   ],
   "source": [
    "data"
   ]
  },
  {
   "cell_type": "code",
   "execution_count": 26,
   "metadata": {},
   "outputs": [
    {
     "data": {
      "text/plain": [
       "Exp1   Exp2   Exp3 \n",
       "True   False  False     81\n",
       "False  True   False     52\n",
       "       False  True      56\n",
       "True   True   False     30\n",
       "       False  True      54\n",
       "False  True   True      57\n",
       "True   True   True     904\n",
       "Name: Counts, dtype: int64"
      ]
     },
     "execution_count": 26,
     "metadata": {},
     "output_type": "execute_result"
    }
   ],
   "source": [
    "upset"
   ]
  },
  {
   "cell_type": "markdown",
   "metadata": {},
   "source": [
    "# Test 5 (Unequal length dataset)"
   ]
  },
  {
   "cell_type": "code",
   "execution_count": 27,
   "metadata": {},
   "outputs": [],
   "source": [
    "arr_1 = np.round(np.random.normal(loc = 10, scale = 2, size = 800), 2)\n",
    "arr_2 = np.round(np.random.normal(loc = 10, scale = 2, size = 1000), 2)\n",
    "arr_3 = np.round(np.random.normal(loc = 10, scale = 2, size = 1200), 2)"
   ]
  },
  {
   "cell_type": "code",
   "execution_count": 28,
   "metadata": {},
   "outputs": [],
   "source": [
    "df_1 = pd.DataFrame(arr_1)\n",
    "df_2 = pd.DataFrame(arr_2)\n",
    "df_3 = pd.DataFrame(arr_3)"
   ]
  },
  {
   "cell_type": "code",
   "execution_count": 29,
   "metadata": {},
   "outputs": [],
   "source": [
    "unequal = pd.concat([df_1, df_2, df_3],axis=1)\n",
    "unequal.columns = [\"Exp1\", \"Exp2\", \"Exp3\"]"
   ]
  },
  {
   "cell_type": "code",
   "execution_count": 30,
   "metadata": {},
   "outputs": [
    {
     "data": {
      "text/html": [
       "<div>\n",
       "<style scoped>\n",
       "    .dataframe tbody tr th:only-of-type {\n",
       "        vertical-align: middle;\n",
       "    }\n",
       "\n",
       "    .dataframe tbody tr th {\n",
       "        vertical-align: top;\n",
       "    }\n",
       "\n",
       "    .dataframe thead th {\n",
       "        text-align: right;\n",
       "    }\n",
       "</style>\n",
       "<table border=\"1\" class=\"dataframe\">\n",
       "  <thead>\n",
       "    <tr style=\"text-align: right;\">\n",
       "      <th></th>\n",
       "      <th>Exp1</th>\n",
       "      <th>Exp2</th>\n",
       "      <th>Exp3</th>\n",
       "    </tr>\n",
       "  </thead>\n",
       "  <tbody>\n",
       "    <tr>\n",
       "      <th>0</th>\n",
       "      <td>9.22</td>\n",
       "      <td>9.68</td>\n",
       "      <td>11.84</td>\n",
       "    </tr>\n",
       "    <tr>\n",
       "      <th>1</th>\n",
       "      <td>10.31</td>\n",
       "      <td>10.15</td>\n",
       "      <td>11.80</td>\n",
       "    </tr>\n",
       "    <tr>\n",
       "      <th>2</th>\n",
       "      <td>11.79</td>\n",
       "      <td>11.54</td>\n",
       "      <td>6.39</td>\n",
       "    </tr>\n",
       "    <tr>\n",
       "      <th>3</th>\n",
       "      <td>6.64</td>\n",
       "      <td>11.69</td>\n",
       "      <td>6.12</td>\n",
       "    </tr>\n",
       "    <tr>\n",
       "      <th>4</th>\n",
       "      <td>8.83</td>\n",
       "      <td>7.72</td>\n",
       "      <td>6.26</td>\n",
       "    </tr>\n",
       "    <tr>\n",
       "      <th>...</th>\n",
       "      <td>...</td>\n",
       "      <td>...</td>\n",
       "      <td>...</td>\n",
       "    </tr>\n",
       "    <tr>\n",
       "      <th>1195</th>\n",
       "      <td>NaN</td>\n",
       "      <td>NaN</td>\n",
       "      <td>13.73</td>\n",
       "    </tr>\n",
       "    <tr>\n",
       "      <th>1196</th>\n",
       "      <td>NaN</td>\n",
       "      <td>NaN</td>\n",
       "      <td>9.33</td>\n",
       "    </tr>\n",
       "    <tr>\n",
       "      <th>1197</th>\n",
       "      <td>NaN</td>\n",
       "      <td>NaN</td>\n",
       "      <td>11.44</td>\n",
       "    </tr>\n",
       "    <tr>\n",
       "      <th>1198</th>\n",
       "      <td>NaN</td>\n",
       "      <td>NaN</td>\n",
       "      <td>7.65</td>\n",
       "    </tr>\n",
       "    <tr>\n",
       "      <th>1199</th>\n",
       "      <td>NaN</td>\n",
       "      <td>NaN</td>\n",
       "      <td>13.03</td>\n",
       "    </tr>\n",
       "  </tbody>\n",
       "</table>\n",
       "<p>1200 rows × 3 columns</p>\n",
       "</div>"
      ],
      "text/plain": [
       "       Exp1   Exp2   Exp3\n",
       "0      9.22   9.68  11.84\n",
       "1     10.31  10.15  11.80\n",
       "2     11.79  11.54   6.39\n",
       "3      6.64  11.69   6.12\n",
       "4      8.83   7.72   6.26\n",
       "...     ...    ...    ...\n",
       "1195    NaN    NaN  13.73\n",
       "1196    NaN    NaN   9.33\n",
       "1197    NaN    NaN  11.44\n",
       "1198    NaN    NaN   7.65\n",
       "1199    NaN    NaN  13.03\n",
       "\n",
       "[1200 rows x 3 columns]"
      ]
     },
     "execution_count": 30,
     "metadata": {},
     "output_type": "execute_result"
    }
   ],
   "source": [
    "unequal"
   ]
  },
  {
   "cell_type": "code",
   "execution_count": 31,
   "metadata": {},
   "outputs": [
    {
     "name": "stdout",
     "output_type": "stream",
     "text": [
      "Total unique number of items [['Exp1', 480], ['Exp2', 552], ['Exp3', 615]]\n"
     ]
    },
    {
     "data": {
      "image/png": "[encoded data removed]",
      "text/plain": [
       "<Figure size 322.75x288 with 4 Axes>"
      ]
     },
     "metadata": {
      "image/png": {
       "height": 248,
       "width": 266
      },
      "needs_background": "light"
     },
     "output_type": "display_data"
    }
   ],
   "source": [
    "data,upset = intersect(unequal, upset_plot = True)"
   ]
  },
  {
   "cell_type": "code",
   "execution_count": 32,
   "metadata": {},
   "outputs": [
    {
     "data": {
      "text/html": [
       "<div>\n",
       "<style scoped>\n",
       "    .dataframe tbody tr th:only-of-type {\n",
       "        vertical-align: middle;\n",
       "    }\n",
       "\n",
       "    .dataframe tbody tr th {\n",
       "        vertical-align: top;\n",
       "    }\n",
       "\n",
       "    .dataframe thead th {\n",
       "        text-align: right;\n",
       "    }\n",
       "</style>\n",
       "<table border=\"1\" class=\"dataframe\">\n",
       "  <thead>\n",
       "    <tr style=\"text-align: right;\">\n",
       "      <th></th>\n",
       "      <th>Intersection</th>\n",
       "      <th>Match</th>\n",
       "      <th>Counts</th>\n",
       "    </tr>\n",
       "  </thead>\n",
       "  <tbody>\n",
       "    <tr>\n",
       "      <th>0</th>\n",
       "      <td>Exp1</td>\n",
       "      <td>[3.44, 4.25, 4.96, 4.48, 6.64, 5.72, 6.22, 6.4...</td>\n",
       "      <td>65</td>\n",
       "    </tr>\n",
       "    <tr>\n",
       "      <th>1</th>\n",
       "      <td>Exp2</td>\n",
       "      <td>[2.71, 3.26, 4.9, 5.97, 6.57, 6.75, 7.22, 8.19...</td>\n",
       "      <td>96</td>\n",
       "    </tr>\n",
       "    <tr>\n",
       "      <th>2</th>\n",
       "      <td>Exp3</td>\n",
       "      <td>[3.74, 4.98, 5.5, 5.54, 6.12, 5.25, 7.25, 10.2...</td>\n",
       "      <td>135</td>\n",
       "    </tr>\n",
       "    <tr>\n",
       "      <th>3</th>\n",
       "      <td>(Exp1, Exp2)</td>\n",
       "      <td>[8.78, 5.68, 6.84, 7.94, 6.5, 8.75, 9.78, 9.5,...</td>\n",
       "      <td>73</td>\n",
       "    </tr>\n",
       "    <tr>\n",
       "      <th>4</th>\n",
       "      <td>(Exp1, Exp3)</td>\n",
       "      <td>[5.88, 6.88, 6.39, 6.26, 7.5, 7.75, 10.0, 11.7...</td>\n",
       "      <td>97</td>\n",
       "    </tr>\n",
       "    <tr>\n",
       "      <th>5</th>\n",
       "      <td>(Exp2, Exp3)</td>\n",
       "      <td>[4.45, 5.7, 6.13, 6.53, 8.11, 8.0, 10.69, 10.1...</td>\n",
       "      <td>138</td>\n",
       "    </tr>\n",
       "    <tr>\n",
       "      <th>6</th>\n",
       "      <td>(Exp1, Exp2, Exp3)</td>\n",
       "      <td>[6.73, 7.93, 8.4, 8.03, 10.5, 11.3, 10.44, 11....</td>\n",
       "      <td>245</td>\n",
       "    </tr>\n",
       "  </tbody>\n",
       "</table>\n",
       "</div>"
      ],
      "text/plain": [
       "         Intersection                                              Match  \\\n",
       "0                Exp1  [3.44, 4.25, 4.96, 4.48, 6.64, 5.72, 6.22, 6.4...   \n",
       "1                Exp2  [2.71, 3.26, 4.9, 5.97, 6.57, 6.75, 7.22, 8.19...   \n",
       "2                Exp3  [3.74, 4.98, 5.5, 5.54, 6.12, 5.25, 7.25, 10.2...   \n",
       "3        (Exp1, Exp2)  [8.78, 5.68, 6.84, 7.94, 6.5, 8.75, 9.78, 9.5,...   \n",
       "4        (Exp1, Exp3)  [5.88, 6.88, 6.39, 6.26, 7.5, 7.75, 10.0, 11.7...   \n",
       "5        (Exp2, Exp3)  [4.45, 5.7, 6.13, 6.53, 8.11, 8.0, 10.69, 10.1...   \n",
       "6  (Exp1, Exp2, Exp3)  [6.73, 7.93, 8.4, 8.03, 10.5, 11.3, 10.44, 11....   \n",
       "\n",
       "   Counts  \n",
       "0      65  \n",
       "1      96  \n",
       "2     135  \n",
       "3      73  \n",
       "4      97  \n",
       "5     138  \n",
       "6     245  "
      ]
     },
     "execution_count": 32,
     "metadata": {},
     "output_type": "execute_result"
    }
   ],
   "source": [
    "data"
   ]
  },
  {
   "cell_type": "code",
   "execution_count": 33,
   "metadata": {
    "scrolled": true
   },
   "outputs": [
    {
     "data": {
      "text/plain": [
       "Exp1   Exp2   Exp3 \n",
       "True   False  False     65\n",
       "False  True   False     96\n",
       "       False  True     135\n",
       "True   True   False     73\n",
       "       False  True      97\n",
       "False  True   True     138\n",
       "True   True   True     245\n",
       "Name: Counts, dtype: int64"
      ]
     },
     "execution_count": 33,
     "metadata": {},
     "output_type": "execute_result"
    }
   ],
   "source": [
    "upset"
   ]
  },
  {
   "cell_type": "markdown",
   "metadata": {},
   "source": [
    "This function passed all tests. It is able to handle large datasets pretty well and return the proper number of matches and counts. A proper pytest will be developed later."
   ]
  },
  {
   "cell_type": "markdown",
   "metadata": {},
   "source": [
    "# Using package"
   ]
  },
  {
   "cell_type": "code",
   "execution_count": 34,
   "metadata": {},
   "outputs": [],
   "source": [
    "import gen_analysis as gn"
   ]
  },
  {
   "cell_type": "code",
   "execution_count": 35,
   "metadata": {},
   "outputs": [
    {
     "name": "stdout",
     "output_type": "stream",
     "text": [
      "Total unique number of items [['Exp1', 480], ['Exp2', 552], ['Exp3', 615]]\n"
     ]
    },
    {
     "data": {
      "image/png": "[encoded data removed]",
      "text/plain": [
       "<Figure size 322.75x288 with 4 Axes>"
      ]
     },
     "metadata": {
      "image/png": {
       "height": 248,
       "width": 266
      },
      "needs_background": "light"
     },
     "output_type": "display_data"
    }
   ],
   "source": [
    "data, upset = gn.intersect(unequal, upset_plot=True)"
   ]
  },
  {
   "cell_type": "code",
   "execution_count": 36,
   "metadata": {},
   "outputs": [
    {
     "data": {
      "text/html": [
       "<div>\n",
       "<style scoped>\n",
       "    .dataframe tbody tr th:only-of-type {\n",
       "        vertical-align: middle;\n",
       "    }\n",
       "\n",
       "    .dataframe tbody tr th {\n",
       "        vertical-align: top;\n",
       "    }\n",
       "\n",
       "    .dataframe thead th {\n",
       "        text-align: right;\n",
       "    }\n",
       "</style>\n",
       "<table border=\"1\" class=\"dataframe\">\n",
       "  <thead>\n",
       "    <tr style=\"text-align: right;\">\n",
       "      <th></th>\n",
       "      <th>Intersection</th>\n",
       "      <th>Match</th>\n",
       "      <th>Counts</th>\n",
       "    </tr>\n",
       "  </thead>\n",
       "  <tbody>\n",
       "    <tr>\n",
       "      <th>0</th>\n",
       "      <td>Exp1</td>\n",
       "      <td>[3.44, 4.25, 4.96, 4.48, 6.64, 5.72, 6.22, 6.4...</td>\n",
       "      <td>65</td>\n",
       "    </tr>\n",
       "    <tr>\n",
       "      <th>1</th>\n",
       "      <td>Exp2</td>\n",
       "      <td>[2.71, 3.26, 4.9, 5.97, 6.57, 6.75, 7.22, 8.19...</td>\n",
       "      <td>96</td>\n",
       "    </tr>\n",
       "    <tr>\n",
       "      <th>2</th>\n",
       "      <td>Exp3</td>\n",
       "      <td>[3.74, 4.98, 5.5, 5.54, 6.12, 5.25, 7.25, 10.2...</td>\n",
       "      <td>135</td>\n",
       "    </tr>\n",
       "    <tr>\n",
       "      <th>3</th>\n",
       "      <td>(Exp1, Exp2)</td>\n",
       "      <td>[8.78, 5.68, 6.84, 7.94, 6.5, 8.75, 9.78, 9.5,...</td>\n",
       "      <td>73</td>\n",
       "    </tr>\n",
       "    <tr>\n",
       "      <th>4</th>\n",
       "      <td>(Exp1, Exp3)</td>\n",
       "      <td>[5.88, 6.88, 6.39, 6.26, 7.5, 7.75, 10.0, 11.7...</td>\n",
       "      <td>97</td>\n",
       "    </tr>\n",
       "    <tr>\n",
       "      <th>5</th>\n",
       "      <td>(Exp2, Exp3)</td>\n",
       "      <td>[4.45, 5.7, 6.13, 6.53, 8.11, 8.0, 10.69, 10.1...</td>\n",
       "      <td>138</td>\n",
       "    </tr>\n",
       "    <tr>\n",
       "      <th>6</th>\n",
       "      <td>(Exp1, Exp2, Exp3)</td>\n",
       "      <td>[6.73, 7.93, 8.4, 8.03, 10.5, 11.3, 10.44, 11....</td>\n",
       "      <td>245</td>\n",
       "    </tr>\n",
       "  </tbody>\n",
       "</table>\n",
       "</div>"
      ],
      "text/plain": [
       "         Intersection                                              Match  \\\n",
       "0                Exp1  [3.44, 4.25, 4.96, 4.48, 6.64, 5.72, 6.22, 6.4...   \n",
       "1                Exp2  [2.71, 3.26, 4.9, 5.97, 6.57, 6.75, 7.22, 8.19...   \n",
       "2                Exp3  [3.74, 4.98, 5.5, 5.54, 6.12, 5.25, 7.25, 10.2...   \n",
       "3        (Exp1, Exp2)  [8.78, 5.68, 6.84, 7.94, 6.5, 8.75, 9.78, 9.5,...   \n",
       "4        (Exp1, Exp3)  [5.88, 6.88, 6.39, 6.26, 7.5, 7.75, 10.0, 11.7...   \n",
       "5        (Exp2, Exp3)  [4.45, 5.7, 6.13, 6.53, 8.11, 8.0, 10.69, 10.1...   \n",
       "6  (Exp1, Exp2, Exp3)  [6.73, 7.93, 8.4, 8.03, 10.5, 11.3, 10.44, 11....   \n",
       "\n",
       "   Counts  \n",
       "0      65  \n",
       "1      96  \n",
       "2     135  \n",
       "3      73  \n",
       "4      97  \n",
       "5     138  \n",
       "6     245  "
      ]
     },
     "execution_count": 36,
     "metadata": {},
     "output_type": "execute_result"
    }
   ],
   "source": [
    "data"
   ]
  },
  {
   "cell_type": "code",
   "execution_count": 37,
   "metadata": {},
   "outputs": [
    {
     "data": {
      "text/plain": [
       "Exp1   Exp2   Exp3 \n",
       "True   False  False     65\n",
       "False  True   False     96\n",
       "       False  True     135\n",
       "True   True   False     73\n",
       "       False  True      97\n",
       "False  True   True     138\n",
       "True   True   True     245\n",
       "Name: Counts, dtype: int64"
      ]
     },
     "execution_count": 37,
     "metadata": {},
     "output_type": "execute_result"
    }
   ],
   "source": [
    "upset"
   ]
  },
  {
   "cell_type": "code",
   "execution_count": 38,
   "metadata": {},
   "outputs": [
    {
     "data": {
      "text/plain": [
       "480"
      ]
     },
     "execution_count": 38,
     "metadata": {},
     "output_type": "execute_result"
    }
   ],
   "source": [
    "#numbers add up for exp 1\n",
    "65+73+97+245"
   ]
  },
  {
   "cell_type": "code",
   "execution_count": 39,
   "metadata": {},
   "outputs": [
    {
     "data": {
      "text/plain": [
       "array(['Exp1'], dtype=object)"
      ]
     },
     "execution_count": 39,
     "metadata": {},
     "output_type": "execute_result"
    }
   ],
   "source": [
    "#double check random values to see if it is true\n",
    "i, c = np.where(unequal.values == 4.25)\n",
    "np.unique(unequal.columns[c])"
   ]
  },
  {
   "cell_type": "code",
   "execution_count": 40,
   "metadata": {},
   "outputs": [
    {
     "data": {
      "text/plain": [
       "array(['Exp2'], dtype=object)"
      ]
     },
     "execution_count": 40,
     "metadata": {},
     "output_type": "execute_result"
    }
   ],
   "source": [
    "#double check random values to see if it is true\n",
    "i, c = np.where(unequal.values == 2.71)\n",
    "np.unique(unequal.columns[c])"
   ]
  },
  {
   "cell_type": "code",
   "execution_count": 41,
   "metadata": {},
   "outputs": [
    {
     "data": {
      "text/plain": [
       "array(['Exp1', 'Exp2'], dtype=object)"
      ]
     },
     "execution_count": 41,
     "metadata": {},
     "output_type": "execute_result"
    }
   ],
   "source": [
    "#double check random values to see if it is true\n",
    "i, c = np.where(unequal.values == 8.78)\n",
    "np.unique(unequal.columns[c])"
   ]
  },
  {
   "cell_type": "code",
   "execution_count": 42,
   "metadata": {},
   "outputs": [
    {
     "data": {
      "text/plain": [
       "array(['Exp1', 'Exp2', 'Exp3'], dtype=object)"
      ]
     },
     "execution_count": 42,
     "metadata": {},
     "output_type": "execute_result"
    }
   ],
   "source": [
    "#double check random values to see if it is true\n",
    "i, c = np.where(unequal.values == 10.44)\n",
    "np.unique(unequal.columns[c])"
   ]
  },
  {
   "cell_type": "code",
   "execution_count": 43,
   "metadata": {},
   "outputs": [
    {
     "data": {
      "text/plain": [
       "array(['Exp1', 'Exp3'], dtype=object)"
      ]
     },
     "execution_count": 43,
     "metadata": {},
     "output_type": "execute_result"
    }
   ],
   "source": [
    "#double check random values to see if it is true\n",
    "i, c = np.where(unequal.values == 7.5)\n",
    "np.unique(unequal.columns[c])"
   ]
  },
  {
   "cell_type": "markdown",
   "metadata": {},
   "source": [
    "Everything looks good!"
   ]
  }
 ],
 "metadata": {
  "kernelspec": {
   "display_name": "Python 3",
   "language": "python",
   "name": "python3"
  },
  "language_info": {
   "codemirror_mode": {
    "name": "ipython",
    "version": 3
   },
   "file_extension": ".py",
   "mimetype": "text/x-python",
   "name": "python",
   "nbconvert_exporter": "python",
   "pygments_lexer": "ipython3",
   "version": "3.7.6"
  }
 },
 "nbformat": 4,
 "nbformat_minor": 4
}
