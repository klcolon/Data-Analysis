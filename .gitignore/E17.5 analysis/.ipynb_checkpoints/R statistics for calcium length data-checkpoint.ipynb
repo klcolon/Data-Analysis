{
 "cells": [
  {
   "cell_type": "markdown",
   "metadata": {},
   "source": [
    "### In this notebook, we will perform statistics on the normalized calcium values generated from python."
   ]
  },
  {
   "cell_type": "code",
   "execution_count": 1,
   "metadata": {},
   "outputs": [
    {
     "data": {
      "text/html": [
       "'C:/Users/mkmve/Python_Notebook'"
      ],
      "text/latex": [
       "'C:/Users/mkmve/Python\\_Notebook'"
      ],
      "text/markdown": [
       "'C:/Users/mkmve/Python_Notebook'"
      ],
      "text/plain": [
       "[1] \"C:/Users/mkmve/Python_Notebook\""
      ]
     },
     "metadata": {},
     "output_type": "display_data"
    }
   ],
   "source": [
    "#Check to see what directory you are in\n",
    "getwd()"
   ]
  },
  {
   "cell_type": "code",
   "execution_count": 2,
   "metadata": {},
   "outputs": [
    {
     "data": {
      "text/html": [
       "<table>\n",
       "<thead><tr><th scope=col>X</th><th scope=col>ecdf</th><th scope=col>Label</th><th scope=col>Values</th><th scope=col>location</th><th scope=col>ID</th><th scope=col>Normalized.Calcium</th></tr></thead>\n",
       "<tbody>\n",
       "\t<tr><td>0               </td><td>0.02040816      </td><td>PBS             </td><td>0.118           </td><td>left arm calcium</td><td>22B             </td><td>0.4573643       </td></tr>\n",
       "\t<tr><td>1               </td><td>0.04081633      </td><td>PBS             </td><td>0.121           </td><td>left arm calcium</td><td>22D             </td><td>0.4653846       </td></tr>\n",
       "\t<tr><td>2               </td><td>0.06122449      </td><td>PBS             </td><td>0.124           </td><td>left arm calcium</td><td>27G             </td><td>0.4133333       </td></tr>\n",
       "\t<tr><td>3               </td><td>0.08163265      </td><td>PBS             </td><td>0.127           </td><td>left arm calcium</td><td>27H             </td><td>0.4191419       </td></tr>\n",
       "\t<tr><td>4               </td><td>0.10204082      </td><td>PBS             </td><td>0.131           </td><td>left arm calcium</td><td>31A             </td><td>0.4281046       </td></tr>\n",
       "\t<tr><td>5               </td><td>0.12244898      </td><td>PBS             </td><td>0.133           </td><td>left arm calcium</td><td>31B             </td><td>0.4318182       </td></tr>\n",
       "</tbody>\n",
       "</table>\n"
      ],
      "text/latex": [
       "\\begin{tabular}{r|lllllll}\n",
       " X & ecdf & Label & Values & location & ID & Normalized.Calcium\\\\\n",
       "\\hline\n",
       "\t 0                & 0.02040816       & PBS              & 0.118            & left arm calcium & 22B              & 0.4573643       \\\\\n",
       "\t 1                & 0.04081633       & PBS              & 0.121            & left arm calcium & 22D              & 0.4653846       \\\\\n",
       "\t 2                & 0.06122449       & PBS              & 0.124            & left arm calcium & 27G              & 0.4133333       \\\\\n",
       "\t 3                & 0.08163265       & PBS              & 0.127            & left arm calcium & 27H              & 0.4191419       \\\\\n",
       "\t 4                & 0.10204082       & PBS              & 0.131            & left arm calcium & 31A              & 0.4281046       \\\\\n",
       "\t 5                & 0.12244898       & PBS              & 0.133            & left arm calcium & 31B              & 0.4318182       \\\\\n",
       "\\end{tabular}\n"
      ],
      "text/markdown": [
       "\n",
       "| X | ecdf | Label | Values | location | ID | Normalized.Calcium |\n",
       "|---|---|---|---|---|---|---|\n",
       "| 0                | 0.02040816       | PBS              | 0.118            | left arm calcium | 22B              | 0.4573643        |\n",
       "| 1                | 0.04081633       | PBS              | 0.121            | left arm calcium | 22D              | 0.4653846        |\n",
       "| 2                | 0.06122449       | PBS              | 0.124            | left arm calcium | 27G              | 0.4133333        |\n",
       "| 3                | 0.08163265       | PBS              | 0.127            | left arm calcium | 27H              | 0.4191419        |\n",
       "| 4                | 0.10204082       | PBS              | 0.131            | left arm calcium | 31A              | 0.4281046        |\n",
       "| 5                | 0.12244898       | PBS              | 0.133            | left arm calcium | 31B              | 0.4318182        |\n",
       "\n"
      ],
      "text/plain": [
       "  X ecdf       Label Values location         ID  Normalized.Calcium\n",
       "1 0 0.02040816 PBS   0.118  left arm calcium 22B 0.4573643         \n",
       "2 1 0.04081633 PBS   0.121  left arm calcium 22D 0.4653846         \n",
       "3 2 0.06122449 PBS   0.124  left arm calcium 27G 0.4133333         \n",
       "4 3 0.08163265 PBS   0.127  left arm calcium 27H 0.4191419         \n",
       "5 4 0.10204082 PBS   0.131  left arm calcium 31A 0.4281046         \n",
       "6 5 0.12244898 PBS   0.133  left arm calcium 31B 0.4318182         "
      ]
     },
     "metadata": {},
     "output_type": "display_data"
    }
   ],
   "source": [
    "#read in csv\n",
    "left_arm_normalized <- read.csv(\"left_arm_normalized_calcium.csv\")\n",
    "right_arm_normalized <- read.csv(\"right_arm_normalized_calcium.csv\")\n",
    "comb_arm_normalized <- read.csv(\"combined_arms_normalized.csv\")\n",
    "head(left_arm_normalized)"
   ]
  },
  {
   "cell_type": "code",
   "execution_count": 3,
   "metadata": {},
   "outputs": [
    {
     "data": {
      "text/html": [
       "<table>\n",
       "<thead><tr><th scope=col>X</th><th scope=col>ecdf</th><th scope=col>Label</th><th scope=col>Values</th><th scope=col>location</th><th scope=col>ID</th><th scope=col>Normalized.Calcium</th></tr></thead>\n",
       "<tbody>\n",
       "\t<tr><td>0                </td><td>0.02040816       </td><td>PBS              </td><td>0.094            </td><td>right arm calcium</td><td>22B              </td><td>0.3587786        </td></tr>\n",
       "\t<tr><td>1                </td><td>0.04081633       </td><td>PBS              </td><td>0.118            </td><td>right arm calcium</td><td>22D              </td><td>0.4452830        </td></tr>\n",
       "\t<tr><td>2                </td><td>0.06122449       </td><td>PBS              </td><td>0.118            </td><td>right arm calcium</td><td>27G              </td><td>0.4259928        </td></tr>\n",
       "\t<tr><td>3                </td><td>0.08163265       </td><td>PBS              </td><td>0.124            </td><td>right arm calcium</td><td>27H              </td><td>0.4189189        </td></tr>\n",
       "\t<tr><td>4                </td><td>0.10204082       </td><td>PBS              </td><td>0.128            </td><td>right arm calcium</td><td>31A              </td><td>0.4280936        </td></tr>\n",
       "\t<tr><td>5                </td><td>0.12244898       </td><td>PBS              </td><td>0.128            </td><td>right arm calcium</td><td>31B              </td><td>0.4252492        </td></tr>\n",
       "</tbody>\n",
       "</table>\n"
      ],
      "text/latex": [
       "\\begin{tabular}{r|lllllll}\n",
       " X & ecdf & Label & Values & location & ID & Normalized.Calcium\\\\\n",
       "\\hline\n",
       "\t 0                 & 0.02040816        & PBS               & 0.094             & right arm calcium & 22B               & 0.3587786        \\\\\n",
       "\t 1                 & 0.04081633        & PBS               & 0.118             & right arm calcium & 22D               & 0.4452830        \\\\\n",
       "\t 2                 & 0.06122449        & PBS               & 0.118             & right arm calcium & 27G               & 0.4259928        \\\\\n",
       "\t 3                 & 0.08163265        & PBS               & 0.124             & right arm calcium & 27H               & 0.4189189        \\\\\n",
       "\t 4                 & 0.10204082        & PBS               & 0.128             & right arm calcium & 31A               & 0.4280936        \\\\\n",
       "\t 5                 & 0.12244898        & PBS               & 0.128             & right arm calcium & 31B               & 0.4252492        \\\\\n",
       "\\end{tabular}\n"
      ],
      "text/markdown": [
       "\n",
       "| X | ecdf | Label | Values | location | ID | Normalized.Calcium |\n",
       "|---|---|---|---|---|---|---|\n",
       "| 0                 | 0.02040816        | PBS               | 0.094             | right arm calcium | 22B               | 0.3587786         |\n",
       "| 1                 | 0.04081633        | PBS               | 0.118             | right arm calcium | 22D               | 0.4452830         |\n",
       "| 2                 | 0.06122449        | PBS               | 0.118             | right arm calcium | 27G               | 0.4259928         |\n",
       "| 3                 | 0.08163265        | PBS               | 0.124             | right arm calcium | 27H               | 0.4189189         |\n",
       "| 4                 | 0.10204082        | PBS               | 0.128             | right arm calcium | 31A               | 0.4280936         |\n",
       "| 5                 | 0.12244898        | PBS               | 0.128             | right arm calcium | 31B               | 0.4252492         |\n",
       "\n"
      ],
      "text/plain": [
       "  X ecdf       Label Values location          ID  Normalized.Calcium\n",
       "1 0 0.02040816 PBS   0.094  right arm calcium 22B 0.3587786         \n",
       "2 1 0.04081633 PBS   0.118  right arm calcium 22D 0.4452830         \n",
       "3 2 0.06122449 PBS   0.118  right arm calcium 27G 0.4259928         \n",
       "4 3 0.08163265 PBS   0.124  right arm calcium 27H 0.4189189         \n",
       "5 4 0.10204082 PBS   0.128  right arm calcium 31A 0.4280936         \n",
       "6 5 0.12244898 PBS   0.128  right arm calcium 31B 0.4252492         "
      ]
     },
     "metadata": {},
     "output_type": "display_data"
    }
   ],
   "source": [
    "head(right_arm_normalized)"
   ]
  },
  {
   "cell_type": "code",
   "execution_count": 4,
   "metadata": {},
   "outputs": [
    {
     "data": {
      "text/html": [
       "<table>\n",
       "<thead><tr><th scope=col>X</th><th scope=col>ecdf</th><th scope=col>Label</th><th scope=col>Values</th><th scope=col>ID</th></tr></thead>\n",
       "<tbody>\n",
       "\t<tr><td>0         </td><td>0.01020408</td><td>PBS       </td><td>0.3587786 </td><td>22B       </td></tr>\n",
       "\t<tr><td>1         </td><td>0.02040816</td><td>PBS       </td><td>0.4133333 </td><td>22D       </td></tr>\n",
       "\t<tr><td>2         </td><td>0.03061224</td><td>PBS       </td><td>0.4189189 </td><td>27G       </td></tr>\n",
       "\t<tr><td>3         </td><td>0.04081633</td><td>PBS       </td><td>0.4191419 </td><td>27H       </td></tr>\n",
       "\t<tr><td>4         </td><td>0.05102041</td><td>PBS       </td><td>0.4218750 </td><td>31A       </td></tr>\n",
       "\t<tr><td>5         </td><td>0.06122449</td><td>PBS       </td><td>0.4236760 </td><td>31B       </td></tr>\n",
       "</tbody>\n",
       "</table>\n"
      ],
      "text/latex": [
       "\\begin{tabular}{r|lllll}\n",
       " X & ecdf & Label & Values & ID\\\\\n",
       "\\hline\n",
       "\t 0          & 0.01020408 & PBS        & 0.3587786  & 22B       \\\\\n",
       "\t 1          & 0.02040816 & PBS        & 0.4133333  & 22D       \\\\\n",
       "\t 2          & 0.03061224 & PBS        & 0.4189189  & 27G       \\\\\n",
       "\t 3          & 0.04081633 & PBS        & 0.4191419  & 27H       \\\\\n",
       "\t 4          & 0.05102041 & PBS        & 0.4218750  & 31A       \\\\\n",
       "\t 5          & 0.06122449 & PBS        & 0.4236760  & 31B       \\\\\n",
       "\\end{tabular}\n"
      ],
      "text/markdown": [
       "\n",
       "| X | ecdf | Label | Values | ID |\n",
       "|---|---|---|---|---|\n",
       "| 0          | 0.01020408 | PBS        | 0.3587786  | 22B        |\n",
       "| 1          | 0.02040816 | PBS        | 0.4133333  | 22D        |\n",
       "| 2          | 0.03061224 | PBS        | 0.4189189  | 27G        |\n",
       "| 3          | 0.04081633 | PBS        | 0.4191419  | 27H        |\n",
       "| 4          | 0.05102041 | PBS        | 0.4218750  | 31A        |\n",
       "| 5          | 0.06122449 | PBS        | 0.4236760  | 31B        |\n",
       "\n"
      ],
      "text/plain": [
       "  X ecdf       Label Values    ID \n",
       "1 0 0.01020408 PBS   0.3587786 22B\n",
       "2 1 0.02040816 PBS   0.4133333 22D\n",
       "3 2 0.03061224 PBS   0.4189189 27G\n",
       "4 3 0.04081633 PBS   0.4191419 27H\n",
       "5 4 0.05102041 PBS   0.4218750 31A\n",
       "6 5 0.06122449 PBS   0.4236760 31B"
      ]
     },
     "metadata": {},
     "output_type": "display_data"
    }
   ],
   "source": [
    "head(comb_arm_normalized)"
   ]
  },
  {
   "cell_type": "code",
   "execution_count": 5,
   "metadata": {},
   "outputs": [
    {
     "data": {
      "text/html": [
       "<table>\n",
       "<thead><tr><th scope=col>Label</th><th scope=col>Values</th><th scope=col>ID</th></tr></thead>\n",
       "<tbody>\n",
       "\t<tr><td>PBS      </td><td>0.3587786</td><td>22B      </td></tr>\n",
       "\t<tr><td>PBS      </td><td>0.4133333</td><td>22D      </td></tr>\n",
       "\t<tr><td>PBS      </td><td>0.4189189</td><td>27G      </td></tr>\n",
       "\t<tr><td>PBS      </td><td>0.4191419</td><td>27H      </td></tr>\n",
       "\t<tr><td>PBS      </td><td>0.4218750</td><td>31A      </td></tr>\n",
       "\t<tr><td>PBS      </td><td>0.4236760</td><td>31B      </td></tr>\n",
       "</tbody>\n",
       "</table>\n"
      ],
      "text/latex": [
       "\\begin{tabular}{r|lll}\n",
       " Label & Values & ID\\\\\n",
       "\\hline\n",
       "\t PBS       & 0.3587786 & 22B      \\\\\n",
       "\t PBS       & 0.4133333 & 22D      \\\\\n",
       "\t PBS       & 0.4189189 & 27G      \\\\\n",
       "\t PBS       & 0.4191419 & 27H      \\\\\n",
       "\t PBS       & 0.4218750 & 31A      \\\\\n",
       "\t PBS       & 0.4236760 & 31B      \\\\\n",
       "\\end{tabular}\n"
      ],
      "text/markdown": [
       "\n",
       "| Label | Values | ID |\n",
       "|---|---|---|\n",
       "| PBS       | 0.3587786 | 22B       |\n",
       "| PBS       | 0.4133333 | 22D       |\n",
       "| PBS       | 0.4189189 | 27G       |\n",
       "| PBS       | 0.4191419 | 27H       |\n",
       "| PBS       | 0.4218750 | 31A       |\n",
       "| PBS       | 0.4236760 | 31B       |\n",
       "\n"
      ],
      "text/plain": [
       "  Label Values    ID \n",
       "1 PBS   0.3587786 22B\n",
       "2 PBS   0.4133333 22D\n",
       "3 PBS   0.4189189 27G\n",
       "4 PBS   0.4191419 27H\n",
       "5 PBS   0.4218750 31A\n",
       "6 PBS   0.4236760 31B"
      ]
     },
     "metadata": {},
     "output_type": "display_data"
    }
   ],
   "source": [
    "#only take columns to perform calculations on\n",
    "left_arm_normalized_sliced <- left_arm_normalized[,c(3,6,7)]\n",
    "right_arm_normalized_sliced <- right_arm_normalized[,c(3,6,7)]\n",
    "comb_arm_normalized_sliced <- comb_arm_normalized[,c(3,4,5)]\n",
    "head(comb_arm_normalized_sliced)"
   ]
  },
  {
   "cell_type": "code",
   "execution_count": 6,
   "metadata": {},
   "outputs": [
    {
     "name": "stdout",
     "output_type": "stream",
     "text": [
      "[1] \"left arm\"\n"
     ]
    },
    {
     "data": {
      "text/plain": [
       "             Df  Sum Sq  Mean Sq F value  Pr(>F)   \n",
       "Label         2 0.01398 0.006991   4.973 0.00835 **\n",
       "Residuals   125 0.17573 0.001406                   \n",
       "---\n",
       "Signif. codes:  0 '***' 0.001 '**' 0.01 '*' 0.05 '.' 0.1 ' ' 1"
      ]
     },
     "metadata": {},
     "output_type": "display_data"
    },
    {
     "name": "stdout",
     "output_type": "stream",
     "text": [
      "[1] \"right arm\"\n"
     ]
    },
    {
     "data": {
      "text/plain": [
       "             Df  Sum Sq  Mean Sq F value Pr(>F)\n",
       "Label         2 0.00933 0.004666   2.109  0.126\n",
       "Residuals   125 0.27659 0.002213               "
      ]
     },
     "metadata": {},
     "output_type": "display_data"
    },
    {
     "name": "stdout",
     "output_type": "stream",
     "text": [
      "[1] \"combined arms\"\n"
     ]
    },
    {
     "data": {
      "text/plain": [
       "             Df Sum Sq  Mean Sq F value  Pr(>F)   \n",
       "Label         2 0.0204 0.010207   5.648 0.00398 **\n",
       "Residuals   253 0.4572 0.001807                   \n",
       "---\n",
       "Signif. codes:  0 '***' 0.001 '**' 0.01 '*' 0.05 '.' 0.1 ' ' 1"
      ]
     },
     "metadata": {},
     "output_type": "display_data"
    }
   ],
   "source": [
    "#perform one-way ANOVA\n",
    "res.aov.leftarm <- aov(Normalized.Calcium ~ Label,\n",
    "               data = left_arm_normalized_sliced)\n",
    "\n",
    "res.aov.rightarm <- aov(Normalized.Calcium ~ Label,\n",
    "               data = right_arm_normalized_sliced)\n",
    "\n",
    "res.aov.combarm <- aov(Values ~ Label,\n",
    "               data = comb_arm_normalized_sliced)\n",
    "\n",
    "print(\"left arm\")\n",
    "summary(res.aov.leftarm)\n",
    "print(\"right arm\")\n",
    "summary(res.aov.rightarm)\n",
    "print(\"combined arms\")\n",
    "summary(res.aov.combarm)"
   ]
  },
  {
   "cell_type": "code",
   "execution_count": 7,
   "metadata": {},
   "outputs": [
    {
     "name": "stdout",
     "output_type": "stream",
     "text": [
      "[1] \"left arm\"\n"
     ]
    },
    {
     "data": {
      "text/plain": [
       "  Tukey multiple comparisons of means\n",
       "    95% family-wise confidence level\n",
       "\n",
       "Fit: aov(formula = Normalized.Calcium ~ Label, data = left_arm_normalized_sliced)\n",
       "\n",
       "$Label\n",
       "                       diff          lwr        upr     p adj\n",
       "PBS-Camel Blue  0.008498117 -0.010085769 0.02708200 0.5253415\n",
       "Snus-Camel Blue 0.026353941  0.006262877 0.04644501 0.0064848\n",
       "Snus-PBS        0.017855824 -0.001666659 0.03737831 0.0804842\n"
      ]
     },
     "metadata": {},
     "output_type": "display_data"
    },
    {
     "name": "stdout",
     "output_type": "stream",
     "text": [
      "[1] \"right arm\"\n"
     ]
    },
    {
     "data": {
      "text/plain": [
       "  Tukey multiple comparisons of means\n",
       "    95% family-wise confidence level\n",
       "\n",
       "Fit: aov(formula = Normalized.Calcium ~ Label, data = right_arm_normalized_sliced)\n",
       "\n",
       "$Label\n",
       "                        diff          lwr        upr     p adj\n",
       "PBS-Camel Blue  -0.006852253 -0.030167260 0.01646276 0.7656108\n",
       "Snus-Camel Blue  0.014214319 -0.010991568 0.03942021 0.3771349\n",
       "Snus-PBS         0.021066572 -0.003425984 0.04555913 0.1069292\n"
      ]
     },
     "metadata": {},
     "output_type": "display_data"
    },
    {
     "name": "stdout",
     "output_type": "stream",
     "text": [
      "[1] \"combined arms\"\n"
     ]
    },
    {
     "data": {
      "text/plain": [
       "  Tukey multiple comparisons of means\n",
       "    95% family-wise confidence level\n",
       "\n",
       "Fit: aov(formula = Values ~ Label, data = comb_arm_normalized_sliced)\n",
       "\n",
       "$Label\n",
       "                        diff          lwr        upr     p adj\n",
       "PBS-Camel Blue  0.0008229322 -0.013984853 0.01563072 0.9905809\n",
       "Snus-Camel Blue 0.0202841299  0.004275412 0.03629285 0.0086554\n",
       "Snus-PBS        0.0194611977  0.003905531 0.03501686 0.0097146\n"
      ]
     },
     "metadata": {},
     "output_type": "display_data"
    }
   ],
   "source": [
    "#perform Tukey's Correction\n",
    "print(\"left arm\")\n",
    "TukeyHSD(res.aov.leftarm)\n",
    "\n",
    "print(\"right arm\")\n",
    "TukeyHSD(res.aov.rightarm)\n",
    "\n",
    "print(\"combined arms\")\n",
    "TukeyHSD(res.aov.combarm)"
   ]
  },
  {
   "cell_type": "code",
   "execution_count": 8,
   "metadata": {},
   "outputs": [
    {
     "name": "stderr",
     "output_type": "stream",
     "text": [
      "Warning message:\n",
      "\"package 'dplyr' was built under R version 3.6.3\"\n",
      "Attaching package: 'dplyr'\n",
      "\n",
      "The following objects are masked from 'package:stats':\n",
      "\n",
      "    filter, lag\n",
      "\n",
      "The following objects are masked from 'package:base':\n",
      "\n",
      "    intersect, setdiff, setequal, union\n",
      "\n"
     ]
    },
    {
     "name": "stdout",
     "output_type": "stream",
     "text": [
      "[1] \"left arm\"\n"
     ]
    },
    {
     "data": {
      "text/html": [
       "<table>\n",
       "<thead><tr><th scope=col>Label</th><th scope=col>count</th><th scope=col>mean</th><th scope=col>sd</th></tr></thead>\n",
       "<tbody>\n",
       "\t<tr><td>Camel Blue</td><td>43        </td><td>0.4633677 </td><td>0.02744169</td></tr>\n",
       "\t<tr><td>PBS       </td><td>49        </td><td>0.4718658 </td><td>0.02408409</td></tr>\n",
       "\t<tr><td>Snus      </td><td>36        </td><td>0.4897217 </td><td>0.05763427</td></tr>\n",
       "</tbody>\n",
       "</table>\n"
      ],
      "text/latex": [
       "\\begin{tabular}{r|llll}\n",
       " Label & count & mean & sd\\\\\n",
       "\\hline\n",
       "\t Camel Blue & 43         & 0.4633677  & 0.02744169\\\\\n",
       "\t PBS        & 49         & 0.4718658  & 0.02408409\\\\\n",
       "\t Snus       & 36         & 0.4897217  & 0.05763427\\\\\n",
       "\\end{tabular}\n"
      ],
      "text/markdown": [
       "\n",
       "| Label | count | mean | sd |\n",
       "|---|---|---|---|\n",
       "| Camel Blue | 43         | 0.4633677  | 0.02744169 |\n",
       "| PBS        | 49         | 0.4718658  | 0.02408409 |\n",
       "| Snus       | 36         | 0.4897217  | 0.05763427 |\n",
       "\n"
      ],
      "text/plain": [
       "  Label      count mean      sd        \n",
       "1 Camel Blue 43    0.4633677 0.02744169\n",
       "2 PBS        49    0.4718658 0.02408409\n",
       "3 Snus       36    0.4897217 0.05763427"
      ]
     },
     "metadata": {},
     "output_type": "display_data"
    },
    {
     "name": "stdout",
     "output_type": "stream",
     "text": [
      "[1] \"right arm\"\n"
     ]
    },
    {
     "data": {
      "text/html": [
       "<table>\n",
       "<thead><tr><th scope=col>Label</th><th scope=col>count</th><th scope=col>mean</th><th scope=col>sd</th></tr></thead>\n",
       "<tbody>\n",
       "\t<tr><td>Camel Blue</td><td>43        </td><td>0.4781587 </td><td>0.01515220</td></tr>\n",
       "\t<tr><td>PBS       </td><td>49        </td><td>0.4713064 </td><td>0.04269581</td></tr>\n",
       "\t<tr><td>Snus      </td><td>36        </td><td>0.4923730 </td><td>0.07160429</td></tr>\n",
       "</tbody>\n",
       "</table>\n"
      ],
      "text/latex": [
       "\\begin{tabular}{r|llll}\n",
       " Label & count & mean & sd\\\\\n",
       "\\hline\n",
       "\t Camel Blue & 43         & 0.4781587  & 0.01515220\\\\\n",
       "\t PBS        & 49         & 0.4713064  & 0.04269581\\\\\n",
       "\t Snus       & 36         & 0.4923730  & 0.07160429\\\\\n",
       "\\end{tabular}\n"
      ],
      "text/markdown": [
       "\n",
       "| Label | count | mean | sd |\n",
       "|---|---|---|---|\n",
       "| Camel Blue | 43         | 0.4781587  | 0.01515220 |\n",
       "| PBS        | 49         | 0.4713064  | 0.04269581 |\n",
       "| Snus       | 36         | 0.4923730  | 0.07160429 |\n",
       "\n"
      ],
      "text/plain": [
       "  Label      count mean      sd        \n",
       "1 Camel Blue 43    0.4781587 0.01515220\n",
       "2 PBS        49    0.4713064 0.04269581\n",
       "3 Snus       36    0.4923730 0.07160429"
      ]
     },
     "metadata": {},
     "output_type": "display_data"
    },
    {
     "name": "stdout",
     "output_type": "stream",
     "text": [
      "[1] \"combined arms\"\n"
     ]
    },
    {
     "data": {
      "text/html": [
       "<table>\n",
       "<thead><tr><th scope=col>Label</th><th scope=col>count</th><th scope=col>mean</th><th scope=col>sd</th></tr></thead>\n",
       "<tbody>\n",
       "\t<tr><td>Camel Blue</td><td>86        </td><td>0.4707632 </td><td>0.02325670</td></tr>\n",
       "\t<tr><td>PBS       </td><td>98        </td><td>0.4715861 </td><td>0.03448449</td></tr>\n",
       "\t<tr><td>Snus      </td><td>72        </td><td>0.4910473 </td><td>0.06455018</td></tr>\n",
       "</tbody>\n",
       "</table>\n"
      ],
      "text/latex": [
       "\\begin{tabular}{r|llll}\n",
       " Label & count & mean & sd\\\\\n",
       "\\hline\n",
       "\t Camel Blue & 86         & 0.4707632  & 0.02325670\\\\\n",
       "\t PBS        & 98         & 0.4715861  & 0.03448449\\\\\n",
       "\t Snus       & 72         & 0.4910473  & 0.06455018\\\\\n",
       "\\end{tabular}\n"
      ],
      "text/markdown": [
       "\n",
       "| Label | count | mean | sd |\n",
       "|---|---|---|---|\n",
       "| Camel Blue | 86         | 0.4707632  | 0.02325670 |\n",
       "| PBS        | 98         | 0.4715861  | 0.03448449 |\n",
       "| Snus       | 72         | 0.4910473  | 0.06455018 |\n",
       "\n"
      ],
      "text/plain": [
       "  Label      count mean      sd        \n",
       "1 Camel Blue 86    0.4707632 0.02325670\n",
       "2 PBS        98    0.4715861 0.03448449\n",
       "3 Snus       72    0.4910473 0.06455018"
      ]
     },
     "metadata": {},
     "output_type": "display_data"
    }
   ],
   "source": [
    "#summary statistic\n",
    "library(dplyr)\n",
    "\n",
    "print(\"left arm\")\n",
    "group_by(left_arm_normalized_sliced, Label) %>%\n",
    "summarise(count = n(), mean = mean(Normalized.Calcium, na.rm = TRUE), sd = sd(Normalized.Calcium, na.rm = TRUE))\n",
    "\n",
    "print(\"right arm\")\n",
    "group_by(right_arm_normalized_sliced, Label) %>%\n",
    "summarise(count = n(), mean = mean(Normalized.Calcium, na.rm = TRUE), sd = sd(Normalized.Calcium, na.rm = TRUE))\n",
    "\n",
    "print(\"combined arms\")\n",
    "group_by(comb_arm_normalized_sliced, Label) %>%\n",
    "summarise(count = n(), mean = mean(Values, na.rm = TRUE), sd = sd(Values, na.rm = TRUE))"
   ]
  },
  {
   "cell_type": "markdown",
   "metadata": {},
   "source": [
    "## T-test for individual comparative analysis"
   ]
  },
  {
   "cell_type": "code",
   "execution_count": 25,
   "metadata": {},
   "outputs": [],
   "source": [
    "pbs <- comb_arm_normalized[comb_arm_normalized$Label == 'PBS',]\n",
    "snus <- comb_arm_normalized[comb_arm_normalized$Label == 'Snus',]\n",
    "camel_blue <- comb_arm_normalized[comb_arm_normalized$Label == 'Camel Blue',]"
   ]
  },
  {
   "cell_type": "code",
   "execution_count": 22,
   "metadata": {},
   "outputs": [],
   "source": [
    "pbs_values <- pbs[,c(4)]\n",
    "snus_values <- snus[,c(4)]\n",
    "camel_values <- camel_blue[,c(4)]"
   ]
  },
  {
   "cell_type": "code",
   "execution_count": 23,
   "metadata": {},
   "outputs": [
    {
     "data": {
      "text/plain": [
       "\n",
       "\tWilcoxon rank sum test with continuity correction\n",
       "\n",
       "data:  pbs_values and snus_values\n",
       "W = 2561, p-value = 0.002304\n",
       "alternative hypothesis: true location shift is not equal to 0\n"
      ]
     },
     "metadata": {},
     "output_type": "display_data"
    }
   ],
   "source": [
    "#ManWhitneyU PBS-STE\n",
    "wilcox.test(pbs_values, snus_values)"
   ]
  },
  {
   "cell_type": "code",
   "execution_count": 26,
   "metadata": {},
   "outputs": [
    {
     "data": {
      "text/plain": [
       "\n",
       "\tWilcoxon rank sum test with continuity correction\n",
       "\n",
       "data:  pbs_values and camel_values\n",
       "W = 4568.5, p-value = 0.3261\n",
       "alternative hypothesis: true location shift is not equal to 0\n"
      ]
     },
     "metadata": {},
     "output_type": "display_data"
    }
   ],
   "source": [
    "#ManWhitneyU PBS-Camel Blue\n",
    "wilcox.test(pbs_values, camel_values)"
   ]
  },
  {
   "cell_type": "code",
   "execution_count": null,
   "metadata": {},
   "outputs": [],
   "source": []
  }
 ],
 "metadata": {
  "kernelspec": {
   "display_name": "R",
   "language": "R",
   "name": "ir"
  },
  "language_info": {
   "codemirror_mode": "r",
   "file_extension": ".r",
   "mimetype": "text/x-r-source",
   "name": "R",
   "pygments_lexer": "r",
   "version": "4.0.0"
  }
 },
 "nbformat": 4,
 "nbformat_minor": 4
}
